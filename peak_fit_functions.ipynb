{
 "cells": [
  {
   "cell_type": "code",
   "execution_count": 2,
   "metadata": {},
   "outputs": [],
   "source": [
    "from Explore_Dev import shoyu"
   ]
  },
  {
   "cell_type": "code",
   "execution_count": 3,
   "metadata": {},
   "outputs": [
    {
     "name": "stdout",
     "output_type": "stream",
     "text": [
      "file downloaded too raman_spectra folder\n",
      "WATER added to shoyu_data_dict.p\n",
      "file downloaded too raman_spectra folder\n",
      "CARBON MONOXIDE added to shoyu_data_dict.p\n",
      "file downloaded too raman_spectra folder\n",
      "CARBON DIOXIDE added to shoyu_data_dict.p\n",
      "file downloaded too raman_spectra folder\n",
      "FORMIC ACID added to shoyu_data_dict.p\n",
      "file downloaded too raman_spectra folder\n",
      "2-PROPANOL added to shoyu_data_dict.p\n",
      "file downloaded too raman_spectra folder\n",
      "ETHYL ALCOHOL added to shoyu_data_dict.p\n",
      "file downloaded too raman_spectra folder\n",
      "DIMETHYL KETONE added to shoyu_data_dict.p\n"
     ]
    }
   ],
   "source": [
    "shoyu.initialize_standard_library()"
   ]
  },
  {
   "cell_type": "code",
   "execution_count": null,
   "metadata": {},
   "outputs": [],
   "source": []
  }
 ],
 "metadata": {
  "kernelspec": {
   "display_name": "Python 3",
   "language": "python",
   "name": "python3"
  },
  "language_info": {
   "codemirror_mode": {
    "name": "ipython",
    "version": 3
   },
   "file_extension": ".py",
   "mimetype": "text/x-python",
   "name": "python",
   "nbconvert_exporter": "python",
   "pygments_lexer": "ipython3",
   "version": "3.7.1"
  }
 },
 "nbformat": 4,
 "nbformat_minor": 2
}
