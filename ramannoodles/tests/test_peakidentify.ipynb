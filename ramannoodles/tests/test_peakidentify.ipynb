{
 "cells": [
  {
   "cell_type": "code",
   "execution_count": 2,
   "metadata": {},
   "outputs": [],
   "source": [
    "import math\n",
    "import pandas as pd\n",
    "import numpy as np\n",
    "import matplotlib.pyplot as plt\n",
    "import pickle\n",
    "from ramannoodles import peakidentify\n",
    "from ramannoodles import shoyu\n",
    "from ramannoodles import spectrafit"
   ]
  },
  {
   "cell_type": "code",
   "execution_count": 11,
   "metadata": {},
   "outputs": [],
   "source": [
    "def test_peak_assignment():\n",
    "    \"\"\"This function tests the operation of the peak_assignment function in peakidentify.py\"\"\"\n",
    "    #First, generate a testing dataset.\n",
    "    shoyu_data_dict = pickle.load(open('../raman_spectra/shoyu_data_dict.p', 'rb'))\n",
    "    compound_1 = shoyu_data_dict['WATER']\n",
    "    compound_2 = shoyu_data_dict['CARBON MONOXIDE']\n",
    "    compound_3 = shoyu_data_dict['CARBON DIOXIDE']\n",
    "    unknown_x, unknown_y = shoyu.combine_spectra(compound_1, compound_2, plot = False)\n",
    "    unknown_x = np.asarray(unknown_x)\n",
    "    unknown_y = np.asarray(unknown_y)\n",
    "    known_compound_list = [compound_1, compound_2, compound_3]\n",
    "    precision = 0.03\n",
    "    \n",
    "    #Various try statements to make sure that bad inputs are handled correctly. \n",
    "    try:\n",
    "        peak_assignment(1, unknown_y, known_compound_list, precision, False)\n",
    "    except TypeError:\n",
    "        print(\"An invalid unknown_x was passed to the function, and it was handled well with a TypeError.\")\n",
    "    \n",
    "    try:\n",
    "        peak_assignment(unknown_x, 2, known_compound_list, precision, False)\n",
    "    except TypeError:\n",
    "        print(\"An invalid unknown_y was passed to the function, and it was handled well with a TypeError.\")\n",
    "        \n",
    "    try:\n",
    "        peak_assignment(unknown_x, unknown_y, 'string', precision, False)\n",
    "    except TypeError:\n",
    "        print(\"An invalid known_compound_list was passed to the function, and it was handled well with a TypeError.\")\n",
    "\n",
    "    try:\n",
    "        peak_assignment(unknown_x, unknown_y, [1, 3, 6], precision, False)\n",
    "    except TypeError:\n",
    "        print(\"An invalid element inside known_compound_list was passed to the function, and it was handled well with a TypeError.\")\n",
    "    \n",
    "    try:\n",
    "        peak_assignment(unknown_x, unknown_y, known_compound_list, 'precision', False)\n",
    "    except TypeError:\n",
    "        print(\"An invalid precision value was passed to the function, and it was handled well with a TypeError.\")\n",
    "    \n",
    "    try:\n",
    "        peak_assignment(1, unknown_y, known_compound_list, precision, 'False')\n",
    "    except TypeError:\n",
    "        print(\"An invalid plot value was passed to the function, and it was handled well with a TypeError.\")\n",
    "    \n",
    "    "
   ]
  },
  {
   "cell_type": "code",
   "execution_count": 12,
   "metadata": {},
   "outputs": [
    {
     "data": {
      "text/plain": [
       "<function __main__.test_peak_assignment()>"
      ]
     },
     "execution_count": 12,
     "metadata": {},
     "output_type": "execute_result"
    }
   ],
   "source": [
    "test_peak_assignment"
   ]
  },
  {
   "cell_type": "code",
   "execution_count": 16,
   "metadata": {},
   "outputs": [],
   "source": [
    "def test_compare_unknown_to_known():\n",
    "    \"\"\"This function tests the operation of the compare_unknown_to_known function in peakidentify.py\"\"\"\n",
    "    #Build our test dataset. \n",
    "    shoyu_data_dict = pickle.load(open('../raman_spectra/shoyu_data_dict.p', 'rb'))\n",
    "    compound_1 = shoyu_data_dict['WATER']\n",
    "    compound_2 = shoyu_data_dict['CARBON MONOXIDE']\n",
    "    compound_3 = shoyu_data_dict['CARBON DIOXIDE']\n",
    "    unknown_x, unknown_y = shoyu.combine_spectra(compound_1, compound_2, plot = False)\n",
    "    unknown_x = np.asarray(unknown_x)\n",
    "    unknown_y = np.asarray(unknown_y)\n",
    "    known_compound_list = [compound_1, compound_2, compound_3]\n",
    "    precision = 0.03\n",
    "    for i in range(len(known_compound_list)):\n",
    "        known_peaks[i] = spectrafit.compound_report(known_compound_list[i])\n",
    "    unknown_peaks = spectrafit.data_report(unknown_x, unknown_y)[0]\n",
    "    \n",
    "    try:\n",
    "        compare_unknown_to_known(1, known_peaks, precision)\n",
    "    except TypeError:\n",
    "        print(\"An invalid unknown_peaks value was passed to the function, and was handled correctly.\")\n",
    "    \n",
    "    try:\n",
    "        compare_unknown_to_known(unknown_peaks, 'known_peaks', precision)\n",
    "    except TypeError:\n",
    "        print(\"An invalid known_peaks value was passed to the function, and was handled correctly.\")\n",
    "    \n",
    "    try:\n",
    "        compare_unknown_to_known(unknown_peaks, known_peaks, 'precision')\n",
    "    except TypeError:\n",
    "        print(\"An invalid precision value was passed to the function, and was handled correctly.\")\n",
    "        \n",
    "    #After testing for resilience to unexpected inputs, now ensure outputs are performing as expected. \n",
    "    #First, compare one set of peaks to itself. The full association matrix should be one line, with all values = 1. \n",
    "    assert mean(compare_unknown_to_known(known_peaks[0], known_peaks[0], precision)) == 1, \"Peak Assignment Error. Comparison of compound against itself should find all peaks.\"\n",
    "    \n",
    "    assert mean(compare_unknown_to_known([1,3,6], [1000, 2000, 5000], precision)) == 0, \"Peak Assignment Error. Passed values should have no matching assignments.\""
   ]
  },
  {
   "cell_type": "code",
   "execution_count": 17,
   "metadata": {},
   "outputs": [
    {
     "data": {
      "text/plain": [
       "<function __main__.test_compare_unknown_to_known()>"
      ]
     },
     "execution_count": 17,
     "metadata": {},
     "output_type": "execute_result"
    }
   ],
   "source": [
    "test_compare_unknown_to_known"
   ]
  },
  {
   "cell_type": "code",
   "execution_count": 18,
   "metadata": {},
   "outputs": [
    {
     "ename": "SyntaxError",
     "evalue": "invalid syntax (<ipython-input-18-0652fe8a06f8>, line 20)",
     "output_type": "error",
     "traceback": [
      "\u001b[1;36m  File \u001b[1;32m\"<ipython-input-18-0652fe8a06f8>\"\u001b[1;36m, line \u001b[1;32m20\u001b[0m\n\u001b[1;33m    assert peak_position_comparisons(, , , [0,0,0])\u001b[0m\n\u001b[1;37m                                     ^\u001b[0m\n\u001b[1;31mSyntaxError\u001b[0m\u001b[1;31m:\u001b[0m invalid syntax\n"
     ]
    }
   ],
   "source": [
    "def test_peak_position_comparisons():\n",
    "    \"\"\"This function tests the operation of the peak_position_comparisons function in peakidentify.py\n",
    "    Said function returns a list of strings that contain text assignments of each peak in the unknown\n",
    "    spectrum.\"\"\"\n",
    "    \n",
    "    #First, generate good data. \n",
    "    shoyu_data_dict = pickle.load(open('../raman_spectra/shoyu_data_dict.p', 'rb'))\n",
    "    compound_1 = shoyu_data_dict['WATER']\n",
    "    compound_2 = shoyu_data_dict['CARBON MONOXIDE']\n",
    "    compound_3 = shoyu_data_dict['CARBON DIOXIDE']\n",
    "    unknown_x, unknown_y = shoyu.combine_spectra(compound_1, compound_2, plot = False)\n",
    "    unknown_x = np.asarray(unknown_x)\n",
    "    unknown_y = np.asarray(unknown_y)\n",
    "    known_compound_list = [compound_1, compound_2, compound_3]\n",
    "    precision = 0.03\n",
    "    for i in range(len(known_compound_list)):\n",
    "        known_peaks[i] = spectrafit.compound_report(known_compound_list[i])\n",
    "    unknown_peaks = spectrafit.data_report(unknown_x, unknown_y)[0]\n",
    "    association_matrix = compare_unknown_to_known(unknown_peaks, known_peaks, 0.03)\n",
    "    \n",
    "    #Then, test error handling of bad inputs for the function. \n",
    "    try:\n",
    "        peak_position_comparisons(1, known_peaks, known_compound_list, association_matrix)\n",
    "    except TypeError:\n",
    "        print(\"An invalid unknown_peaks value was passed to the function, and was handled correctly.\")\n",
    "    \n",
    "    try:\n",
    "        peak_position_comparisons(unknown_peaks, 'known_peaks', known_compound_list, association_matrix)\n",
    "    except TypeError:\n",
    "        print(\"An invalid known_peaks value was passed to the function, and was handled correctly.\")\n",
    "    \n",
    "    try:\n",
    "        peak_position_comparisons(unknown_peaks, known_peaks, 'known_compound_list', association_matrix)\n",
    "    except TypeError:\n",
    "        print(\"An invalid known_compound_list value was passed to the function, and was handled correctly.\")\n",
    "        \n",
    "    try:\n",
    "        peak_position_comparisons(unknown_peaks, known_peaks, known_compound_list, 'association_matrix')\n",
    "    except TypeError:\n",
    "        print(\"An invalid association_matrix value was passed to the function, and was handled correctly.\")\n",
    "    \n",
    "    #Test a call that says that no peaks have associations. \n",
    "    assert peak_position_comparisons(, , , [0,0,0])\n",
    "    "
   ]
  },
  {
   "cell_type": "code",
   "execution_count": 6,
   "metadata": {},
   "outputs": [],
   "source": [
    "def test_percentage_of_peaks_found():\n",
    "    \"\"\"This function tests the operation of the percentage_of_peaks_found function in peakidentify.py\"\"\"\n",
    "    \n",
    "    "
   ]
  },
  {
   "cell_type": "code",
   "execution_count": 7,
   "metadata": {},
   "outputs": [],
   "source": [
    "def test_plotting_peak_assignments():\n",
    "    \"\"\"This function tests the operation of the peak_assignment function in peakidentify.py\"\"\"\n",
    "    \n",
    "    "
   ]
  },
  {
   "cell_type": "code",
   "execution_count": null,
   "metadata": {},
   "outputs": [],
   "source": []
  }
 ],
 "metadata": {
  "kernelspec": {
   "display_name": "Python 3",
   "language": "python",
   "name": "python3"
  },
  "language_info": {
   "codemirror_mode": {
    "name": "ipython",
    "version": 3
   },
   "file_extension": ".py",
   "mimetype": "text/x-python",
   "name": "python",
   "nbconvert_exporter": "python",
   "pygments_lexer": "ipython3",
   "version": "3.7.2"
  }
 },
 "nbformat": 4,
 "nbformat_minor": 2
}
