{
 "cells": [
  {
   "cell_type": "code",
   "execution_count": 2,
   "metadata": {},
   "outputs": [],
   "source": [
    "import math\n",
    "import pandas as pd\n",
    "import numpy as np\n",
    "import matplotlib.pyplot as plt\n",
    "import pickle\n",
    "from ramannoodles import peakidentify\n",
    "from ramannoodles import shoyu\n",
    "from ramannoodles import spectrafit"
   ]
  },
  {
   "cell_type": "code",
   "execution_count": 10,
   "metadata": {},
   "outputs": [],
   "source": [
    "def test_peak_assignment():\n",
    "    \"\"\"This function tests the operation of the peak_assignment function in peakidentify.py\"\"\"\n",
    "    #First, generate a testing dataset.\n",
    "    # open spectra library\n",
    "    shoyu_data_dict = pickle.load(open('../raman_spectra/shoyu_data_dict.p', 'rb'))\n",
    "    compound_1 = shoyu_data_dict['WATER']\n",
    "    compound_2 = shoyu_data_dict['CARBON MONOXIDE']\n",
    "    compound_3 = shoyu_data_dict['CARBON DIOXIDE']\n",
    "    unknown_x, unknown_y = shoyu.combine_spectra(compound_1, compound_2, plot = False)\n",
    "    unknown_x = np.asarray(unknown_x)\n",
    "    unknown_y = np.asarray(unknown_y)\n",
    "    known_compound_list = [compound_1, compound_2, compound_3]\n",
    "    precision = 0.03\n",
    "    \n",
    "    #Various try statements to make sure that bad inputs are handled correctly. \n",
    "    try:\n",
    "        peak_assignment(1, unknown_y, known_compound_list, precision, False)\n",
    "    except TypeError:\n",
    "        print(\"An invalid unknown_x was passed to the function, and it was handled well with a TypeError.\")\n",
    "    \n",
    "    \n",
    "    "
   ]
  },
  {
   "cell_type": "code",
   "execution_count": 4,
   "metadata": {},
   "outputs": [],
   "source": [
    "def test_compare_unknown_to_known():\n",
    "    \"\"\"This function tests the operation of the compare_unknown_to_known function in peakidentify.py\"\"\"\n",
    "    \n",
    "    \n",
    "    \n",
    "    "
   ]
  },
  {
   "cell_type": "code",
   "execution_count": 5,
   "metadata": {},
   "outputs": [],
   "source": [
    "def test_peak_position_comparisons():\n",
    "    \"\"\"This function tests the operation of the peak_position_comparisons function in peakidentify.py\"\"\"\n",
    "    \n",
    "    "
   ]
  },
  {
   "cell_type": "code",
   "execution_count": 6,
   "metadata": {},
   "outputs": [],
   "source": [
    "def test_percentage_of_peaks_found():\n",
    "    \"\"\"This function tests the operation of the percentage_of_peaks_found function in peakidentify.py\"\"\"\n",
    "    \n",
    "    "
   ]
  },
  {
   "cell_type": "code",
   "execution_count": 7,
   "metadata": {},
   "outputs": [],
   "source": [
    "def test_plotting_peak_assignments():\n",
    "    \"\"\"This function tests the operation of the peak_assignment function in peakidentify.py\"\"\"\n",
    "    \n",
    "    "
   ]
  },
  {
   "cell_type": "code",
   "execution_count": null,
   "metadata": {},
   "outputs": [],
   "source": []
  }
 ],
 "metadata": {
  "kernelspec": {
   "display_name": "Python 3",
   "language": "python",
   "name": "python3"
  },
  "language_info": {
   "codemirror_mode": {
    "name": "ipython",
    "version": 3
   },
   "file_extension": ".py",
   "mimetype": "text/x-python",
   "name": "python",
   "nbconvert_exporter": "python",
   "pygments_lexer": "ipython3",
   "version": "3.7.2"
  }
 },
 "nbformat": 4,
 "nbformat_minor": 2
}
