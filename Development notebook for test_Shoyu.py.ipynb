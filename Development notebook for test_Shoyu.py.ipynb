{
 "cells": [
  {
   "cell_type": "markdown",
   "metadata": {},
   "source": [
    "# Location for developing testing functions for Shoyu.py"
   ]
  },
  {
   "cell_type": "code",
   "execution_count": 2,
   "metadata": {},
   "outputs": [],
   "source": [
    "import os\n",
    "import pickle \n",
    "import requests\n",
    "import jcamp "
   ]
  },
  {
   "cell_type": "code",
   "execution_count": 3,
   "metadata": {},
   "outputs": [],
   "source": [
    "def test_download_cas():\n",
    "    \"\"\"Testing functionality and robustness of shoyu.py's function 'download_cas' functionality\"\"\"\n",
    "    \n",
    "    #First test: pass a non-string value - integers, floats, list. \n",
    "    \n",
    "    #Second test: pass a string value that is not in the format of a cas number\n",
    "    \n",
    "    #Third test: Pass a CAS-# like object that does not exist in the NIST database. \n",
    "    \n",
    "    #Fourth test: Find a way to get the function to return a status code not being equal to 200\n",
    "    \n",
    "    #Fifth test: Pass a CAS# already present in the folder. \n",
    "    \n",
    "    return"
   ]
  },
  {
   "cell_type": "code",
   "execution_count": 4,
   "metadata": {},
   "outputs": [],
   "source": [
    "def test_add_jdx():\n",
    "    \"\"\"Testing to ensure that the shoyu.py add_jdx function can handle odd inputs.\"\"\"\n",
    "    \n",
    "    #First test: does the inversion from transmission to absorption handle NaN and None values? \n",
    "    \n",
    "    #Second test: ????\n",
    "    \n",
    "    return"
   ]
  },
  {
   "cell_type": "code",
   "execution_count": null,
   "metadata": {},
   "outputs": [],
   "source": [
    "import \n",
    "def test_initialize_standard_library():\n",
    "    \n",
    "    \n",
    "    return"
   ]
  },
  {
   "cell_type": "code",
   "execution_count": null,
   "metadata": {},
   "outputs": [],
   "source": [
    "def test_more_please():\n",
    "    \n",
    "    \n",
    "    \n",
    "    return"
   ]
  }
 ],
 "metadata": {
  "kernelspec": {
   "display_name": "Python 3",
   "language": "python",
   "name": "python3"
  },
  "language_info": {
   "codemirror_mode": {
    "name": "ipython",
    "version": 3
   },
   "file_extension": ".py",
   "mimetype": "text/x-python",
   "name": "python",
   "nbconvert_exporter": "python",
   "pygments_lexer": "ipython3",
   "version": "3.7.2"
  }
 },
 "nbformat": 4,
 "nbformat_minor": 2
}
