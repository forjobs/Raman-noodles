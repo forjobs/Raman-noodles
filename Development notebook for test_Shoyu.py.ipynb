{
 "cells": [
  {
   "cell_type": "markdown",
   "metadata": {},
   "source": [
    "# Location for developing testing functions for Shoyu.py"
   ]
  },
  {
   "cell_type": "code",
   "execution_count": 2,
   "metadata": {},
   "outputs": [],
   "source": [
    "import os\n",
    "import sys\n",
    "import pickle \n",
    "import requests\n",
    "import jcamp \n",
    "import unittest.mock\n",
    "from ramannoodles import shoyu"
   ]
  },
  {
   "cell_type": "code",
   "execution_count": 6,
   "metadata": {},
   "outputs": [
    {
     "name": "stdout",
     "output_type": "stream",
     "text": [
      "file already in raman_spectra folder\n"
     ]
    }
   ],
   "source": [
    "cas_num = '7732-18-5'\n",
    "\"\"\"\n",
    "Function that saves raman data\n",
    "downloaded from NIST webpage.\n",
    "\"\"\"\n",
    "# drop any '-' from cas_num\n",
    "cas_num = ''.join(cas_num.split('-'))\n",
    "if not os.path.exists('../raman_spectra/'+cas_num+'_NIST_IR.jdx'):\n",
    "    os.makedirs('../raman_spectra', exist_ok=True)\n",
    "    url = 'https://webbook.nist.gov/cgi/cbook.cgi?JCAMP=C'+cas_num+'&Index=1&Type=IR'\n",
    "    data = requests.get(url, allow_redirects=True)\n",
    "    if data.text == '##TITLE=Spectrum not found.\\n##END=\\n':\n",
    "        print(\"\"\"Bad Request: CAS # not found. Please verify\n",
    "         with NIST Chemistry WebBook.\"\"\")\n",
    "    else:\n",
    "        if data.status_code == 200:\n",
    "            open('../raman_spectra/'+cas_num+'_NIST_IR.jdx', 'wb').write(data.content)\n",
    "            print('file downloaded to raman_spectra folder')\n",
    "        else:\n",
    "            print('Request status: {}'.format(data.status_code))\n",
    "else:\n",
    "    print('file already in raman_spectra folder')"
   ]
  },
  {
   "cell_type": "code",
   "execution_count": 10,
   "metadata": {},
   "outputs": [],
   "source": [
    "def test_download_cas():\n",
    "    \"\"\"Testing functionality and robustness of shoyu.py's function 'download_cas' functionality\"\"\"\n",
    "    # CAS registry number for water\n",
    "    cas_num = '7732-18-5'\n",
    "    shoyu.download_cas(cas_num)\n",
    "    assert os.path.isfile('.../raman_spectra/')\n",
    "    \n",
    "    \n",
    "    #First test: pass a non-string value - integers, floats, list. \n",
    "    \n",
    "    #Second test: pass a string value that is not in the format of a cas number\n",
    "    \n",
    "    #Third test: Pass a CAS-# like object that does not exist in the NIST database. \n",
    "    \n",
    "    #Fourth test: Find a way to get the function to return a status code not being equal to 200\n",
    "    \n",
    "    #Fifth test: Pass a CAS# already present in the folder. \n",
    "    "
   ]
  },
  {
   "cell_type": "code",
   "execution_count": 7,
   "metadata": {},
   "outputs": [
    {
     "name": "stdout",
     "output_type": "stream",
     "text": [
      "file already in raman_spectra folder\n"
     ]
    }
   ],
   "source": [
    "test_download_cas()"
   ]
  },
  {
   "cell_type": "code",
   "execution_count": 7,
   "metadata": {},
   "outputs": [
    {
     "data": {
      "text/plain": [
       "['/Users/Parker1/UW_MSE/Winter 2019/DIRECT/Raman Noodles/Raman-noodles',\n",
       " '/Users/Parker1/anaconda3/lib/python37.zip',\n",
       " '/Users/Parker1/anaconda3/lib/python3.7',\n",
       " '/Users/Parker1/anaconda3/lib/python3.7/lib-dynload',\n",
       " '',\n",
       " '/Users/Parker1/anaconda3/lib/python3.7/site-packages',\n",
       " '/Users/Parker1/anaconda3/lib/python3.7/site-packages/aeosa',\n",
       " '/Users/Parker1/anaconda3/lib/python3.7/site-packages/ramannoodles-1.0-py3.7.egg',\n",
       " '/Users/Parker1/anaconda3/lib/python3.7/site-packages/IPython/extensions',\n",
       " '/Users/Parker1/.ipython']"
      ]
     },
     "execution_count": 7,
     "metadata": {},
     "output_type": "execute_result"
    }
   ],
   "source": []
  },
  {
   "cell_type": "code",
   "execution_count": 4,
   "metadata": {},
   "outputs": [],
   "source": [
    "def test_add_jdx():\n",
    "    \"\"\"Testing to ensure that the shoyu.py add_jdx function can handle odd inputs.\"\"\"\n",
    "    \n",
    "    #First test: does the inversion from transmission to absorption handle NaN and None values? \n",
    "    \n",
    "    #Second test: ????\n",
    "    \n",
    "    return"
   ]
  },
  {
   "cell_type": "code",
   "execution_count": null,
   "metadata": {},
   "outputs": [],
   "source": [
    "import \n",
    "def test_initialize_standard_library():\n",
    "    \n",
    "    \n",
    "    return"
   ]
  },
  {
   "cell_type": "code",
   "execution_count": null,
   "metadata": {},
   "outputs": [],
   "source": [
    "def test_more_please():\n",
    "    \n",
    "    \n",
    "    \n",
    "    return"
   ]
  }
 ],
 "metadata": {
  "kernelspec": {
   "display_name": "Python 3",
   "language": "python",
   "name": "python3"
  },
  "language_info": {
   "codemirror_mode": {
    "name": "ipython",
    "version": 3
   },
   "file_extension": ".py",
   "mimetype": "text/x-python",
   "name": "python",
   "nbconvert_exporter": "python",
   "pygments_lexer": "ipython3",
   "version": "3.7.1"
  }
 },
 "nbformat": 4,
 "nbformat_minor": 2
}
