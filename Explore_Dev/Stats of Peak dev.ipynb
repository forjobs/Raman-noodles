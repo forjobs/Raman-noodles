{
 "cells": [
  {
   "cell_type": "code",
   "execution_count": 8,
   "metadata": {},
   "outputs": [],
   "source": [
    "from ramannoodles import water\n",
    "from ramannoodles import carbonmonoxide"
   ]
  },
  {
   "cell_type": "code",
   "execution_count": 9,
   "metadata": {},
   "outputs": [
    {
     "ename": "NameError",
     "evalue": "name 'spectrafit' is not defined",
     "output_type": "error",
     "traceback": [
      "\u001b[1;31m---------------------------------------------------------------------------\u001b[0m",
      "\u001b[1;31mNameError\u001b[0m                                 Traceback (most recent call last)",
      "\u001b[1;32m<ipython-input-9-b7831b2bf101>\u001b[0m in \u001b[0;36m<module>\u001b[1;34m\u001b[0m\n\u001b[0;32m      1\u001b[0m \u001b[1;31m#water.water()\u001b[0m\u001b[1;33m\u001b[0m\u001b[1;33m\u001b[0m\u001b[1;33m\u001b[0m\u001b[0m\n\u001b[1;32m----> 2\u001b[1;33m \u001b[0mcarbonmonoxide\u001b[0m\u001b[1;33m.\u001b[0m\u001b[0mCarbonMonoxide\u001b[0m\u001b[1;33m(\u001b[0m\u001b[1;33m)\u001b[0m\u001b[1;33m\u001b[0m\u001b[1;33m\u001b[0m\u001b[0m\n\u001b[0m",
      "\u001b[1;32m~\\Anaconda3\\lib\\site-packages\\ramannoodles-1.0-py3.6.egg\\ramannoodles\\carbonmonoxide.py\u001b[0m in \u001b[0;36mCarbonMonoxide\u001b[1;34m()\u001b[0m\n\u001b[0;32m     24\u001b[0m     \u001b[1;31m#print(xmin,xmax,xrange)\u001b[0m\u001b[1;33m\u001b[0m\u001b[1;33m\u001b[0m\u001b[1;33m\u001b[0m\u001b[0m\n\u001b[0;32m     25\u001b[0m     \u001b[1;31m# detect peaks\u001b[0m\u001b[1;33m\u001b[0m\u001b[1;33m\u001b[0m\u001b[1;33m\u001b[0m\u001b[0m\n\u001b[1;32m---> 26\u001b[1;33m     \u001b[0mpeaks\u001b[0m \u001b[1;33m=\u001b[0m \u001b[0mspectrafit\u001b[0m\u001b[1;33m.\u001b[0m\u001b[0mfind_peaks\u001b[0m\u001b[1;33m(\u001b[0m\u001b[0mx_data\u001b[0m\u001b[1;33m,\u001b[0m \u001b[0my_data\u001b[0m\u001b[1;33m)\u001b[0m\u001b[0;31m\\\u001b[0m\u001b[1;33m\u001b[0m\u001b[1;33m\u001b[0m\u001b[0m\n\u001b[0m\u001b[0;32m     27\u001b[0m     \u001b[1;31m# assign parameters for least squares fit\u001b[0m\u001b[1;33m\u001b[0m\u001b[1;33m\u001b[0m\u001b[1;33m\u001b[0m\u001b[0m\n\u001b[0;32m     28\u001b[0m     \u001b[0mmod\u001b[0m\u001b[1;33m,\u001b[0m \u001b[0mpars\u001b[0m \u001b[1;33m=\u001b[0m \u001b[0mspectrafit\u001b[0m\u001b[1;33m.\u001b[0m\u001b[0mlorentz_params\u001b[0m\u001b[1;33m(\u001b[0m\u001b[0mpeaks\u001b[0m\u001b[1;33m)\u001b[0m\u001b[1;33m\u001b[0m\u001b[1;33m\u001b[0m\u001b[0m\n",
      "\u001b[1;31mNameError\u001b[0m: name 'spectrafit' is not defined"
     ]
    }
   ],
   "source": [
    "#water.water()\n",
    "carbonmonoxide.CarbonMonoxide()"
   ]
  },
  {
   "cell_type": "code",
   "execution_count": null,
   "metadata": {},
   "outputs": [],
   "source": []
  },
  {
   "cell_type": "code",
   "execution_count": null,
   "metadata": {},
   "outputs": [],
   "source": []
  },
  {
   "cell_type": "code",
   "execution_count": null,
   "metadata": {},
   "outputs": [],
   "source": []
  },
  {
   "cell_type": "code",
   "execution_count": null,
   "metadata": {},
   "outputs": [],
   "source": []
  },
  {
   "cell_type": "code",
   "execution_count": 1,
   "metadata": {},
   "outputs": [],
   "source": [
    "import pandas as pd\n",
    "import numpy as np\n",
    "import matplotlib.pyplot as plt\n",
    "import sys\n",
    "import os\n",
    "import peakutils\n",
    "import jcamp\n",
    "from ramannoodles import shoyu\n",
    "import pickle"
   ]
  },
  {
   "cell_type": "code",
   "execution_count": null,
   "metadata": {},
   "outputs": [],
   "source": []
  },
  {
   "cell_type": "code",
   "execution_count": 2,
   "metadata": {
    "scrolled": true
   },
   "outputs": [
    {
     "name": "stdout",
     "output_type": "stream",
     "text": [
      "file already in raman_spectra folder\n",
      "WATER loaded into the dictionary - shoyu_data_dict.p\n",
      "file already in raman_spectra folder\n",
      "CARBON MONOXIDE loaded into the dictionary - shoyu_data_dict.p\n",
      "file already in raman_spectra folder\n",
      "CARBON DIOXIDE loaded into the dictionary - shoyu_data_dict.p\n",
      "file already in raman_spectra folder\n",
      "FORMIC ACID loaded into the dictionary - shoyu_data_dict.p\n",
      "file already in raman_spectra folder\n",
      "2-PROPANOL loaded into the dictionary - shoyu_data_dict.p\n",
      "file already in raman_spectra folder\n",
      "ETHYL ALCOHOL loaded into the dictionary - shoyu_data_dict.p\n",
      "file already in raman_spectra folder\n",
      "DIMETHYL KETONE loaded into the dictionary - shoyu_data_dict.p\n"
     ]
    },
    {
     "data": {
      "text/plain": [
       "['2-PROPANOL',\n",
       " 'CARBON DIOXIDE',\n",
       " 'CARBON MONOXIDE',\n",
       " 'DIMETHYL KETONE',\n",
       " 'ETHYL ALCOHOL',\n",
       " 'FORMIC ACID',\n",
       " 'WATER']"
      ]
     },
     "execution_count": 2,
     "metadata": {},
     "output_type": "execute_result"
    }
   ],
   "source": [
    "shoyu.initialize_standard_library()\n",
    "# import data dict\n",
    "shoyu_data_dict = pickle.load(open('raman_spectra/shoyu_data_dict.p', 'rb'))\n",
    "sorted(shoyu_data_dict.keys())\n"
   ]
  },
  {
   "cell_type": "code",
   "execution_count": 40,
   "metadata": {},
   "outputs": [
    {
     "name": "stdout",
     "output_type": "stream",
     "text": [
      "<class 'dict'>\n",
      "[2119.854823 2176.03476 ]\n",
      "[0.854 0.854]\n",
      "[2119.02188167 2177.35451609]\n"
     ]
    },
    {
     "data": {
      "image/png": "[encoded data removed]",
      "text/plain": [
       "<Figure size 1080x432 with 1 Axes>"
      ]
     },
     "metadata": {
      "needs_background": "light"
     },
     "output_type": "display_data"
    }
   ],
   "source": [
    "dataCM = shoyu_data_dict['CARBON MONOXIDE']\n",
    "print(type(dataCM))\n",
    "indexes = peakutils.indexes(dataCM['y'], thres=0.4/max(dataCM['y']), min_dist=10)\n",
    "plt.figure(figsize=(15,6))\n",
    "plt.plot(dataCM['x'], dataCM['y'])\n",
    "plt.scatter(dataCM['x'][indexes], dataCM['y'][indexes])\n",
    "# Plots a line between the peak points\n",
    "plt.plot(dataCM['x'][indexes],dataCM['y'][indexes], marker=\"o\", ms=3 )\n",
    "plt.title('First estimate')\n",
    "peak_location =dataCM['x'][indexes]\n",
    "peak_height = dataCM['y'][indexes]\n",
    "print(peak_location)\n",
    "print(peak_height)\n",
    "# We can enhance the resolution by using interpolation. We will try to fit a Gaussian near each previously detected peak.\n",
    "peaks_x = peakutils.interpolate(dataCM['x'], dataCM['y'], ind=indexes)\n",
    "print(peaks_x)\n",
    "for i in indexes:\n",
    "    peak_index = dataCM['x'][i]\n",
    "    plt.axvline(x=peak_index, color='orange')"
   ]
  },
  {
   "cell_type": "code",
   "execution_count": 4,
   "metadata": {},
   "outputs": [],
   "source": [
    "import scipy.stats as stats\n",
    "from sklearn import linear_model\n",
    "from sklearn.model_selection import train_test_split\n",
    "from sklearn.metrics import mean_squared_error\n",
    "from ramannoodles import spectrafit"
   ]
  },
  {
   "cell_type": "code",
   "execution_count": 70,
   "metadata": {},
   "outputs": [
    {
     "name": "stdout",
     "output_type": "stream",
     "text": [
      "[[Model]]\n",
      "    (Model(lorentzian, prefix='p1_') + Model(lorentzian, prefix='p2_'))\n",
      "[[Fit Statistics]]\n",
      "    # fitting method   = leastsq\n",
      "    # function evals   = 130\n",
      "    # data points      = 3574\n",
      "    # variables        = 8\n",
      "    chi-square         = 2.20981072\n",
      "    reduced chi-square = 6.1969e-04\n",
      "    Akaike info crit   = -26390.6199\n",
      "    Bayesian info crit = -26341.1684\n",
      "[[Variables]]\n",
      "    p1_sigma:      26.8784904 (init = 1)\n",
      "    p1_center:     2109.85482 (init = 2119.855)\n",
      "    p1_amplitude:  66.7644635 (init = 1)\n",
      "    p1_fwhm:       53.7569808 == '2.0000000*p1_sigma'\n",
      "    p1_height:     0.85400000 (init = 0.854)\n",
      "    p2_sigma:      21.1897865 (init = 1)\n",
      "    p2_center:     2183.63592 (init = 2176.035)\n",
      "    p2_amplitude:  52.0596254 (init = 1)\n",
      "    p2_fwhm:       42.3795730 == '2.0000000*p2_sigma'\n",
      "    p2_height:     0.85400000 (init = 0.854)\n",
      "\n"
     ]
    },
    {
     "data": {
      "image/png": "[encoded data removed]",
      "text/plain": [
       "<Figure size 1080x432 with 1 Axes>"
      ]
     },
     "metadata": {
      "needs_background": "light"
     },
     "output_type": "display_data"
    },
    {
     "data": {
      "text/plain": [
       "(457.865, 3803.38, 21.189786504992924, 2183.63591628543, 52.059625373305245)"
      ]
     },
     "execution_count": 70,
     "metadata": {},
     "output_type": "execute_result"
    }
   ],
   "source": [
    "# # extract spectra data\n",
    "# data = shoyu_data_dict['FORMIC ACID']\n",
    "# x_data = data['x']\n",
    "# y_data = data['y']\n",
    "# # subtract baseline\n",
    "# y_data = spectrafit.subtract_baseline(y_data, deg=3, plot=True, x_data=x_data)\n",
    "# extract spectra data\n",
    "def CarbonMonoxide():\n",
    "    data = shoyu_data_dict['CARBON MONOXIDE']\n",
    "    x_data = data['x']\n",
    "    y_data = data['y']\n",
    "    xmin = data['x'].min()\n",
    "    xmax = data['x'].max()\n",
    "    xrange=xmax-xmin\n",
    "    # # subtract baseline\n",
    "    # y_data = spectrafit.subtract_baseline(y_data, deg=3, plot=True, x_data=x_data)\n",
    "    #print(xmin,xmax,xrange)\n",
    "    # detect peaks\n",
    "    peaks = spectrafit.find_peaks(x_data, y_data)\\\n",
    "    # assign parameters for least squares fit\n",
    "    mod, pars = spectrafit.lorentz_params(peaks)\n",
    "    # fit the model to the data\n",
    "    out = spectrafit.model_fit(x_data, y_data, mod, pars, report=True)\n",
    "    # plot fit results\n",
    "    plot = spectrafit.plot_fit(x_data, y_data, out, plot_components=True)\n",
    "    # export data in logical structure (see docstring)\n",
    "    fit_peak_data = spectrafit.export_fit_data(out)\n",
    "    # print docstring which outlines data structure\n",
    "    spectrafit.export_fit_data.__doc__\n",
    "    for i in range(len(fit_peak_data)):\n",
    "        sigma = fit_peak_data[i][0]  \n",
    "        center = fit_peak_data[i][1]    \n",
    "        amplitude = fit_peak_data[i][2] \n",
    "    return xmin,xmax,sigma,center,amplitude\n",
    "CarbonMonoxide()"
   ]
  },
  {
   "cell_type": "code",
   "execution_count": 23,
   "metadata": {},
   "outputs": [],
   "source": [
    "# detect peaks\n",
    "peaks = spectrafit.find_peaks(x_data, y_data)"
   ]
  },
  {
   "cell_type": "code",
   "execution_count": 24,
   "metadata": {},
   "outputs": [],
   "source": [
    "# assign parameters for least squares fit\n",
    "mod, pars = spectrafit.lorentz_params(peaks)"
   ]
  },
  {
   "cell_type": "code",
   "execution_count": 8,
   "metadata": {},
   "outputs": [
    {
     "name": "stdout",
     "output_type": "stream",
     "text": [
      "[[Model]]\n",
      "    (Model(lorentzian, prefix='p1_') + Model(lorentzian, prefix='p2_'))\n",
      "[[Fit Statistics]]\n",
      "    # fitting method   = leastsq\n",
      "    # function evals   = 122\n",
      "    # data points      = 3574\n",
      "    # variables        = 8\n",
      "    chi-square         = 2.22664863\n",
      "    reduced chi-square = 6.2441e-04\n",
      "    Akaike info crit   = -26363.4906\n",
      "    Bayesian info crit = -26314.0391\n",
      "[[Variables]]\n",
      "    p1_sigma:      26.8455697 (init = 1)\n",
      "    p1_center:     2109.85482 (init = 2119.855)\n",
      "    p1_amplitude:  66.7432666 (init = 1)\n",
      "    p1_fwhm:       53.6911393 == '2.0000000*p1_sigma'\n",
      "    p1_height:     0.85332386 (init = 0.8533239)\n",
      "    p2_sigma:      21.0357689 (init = 1)\n",
      "    p2_center:     2183.58416 (init = 2176.035)\n",
      "    p2_amplitude:  51.6566695 (init = 1)\n",
      "    p2_fwhm:       42.0715378 == '2.0000000*p2_sigma'\n",
      "    p2_height:     0.85240108 (init = 0.8524011)\n",
      "\n"
     ]
    }
   ],
   "source": [
    "# fit the model to the data\n",
    "out = spectrafit.model_fit(x_data, y_data, mod, pars, report=True)"
   ]
  },
  {
   "cell_type": "code",
   "execution_count": 9,
   "metadata": {},
   "outputs": [
    {
     "data": {
      "image/png": "[encoded data removed]",
      "text/plain": [
       "<Figure size 1080x432 with 1 Axes>"
      ]
     },
     "metadata": {
      "needs_background": "light"
     },
     "output_type": "display_data"
    }
   ],
   "source": [
    "# plot fit results\n",
    "spectrafit.plot_fit(x_data, y_data, out, plot_components=True)"
   ]
  },
  {
   "cell_type": "code",
   "execution_count": 10,
   "metadata": {},
   "outputs": [
    {
     "name": "stdout",
     "output_type": "stream",
     "text": [
      "[array([  26.84556967, 2109.85482311,   66.74326658,   53.69113934,\n",
      "       2109.85482311]), array([  21.0357689 , 2183.58416498,   51.65666953,   42.07153781,\n",
      "       2183.58416498])]\n"
     ]
    }
   ],
   "source": [
    "# export data in logical structure (see docstring)\n",
    "fit_peak_data = spectrafit.export_fit_data(out)\n",
    "fit_peak_data\n",
    "print(fit_peak_data)"
   ]
  },
  {
   "cell_type": "code",
   "execution_count": 11,
   "metadata": {},
   "outputs": [
    {
     "data": {
      "text/plain": [
       "'\\n    fit_peak_data[i][0] = p[i]_simga\\n    fit_peak_data[i][1] = p[i]_center\\n    fit_peak_data[i][2] = p[i]_amplitude\\n    fit_peak_data[i][3] = p[i]_fwhm\\n    fit_peak_data[i][4] = p[i]_center\\n    '"
      ]
     },
     "execution_count": 11,
     "metadata": {},
     "output_type": "execute_result"
    }
   ],
   "source": [
    "# print docstring which outlines data structure\n",
    "spectrafit.export_fit_data.__doc__"
   ]
  },
  {
   "cell_type": "code",
   "execution_count": null,
   "metadata": {},
   "outputs": [],
   "source": []
  },
  {
   "cell_type": "code",
   "execution_count": null,
   "metadata": {},
   "outputs": [],
   "source": []
  },
  {
   "cell_type": "code",
   "execution_count": null,
   "metadata": {},
   "outputs": [],
   "source": []
  },
  {
   "cell_type": "code",
   "execution_count": null,
   "metadata": {},
   "outputs": [],
   "source": []
  },
  {
   "cell_type": "code",
   "execution_count": null,
   "metadata": {},
   "outputs": [],
   "source": []
  },
  {
   "cell_type": "code",
   "execution_count": null,
   "metadata": {},
   "outputs": [],
   "source": []
  },
  {
   "cell_type": "code",
   "execution_count": null,
   "metadata": {},
   "outputs": [],
   "source": []
  },
  {
   "cell_type": "code",
   "execution_count": null,
   "metadata": {},
   "outputs": [],
   "source": []
  },
  {
   "cell_type": "code",
   "execution_count": null,
   "metadata": {},
   "outputs": [],
   "source": []
  },
  {
   "cell_type": "code",
   "execution_count": 67,
   "metadata": {},
   "outputs": [
    {
     "name": "stdout",
     "output_type": "stream",
     "text": [
      "       sigma       center        amp       fwhm       center\n",
      "0  26.845570  2109.854823  66.743267  53.691139  2109.854823\n",
      "1  21.035769  2183.584165  51.656670  42.071538  2183.584165\n",
      "42.07153780736084\n",
      "42.07153780736084\n"
     ]
    }
   ],
   "source": [
    "# print(data['x'][0:3])\n",
    "# print(data['y'][0:3])\n",
    "\n",
    "from sklearn import linear_model\n",
    "from sklearn import preprocessing\n",
    "from sklearn import svm\n",
    "from sklearn.model_selection import train_test_split\n",
    "from sklearn.feature_selection import VarianceThreshold\n",
    "\n",
    "peak_df = pd.DataFrame(data=fit_peak_data,columns=['sigma','center','amp','fwhm','center'])\n",
    "print(peak_df)\n",
    "print(fit_peak_data[1][3]) # As an array\n",
    "print(peak_df.loc[1][3]) # As a dataframe\n",
    "\n",
    "\n",
    "def NoodlingML(data):\n",
    "    \"This is a function to scale and split the data into test and training cases\"\n",
    "#     # This is where we begin a train test split of the dataset \n",
    "    \n",
    "#     # This is how we choose our \n",
    "    \n",
    "    \n",
    "#     # Train and test split data\n",
    "#     train, test = train_test_split(data, test_size=0.2, random_state=1010)\n",
    "    \n",
    "#     # Optional Setting X train and Testing up front\n",
    "#     X_train, X_test,Y_train, Y_test = train_test_split(data, test_size=0.2, random_state=1010)\n",
    "    \n",
    "#     # This is where we say what regression we are \n",
    "    \n",
    "#     # Polynomial regression?\n",
    "    \n",
    "#     # Thoughts?\n",
    "    \n",
    "#     # Lasso Regression?\n",
    "    \n",
    "#     # Thoughts?\n",
    "    \n",
    "#     #This is where we have our train and test for Y\n",
    "#     train_y=train['data columns']\n",
    "#     train_y=train['data columns']\n",
    "#     # This is where we have our train and test for X\n",
    "#     train_y=train['data columns']\n",
    "#     train_y=train['data columns']\n",
    "    \n",
    "#     something_x = train_x\n",
    "#     somthingelse_x =test_x\n",
    "#     somenumber = 11\n",
    "#     # If needed for the experimental data, this is where we rescale the data\n",
    "#     # By using the preprocessing function from sklearn\n",
    "#     something_x_scaled = preprocessing.normalize(something_x, 'norm'= somenumber)\n",
    "#     somethingelse_x_scaled = preprocessing.normalize(somethingelse_x, 'norm'= somenumber)\n",
    "    \n",
    "    \n",
    "#     # This is where we confirm our model of regression\n",
    "    \n",
    "#     # This is where we fit our training data\n",
    "#     model=Lassomodel.fit(train_x,train_y)\n",
    "    \n",
    "#     # THis is where we predict our train and test\n",
    "#     train_predict = model.predict(something_x_scaled)\n",
    "#     test_predict = model.predict(somethingelse_x_scaled)\n",
    "    \n",
    "#     # This is where we want to save our results\n",
    "    \n",
    "#     # Probably want to use a pickle dump \n",
    "    \n",
    "#     filename='somecoolfilename.'\n",
    "#     pickle.dump(model,open(filename,'wb'))\n",
    "    \n",
    "    \n",
    "    return\n",
    "def test_NoodlingML(data):\n",
    "    \"This is a function to test the scalingsplitting function\"\n",
    "    assert isinstance(data, np.ndarray), 'Input is not a numpy.ndarray'\n",
    "    # Since we want to make sure that the data remains a dictionary object\n",
    "    return\n",
    "def bootstrapping(data):\n",
    "    \"This is a function to run the statistics of the peaks over repeated samples ie bootstrapping\"\n",
    "    # This is where we initialize our variables \n",
    "    \n",
    "    # This is where we repeat samples and get confidence intervals\n",
    "    \n",
    "    \n",
    "    \n",
    "    \n",
    "    \n",
    "    # off by x and thus 70% CI\n",
    "    \n",
    "    # off by y and thus 30 % CI for each peak location by and x and y\n",
    "    \n",
    "    \n",
    "    \n",
    "    # The user has to define the predefined peaks \n",
    "    \n",
    "    # And get the 4+1 pulls from NIst\n",
    "    return\n",
    "def test_scalingandsplitting(data):\n",
    "    \"This is a function to test the bootsrapping function\"\n",
    "    assert isinstance(data, np.ndarray), 'Input  is not a numpy.ndarray'\n",
    "    # Since we want to make sure that the data remains a dictionary object\n",
    "    return\n",
    "def PeakSort(data):\n",
    "    \"This function will take the peaks from spectra fit and sort them\"\n",
    "    # Initialize all variables \n",
    "    \n",
    "    # Take all the peaks into an array\n",
    "    \n",
    "    # Save index\n",
    "    \n",
    "    # Order them by wavenumber \n",
    "    \n",
    "    # This is the center variable \n",
    "    \n",
    "    \n",
    "    # If loops for user parameters \n",
    "    \n",
    "    # For different decomposition conditions\n",
    "    \n",
    "    \n",
    "    # Given the decomposition structure the peaks will disappear \n",
    "    \n",
    "    # Thus Drop out certain threshold amplitude\n",
    "    \n",
    "    # In the dataframe make a new column with a new index\n",
    "    \n",
    "    # Get the gap distance \n",
    "    \n",
    "    # Search the gap distance within other given spectra\n",
    "    \n",
    "    # Threshold this gap distance \n",
    "    return\n",
    "def test_PeakSort(data):\n",
    "    \"This is a function to test the peak sort function\"\n",
    "    assert isinstance(data, np.ndarray), 'Input  is not a numpy.ndarray'\n",
    "    # Since we want to make sure that the data remains a dictionary object\n",
    "    \n",
    "    # Input is instance of np.array \n",
    "    \n",
    "    # Certain peaks have been dropped out at threshold amplitude \n",
    "    \n",
    "    # Make a new with only the amplitudes\n",
    "    \n",
    "    # Array = peaks[i][3[] for I in range(len(inarray))\n",
    "    \n",
    "    # Assert minimum of the threshold amplitude values is dropped \n",
    "\n",
    "    return\n",
    "def PeakSaveDescriptors(data):\n",
    "    \"This function will take the sorted peaks and save the descriptors from them\"\n",
    "    # Initialize all variables \n",
    "    \n",
    "    # SAve the descriptors from the sorted peaks \n",
    "    \n",
    "    #Remember that sigma is half of the fwhm \n",
    "    \n",
    "    # \n",
    "    return \n",
    "def test_PeakSaveDescriptors(data):\n",
    "    \"This function will test the PeakSaveDescriptors function\"\n",
    "    assert isinstance(data, np.ndarray), 'Input  is not a numpy.ndarray'\n",
    "    # Since we want to make sure that the data remains a dictionary object\n",
    "    return\n",
    "\n",
    "def PolyRegression(data):\n",
    "    \"This function will run a polynomial regression\"\n",
    "    return\n",
    "\n",
    "def test_PolyRegression(data):\n",
    "    \"This function will test the PeakSaveDescriptors function\"\n",
    "    assert isinstance(data, np.ndarray), 'Input  is not a numpy.ndarray'\n",
    "    # Since we want to make sure that the data remains a dictionary object\n",
    "    return"
   ]
  },
  {
   "cell_type": "markdown",
   "metadata": {},
   "source": []
  }
 ],
 "metadata": {
  "kernelspec": {
   "display_name": "Python 3",
   "language": "python",
   "name": "python3"
  },
  "language_info": {
   "codemirror_mode": {
    "name": "ipython",
    "version": 3
   },
   "file_extension": ".py",
   "mimetype": "text/x-python",
   "name": "python",
   "nbconvert_exporter": "python",
   "pygments_lexer": "ipython3",
   "version": "3.6.8"
  }
 },
 "nbformat": 4,
 "nbformat_minor": 2
}
