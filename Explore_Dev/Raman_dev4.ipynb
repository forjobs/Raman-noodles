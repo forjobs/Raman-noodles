{
 "cells": [
  {
   "cell_type": "code",
   "execution_count": 1,
   "metadata": {},
   "outputs": [],
   "source": [
    "import pickle\n",
    "import shoyu\n",
    "import os"
   ]
  },
  {
   "cell_type": "code",
   "execution_count": 2,
   "metadata": {},
   "outputs": [],
   "source": [
    "def initialize_standard_library():\n",
    "    # dictionary of CAS registry numbers for standard library\n",
    "    cas_lib = {'water':'7732-18-5',\n",
    "               'carbon monoxide':'630-08-0',\n",
    "               'carbon dioxide':'124-38-9',\n",
    "               'formic acid':'64-18-6',\n",
    "               'isopropyl alcohol':'67-63-0',\n",
    "               'ethanol':'64-17-5',\n",
    "               'acetone':'67-64-1'}\n",
    "    # initialize empty shoyu_data_dict\n",
    "    shoyu_data_dict = {}\n",
    "    os.makedirs('raman_spectra', exist_ok=True)\n",
    "    pickle.dump(shoyu_data_dict, open('raman_spectra/shoyu_data_dict.p', 'wb'))\n",
    "    for item in cas_lib:\n",
    "        cas_num = ''.join(cas_lib[item].split('-'))\n",
    "        shoyu.download_cas(cas_num)\n",
    "        shoyu.add_jdx('raman_spectra/'+cas_num+'_NIST_IR.jdx', label=None)"
   ]
  },
  {
   "cell_type": "code",
   "execution_count": 3,
   "metadata": {},
   "outputs": [
    {
     "name": "stdout",
     "output_type": "stream",
     "text": [
      "file already in raman_spectra folder\n",
      "WATER added to shoyu_data_dict.p\n",
      "file already in raman_spectra folder\n",
      "CARBON MONOXIDE added to shoyu_data_dict.p\n",
      "file already in raman_spectra folder\n",
      "CARBON DIOXIDE added to shoyu_data_dict.p\n",
      "file already in raman_spectra folder\n",
      "FORMIC ACID added to shoyu_data_dict.p\n",
      "file already in raman_spectra folder\n",
      "2-PROPANOL added to shoyu_data_dict.p\n",
      "file already in raman_spectra folder\n",
      "ETHYL ALCOHOL added to shoyu_data_dict.p\n",
      "file already in raman_spectra folder\n",
      "DIMETHYL KETONE added to shoyu_data_dict.p\n"
     ]
    }
   ],
   "source": [
    "shoyu.initialize_standard_library()"
   ]
  },
  {
   "cell_type": "code",
   "execution_count": 4,
   "metadata": {},
   "outputs": [
    {
     "data": {
      "text/plain": [
       "['2-PROPANOL',\n",
       " 'CARBON DIOXIDE',\n",
       " 'CARBON MONOXIDE',\n",
       " 'DIMETHYL KETONE',\n",
       " 'ETHYL ALCOHOL',\n",
       " 'FORMIC ACID',\n",
       " 'WATER']"
      ]
     },
     "execution_count": 4,
     "metadata": {},
     "output_type": "execute_result"
    }
   ],
   "source": [
    "shoyu_data_dict = pickle.load(open('raman_spectra/shoyu_data_dict.p', 'rb'))\n",
    "sorted(shoyu_data_dict.keys())"
   ]
  },
  {
   "cell_type": "code",
   "execution_count": 5,
   "metadata": {},
   "outputs": [
    {
     "data": {
      "text/plain": [
       "{'title': 'WATER',\n",
       " 'jcamp-dx': 4.24,\n",
       " 'data type': 'INFRARED SPECTRUM',\n",
       " 'class': 'COBLENTZ III',\n",
       " 'origin': 'DOW CHEMICAL COMPANY',\n",
       " 'owner': 'COBLENTZ SOCIETY',\n",
       " 'date': '1969/10/21',\n",
       " 'cas registry no': '7732-18-5',\n",
       " 'molform': 'H2 O',\n",
       " 'source reference': 'COBLENTZ NO. 10116',\n",
       " '$nist source': 'COBLENTZ',\n",
       " '$nist image': 'cob10116',\n",
       " 'spectrometer/data system': 'DOW KBr FOREPRISM-GRATING',\n",
       " 'instrument parameters': 'BLAZED AT 3.5, 12.0, 20.0 MICRON, CHANGED AT 5.0, 7.5, 14.9 MICRON',\n",
       " 'state': 'LIQUID (NEAT)',\n",
       " 'path length': 'CAPILLARY, AgCl PLATES',\n",
       " 'sampling procedure': 'TRANSMISSION',\n",
       " 'resolution': 4,\n",
       " 'data processing': 'DIGITIZED BY NIST FROM HARD COPY (FROM TWO SEGMENTS)',\n",
       " 'xunits': '1/CM',\n",
       " 'yunits': 'ABSORBANCE',\n",
       " 'xfactor': 1.0,\n",
       " 'yfactor': 1,\n",
       " 'deltax': 0.870985,\n",
       " 'firstx': 388.677,\n",
       " 'lastx': 3799.46,\n",
       " 'firsty': 0.438,\n",
       " 'maxx': 3799.46,\n",
       " 'minx': 388.677,\n",
       " 'maxy': 0.987,\n",
       " 'miny': 0.001,\n",
       " 'npoints': 3917,\n",
       " 'xydata': '(X++(Y..Y))',\n",
       " 'end': '',\n",
       " 'x': array([ 388.677     ,  389.76573175,  390.8544635 , ..., 3798.584862  ,\n",
       "        3798.584862  , 3799.46      ]),\n",
       " 'y': array([0.562 , 0.562 , 0.563 , ..., 0.1147, 0.115 , 0.115 ]),\n",
       " 'filename': 'raman_spectra/7732185_NIST_IR.jdx'}"
      ]
     },
     "execution_count": 5,
     "metadata": {},
     "output_type": "execute_result"
    }
   ],
   "source": [
    "shoyu_data_dict['WATER']"
   ]
  },
  {
   "cell_type": "code",
   "execution_count": null,
   "metadata": {},
   "outputs": [],
   "source": []
  }
 ],
 "metadata": {
  "kernelspec": {
   "display_name": "Python 3",
   "language": "python",
   "name": "python3"
  },
  "language_info": {
   "codemirror_mode": {
    "name": "ipython",
    "version": 3
   },
   "file_extension": ".py",
   "mimetype": "text/x-python",
   "name": "python",
   "nbconvert_exporter": "python",
   "pygments_lexer": "ipython3",
   "version": "3.7.1"
  }
 },
 "nbformat": 4,
 "nbformat_minor": 2
}
