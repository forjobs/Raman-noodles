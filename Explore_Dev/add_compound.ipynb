{
 "cells": [
  {
   "cell_type": "markdown",
   "metadata": {},
   "source": [
    "## Use shoyu.py"
   ]
  },
  {
   "cell_type": "code",
   "execution_count": 1,
   "metadata": {},
   "outputs": [],
   "source": [
    "import shoyu\n",
    "import pickle"
   ]
  },
  {
   "cell_type": "markdown",
   "metadata": {},
   "source": [
    "Use this notebook to add new compounds to the shoyu_data_dict.  \n",
    "Handles CAS numbers with or without dashes.  \n",
    "`label=None` takes label from the title of the jdx."
   ]
  },
  {
   "cell_type": "code",
   "execution_count": 14,
   "metadata": {},
   "outputs": [
    {
     "name": "stdout",
     "output_type": "stream",
     "text": [
      "file already in raman_spectra folder\n",
      "METHANE added to shoyu_data_dict.p\n"
     ]
    }
   ],
   "source": [
    "shoyu_data_dict = shoyu.more_please('74-82-8', label=None)"
   ]
  },
  {
   "cell_type": "code",
   "execution_count": 15,
   "metadata": {},
   "outputs": [
    {
     "data": {
      "text/plain": [
       "['Benzene',\n",
       " 'CARBON DIOXIDE',\n",
       " 'CARBON MONOXIDE',\n",
       " 'DIMETHYL KETONE',\n",
       " 'ETHANE',\n",
       " 'ETHYL ALCOHOL',\n",
       " 'FORMIC ACID',\n",
       " 'METHANE',\n",
       " 'WATER',\n",
       " 'n-PENTANE']"
      ]
     },
     "execution_count": 15,
     "metadata": {},
     "output_type": "execute_result"
    }
   ],
   "source": [
    "sorted(shoyu_data_dict.keys())"
   ]
  },
  {
   "cell_type": "markdown",
   "metadata": {},
   "source": [
    "Use the two commands below to delete an entry from shoyu_data_dict.p  \n",
    "Be sure to pickle dump or the entry will still be there next time a spectra is added."
   ]
  },
  {
   "cell_type": "code",
   "execution_count": 4,
   "metadata": {},
   "outputs": [],
   "source": [
    "# del shoyu_data_dict['test']\n",
    "# pickle.dump(shoyu_data_dict, open('raman_spectra/shoyu_data_dict.p', 'wb'))"
   ]
  }
 ],
 "metadata": {
  "kernelspec": {
   "display_name": "Python 3",
   "language": "python",
   "name": "python3"
  },
  "language_info": {
   "codemirror_mode": {
    "name": "ipython",
    "version": 3
   },
   "file_extension": ".py",
   "mimetype": "text/x-python",
   "name": "python",
   "nbconvert_exporter": "python",
   "pygments_lexer": "ipython3",
   "version": "3.7.1"
  }
 },
 "nbformat": 4,
 "nbformat_minor": 2
}
