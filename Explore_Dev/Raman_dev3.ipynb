{
 "cells": [
  {
   "cell_type": "code",
   "execution_count": 13,
   "metadata": {},
   "outputs": [],
   "source": [
    "import jcamp\n",
    "import pickle\n",
    "import requests\n",
    "import os"
   ]
  },
  {
   "cell_type": "code",
   "execution_count": 15,
   "metadata": {},
   "outputs": [],
   "source": [
    "def download_cas(cas_num):\n",
    "    \"\"\"\n",
    "    Function that saves raman data\n",
    "    downloaded from NIST webpage.\n",
    "    \"\"\"\n",
    "    if os.path.exists('raman_spectra/'+cas_num+'_NIST_IR.jdx') == False:\n",
    "        os.makedirs('raman_spectra', exist_ok=True)\n",
    "        url = 'https://webbook.nist.gov/cgi/cbook.cgi?JCAMP=C'+cas_num+'&Index=1&Type=IR'\n",
    "        r = requests.get(url, allow_redirects=True)\n",
    "        if r.text == '##TITLE=Spectrum not found.\\n##END=\\n':\n",
    "            print(\"\"\"Bad Request: CAS # not found. Please verify\n",
    "             with NIST Chemistry WebBook.\"\"\")\n",
    "        else:    \n",
    "            if r.status_code == 200:\n",
    "                open('raman_spectra/'+cas_num+'_NIST_IR.jdx', 'wb').write(r.content)\n",
    "                print('file downloaded too raman_spectra folder')\n",
    "            else:\n",
    "                print('Request status: {}'.format(r.status_code))\n",
    "    else:\n",
    "        print('file already in raman_spectra folder')\n",
    "\n",
    "\n",
    "def add_jdx(filename, label):\n",
    "    \"\"\"\n",
    "    Function that reads and adds a .jdx file to the\n",
    "    raman_data_dict pickle file.\n",
    "    \"\"\"\n",
    "    shoyu_data_dict = pickle.load(open('raman_spectra/shoyu_data_dict.p', 'rb'))\n",
    "    data = jcamp.JCAMP_reader(filename)\n",
    "    shoyu_data_dict.update({label: data})\n",
    "    pickle.dump(shoyu_data_dict, open('raman_spectra/shoyu_data_dict.p', 'wb'))\n",
    "    return shoyu_data_dict\n",
    "    \n",
    "    \n",
    "def more_shoyu(cas_num, label):\n",
    "    \"\"\"\n",
    "    Function that downloads a spectra from the NIST\n",
    "    database, adds it to shoyu_data_dict, pickles shoyu_data_dict\n",
    "    and returns the updated shoyu_data_dict.\n",
    "    \"\"\"\n",
    "    download_cas(cas)\n",
    "    shoyu_data_dict = add_jdx('raman_spectra/'+cas+'_NIST_IR.jdx', label)\n",
    "    return shoyu_data_dict"
   ]
  },
  {
   "cell_type": "markdown",
   "metadata": {},
   "source": [
    "https://webbook.nist.gov/cgi/cbook.cgi?JCAMP=C124389&Index=1&Type=IR"
   ]
  },
  {
   "cell_type": "code",
   "execution_count": 11,
   "metadata": {},
   "outputs": [
    {
     "name": "stdout",
     "output_type": "stream",
     "text": [
      "file downloaded too raman_spectra folder\n"
     ]
    }
   ],
   "source": [
    "cas = '630080'\n",
    "label = 'Carbon monoxide'\n",
    "download_cas(cas)\n",
    "add_jdx('raman_spectra/'+cas+'_NIST_IR.jdx', label)"
   ]
  },
  {
   "cell_type": "code",
   "execution_count": null,
   "metadata": {},
   "outputs": [],
   "source": []
  },
  {
   "cell_type": "code",
   "execution_count": 12,
   "metadata": {},
   "outputs": [
    {
     "data": {
      "text/plain": [
       "dict_keys(['Pentane', 'Carbon dioxide', 'Carbon monoxide'])"
      ]
     },
     "execution_count": 12,
     "metadata": {},
     "output_type": "execute_result"
    }
   ],
   "source": [
    "shoyu_data_dict = pickle.load(open('raman_spectra/shoyu_data_dict.p', 'rb'))\n",
    "shoyu_data_dict.keys()"
   ]
  },
  {
   "cell_type": "code",
   "execution_count": 3,
   "metadata": {},
   "outputs": [
    {
     "ename": "NameError",
     "evalue": "name 'more_shoyu' is not defined",
     "output_type": "error",
     "traceback": [
      "\u001b[0;31m---------------------------------------------------------------------------\u001b[0m",
      "\u001b[0;31mNameError\u001b[0m                                 Traceback (most recent call last)",
      "\u001b[0;32m<ipython-input-3-1c88af5a763b>\u001b[0m in \u001b[0;36m<module>\u001b[0;34m\u001b[0m\n\u001b[0;32m----> 1\u001b[0;31m \u001b[0mshoyu_data_dict\u001b[0m \u001b[0;34m=\u001b[0m \u001b[0mmore_shoyu\u001b[0m\u001b[0;34m(\u001b[0m\u001b[0;34m'630080'\u001b[0m\u001b[0;34m,\u001b[0m \u001b[0;34m'Carbon monoxide'\u001b[0m\u001b[0;34m)\u001b[0m\u001b[0;34m\u001b[0m\u001b[0;34m\u001b[0m\u001b[0m\n\u001b[0m",
      "\u001b[0;31mNameError\u001b[0m: name 'more_shoyu' is not defined"
     ]
    }
   ],
   "source": [
    "shoyu_data_dict = more_shoyu('630080', 'Carbon monoxide')"
   ]
  },
  {
   "cell_type": "code",
   "execution_count": 2,
   "metadata": {},
   "outputs": [
    {
     "name": "stdout",
     "output_type": "stream",
     "text": [
      "7732-18-5\n",
      "630-08-0\n",
      "124-38-9\n",
      "64-18-6\n",
      "67-63-0\n",
      "64-17-5\n",
      "67-64-1\n"
     ]
    }
   ],
   "source": [
    "# def initialize_standard_library():\n",
    "# dictionary of CAS registry numbers for standard library\n",
    "cas_lib = {'water':'7732-18-5',\n",
    "           'carbon monoxide':'630-08-0',\n",
    "           'carbon dioxide':'124-38-9',\n",
    "           'formic acid':'64-18-6',\n",
    "           'isopropyl alcohol':'67-63-0',\n",
    "           'ethanol':'64-17-5',\n",
    "           'acetone':'67-64-1'}\n",
    "# initialize empty shoyu_data_dict\n",
    "shoyu_data_dict = {}\n",
    "os.makedirs('raman_spectra2', exist_ok=True)\n",
    "pickle.dump(shoyu_data_dict, open('raman_spectra2/shoyu_data_dict.p', 'wb'))\n",
    "for item in cas_lib:\n",
    "    cas = \n",
    "    download_cas(cas_lib[item])\n",
    "    add_jdx('raman_spectra/'+cas+'_NIST_IR.jdx', label))\n"
   ]
  },
  {
   "cell_type": "code",
   "execution_count": null,
   "metadata": {},
   "outputs": [],
   "source": []
  }
 ],
 "metadata": {
  "kernelspec": {
   "display_name": "Python 3",
   "language": "python",
   "name": "python3"
  },
  "language_info": {
   "codemirror_mode": {
    "name": "ipython",
    "version": 3
   },
   "file_extension": ".py",
   "mimetype": "text/x-python",
   "name": "python",
   "nbconvert_exporter": "python",
   "pygments_lexer": "ipython3",
   "version": "3.7.1"
  }
 },
 "nbformat": 4,
 "nbformat_minor": 2
}
