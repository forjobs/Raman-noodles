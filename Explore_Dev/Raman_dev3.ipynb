{
 "cells": [
  {
   "cell_type": "code",
   "execution_count": 13,
   "metadata": {},
   "outputs": [],
   "source": [
    "import jcamp\n",
    "import pickle\n",
    "import requests\n",
    "import os"
   ]
  },
  {
   "cell_type": "code",
   "execution_count": 15,
   "metadata": {},
   "outputs": [],
   "source": [
    "def download_cas(cas_num):\n",
    "    \"\"\"\n",
    "    Function that saves raman data\n",
    "    downloaded from NIST webpage.\n",
    "    \"\"\"\n",
    "    if os.path.exists('raman_spectra/'+cas_num+'_NIST_IR.jdx') == False:\n",
    "        os.makedirs('raman_spectra', exist_ok=True)\n",
    "        url = 'https://webbook.nist.gov/cgi/cbook.cgi?JCAMP=C'+cas_num+'&Index=1&Type=IR'\n",
    "        r = requests.get(url, allow_redirects=True)\n",
    "        if r.text == '##TITLE=Spectrum not found.\\n##END=\\n':\n",
    "            print(\"\"\"Bad Request: CAS # not found. Please verify\n",
    "             with NIST Chemistry WebBook.\"\"\")\n",
    "        else:    \n",
    "            if r.status_code == 200:\n",
    "                open('raman_spectra/'+cas_num+'_NIST_IR.jdx', 'wb').write(r.content)\n",
    "                print('file downloaded too raman_spectra folder')\n",
    "            else:\n",
    "                print('Request status: {}'.format(r.status_code))\n",
    "    else:\n",
    "        print('file already in raman_spectra folder')\n",
    "\n",
    "\n",
    "def add_jdx(filename, label):\n",
    "    \"\"\"\n",
    "    Function that reads and adds a .jdx file to the\n",
    "    raman_data_dict pickle file.\n",
    "    \"\"\"\n",
    "    shoyu_data_dict = pickle.load(open('raman_spectra/shoyu_data_dict.p', 'rb'))\n",
    "    data = jcamp.JCAMP_reader(filename)\n",
    "    shoyu_data_dict.update({label: data})\n",
    "    pickle.dump(shoyu_data_dict, open('raman_spectra/shoyu_data_dict.p', 'wb'))\n",
    "    return shoyu_data_dict\n",
    "    \n",
    "    \n",
    "def more_shoyu(cas_num, label):\n",
    "    \"\"\"\n",
    "    Function that downloads a spectra from the NIST\n",
    "    database, adds it to shoyu_data_dict, pickles shoyu_data_dict\n",
    "    and returns the updated shoyu_data_dict.\n",
    "    \"\"\"\n",
    "    download_cas(cas)\n",
    "    shoyu_data_dict = add_jdx('raman_spectra/'+cas+'_NIST_IR.jdx', label)\n",
    "    return shoyu_data_dict"
   ]
  },
  {
   "cell_type": "markdown",
   "metadata": {},
   "source": [
    "https://webbook.nist.gov/cgi/cbook.cgi?JCAMP=C124389&Index=1&Type=IR"
   ]
  },
  {
   "cell_type": "code",
   "execution_count": 11,
   "metadata": {},
   "outputs": [
    {
     "name": "stdout",
     "output_type": "stream",
     "text": [
      "file downloaded too raman_spectra folder\n"
     ]
    }
   ],
   "source": [
    "cas = '630080'\n",
    "label = 'Carbon monoxide'\n",
    "download_cas(cas)\n",
    "add_jdx('raman_spectra/'+cas+'_NIST_IR.jdx', label)"
   ]
  },
  {
   "cell_type": "code",
   "execution_count": null,
   "metadata": {},
   "outputs": [],
   "source": []
  },
  {
   "cell_type": "code",
   "execution_count": 12,
   "metadata": {},
   "outputs": [
    {
     "data": {
      "text/plain": [
       "dict_keys(['Pentane', 'Carbon dioxide', 'Carbon monoxide'])"
      ]
     },
     "execution_count": 12,
     "metadata": {},
     "output_type": "execute_result"
    }
   ],
   "source": [
    "shoyu_data_dict = pickle.load(open('raman_spectra/shoyu_data_dict.p', 'rb'))\n",
    "shoyu_data_dict.keys()"
   ]
  },
  {
   "cell_type": "code",
   "execution_count": 17,
   "metadata": {},
   "outputs": [
    {
     "name": "stdout",
     "output_type": "stream",
     "text": [
      "file already in raman_spectra folder\n"
     ]
    },
    {
     "data": {
      "text/plain": [
       "{'Pentane': {'title': 'n-PENTANE',\n",
       "  'jcamp-dx': 4.24,\n",
       "  'data type': 'INFRARED SPECTRUM',\n",
       "  'class': 'COBLENTZ',\n",
       "  'origin': 'DOW CHEMICAL COMPANY',\n",
       "  'owner': 'COBLENTZ SOCIETY',\n",
       "  'date': '1976/02/11',\n",
       "  'names': 'pentane',\n",
       "  'cas registry no': '109-66-0',\n",
       "  'molform': 'C5 H12',\n",
       "  'source reference': 'COBLENTZ NO. 10475',\n",
       "  '$nist source': 'COBLENTZ',\n",
       "  '$nist image': 'cob10475',\n",
       "  'spectrometer/data system': 'PERKIN-ELMER 180',\n",
       "  'instrument parameters': 'I0 MODE RESOLUTION: 1 CM^-^1 AT 4000 CM^-^1',\n",
       "  'state': 'GAS (6 mmHg DILUTED TO A TOTAL PRESSURE OF 600 mmHg WITH N2)',\n",
       "  'path length': '18 CM CELL',\n",
       "  'sampling procedure': 'TRANSMISSION',\n",
       "  'resolution': 4,\n",
       "  'data processing': 'DIGITIZED BY NIST FROM HARD COPY (FROM TWO SEGMENTS)',\n",
       "  'xunits': '1/CM',\n",
       "  'yunits': 'TRANSMITTANCE',\n",
       "  'xfactor': 1.0,\n",
       "  'yfactor': 1,\n",
       "  'deltax': 1.042444,\n",
       "  'firstx': 400.894,\n",
       "  'lastx': 3998.37,\n",
       "  'firsty': 0.573,\n",
       "  'maxx': 3998.37,\n",
       "  'minx': 400.894,\n",
       "  'maxy': 0.86,\n",
       "  'miny': 0.046,\n",
       "  'npoints': 3452,\n",
       "  'xydata': '(X++(Y..Y))',\n",
       "  'end': '',\n",
       "  'x': array([ 400.894    ,  402.1970545,  403.500109 , ..., 3997.324435 ,\n",
       "         3997.324435 , 3998.37     ]),\n",
       "  'y': array([0.573, 0.578, 0.579, ..., 0.802, 0.802, 0.802]),\n",
       "  'filename': 'raman_spectra/109660_NIST_IR.jdx'},\n",
       " 'Carbon dioxide': {'title': 'CARBON DIOXIDE',\n",
       "  'jcamp-dx': 4.24,\n",
       "  'data type': 'INFRARED SPECTRUM',\n",
       "  'class': 'COBLENTZ',\n",
       "  'origin': 'DOW CHEMICAL COMPANY',\n",
       "  'owner': 'COBLENTZ SOCIETY',\n",
       "  'date': 1964,\n",
       "  'names': 'dioxomethane',\n",
       "  'cas registry no': '124-38-9',\n",
       "  'molform': 'C O2',\n",
       "  'source reference': 'COBLENTZ NO. 8753',\n",
       "  '$nist source': 'COBLENTZ',\n",
       "  '$nist image': 'cob8753',\n",
       "  'spectrometer/data system': 'DOW KBr FOREPRISM',\n",
       "  'instrument parameters': 'GRATING CHANGED AT 5.0, 7.5, 15.0 MICRON',\n",
       "  'state': 'GAS (200 mmHg DILUTED TO A TOTAL PRESSURE OF 600 mmHg WITH N2)',\n",
       "  'path length': '10 CM',\n",
       "  'sampling procedure': 'TRANSMISSION',\n",
       "  'resolution': 4,\n",
       "  'data processing': 'DIGITIZED BY NIST FROM HARD COPY (FROM TWO SEGMENTS)',\n",
       "  'xunits': '1/CM',\n",
       "  'yunits': 'TRANSMITTANCE',\n",
       "  'xfactor': 1.0,\n",
       "  'yfactor': 1,\n",
       "  'deltax': 0.934582,\n",
       "  'firstx': 458.879,\n",
       "  'lastx': 3797.21,\n",
       "  'firsty': 0.973,\n",
       "  'maxx': 3797.21,\n",
       "  'minx': 458.879,\n",
       "  'maxy': 1.023,\n",
       "  'miny': 0.018,\n",
       "  'npoints': 3573,\n",
       "  'xydata': '(X++(Y..Y))',\n",
       "  'end': '',\n",
       "  'x': array([ 458.879    ,  460.047228 ,  461.215456 , ..., 3795.338041 ,\n",
       "         3796.2740205, 3797.21     ]),\n",
       "  'y': array([0.973 , 0.973 , 0.972 , ..., 1.001 , 1.0009, 0.9974]),\n",
       "  'filename': 'raman_spectra/124389_NIST_IR.jdx'},\n",
       " 'Carbon monoxide': {'title': 'CARBON MONOXIDE',\n",
       "  'jcamp-dx': 4.24,\n",
       "  'data type': 'INFRARED SPECTRUM',\n",
       "  'class': 'COBLENTZ',\n",
       "  'origin': 'DOW CHEMICAL COMPANY',\n",
       "  'owner': 'COBLENTZ SOCIETY',\n",
       "  'date': 1964,\n",
       "  'cas registry no': '630-08-0',\n",
       "  'molform': 'C O',\n",
       "  'source reference': 'COBLENTZ NO. 8755',\n",
       "  '$nist source': 'COBLENTZ',\n",
       "  '$nist image': 'cob8755',\n",
       "  'spectrometer/data system': 'DOW KBr FOREPRISM',\n",
       "  'instrument parameters': 'GRATING CHANGED AT 5.0, 7.5, 15.0 MICRON',\n",
       "  'state': 'GAS (400 mmHg DILUTED TO A TOTAL PRESSURE OF 600 mmHg WITH N2)',\n",
       "  'path length': '10 CM',\n",
       "  'sampling procedure': 'TRANSMISSION',\n",
       "  'resolution': 4,\n",
       "  'data processing': 'DIGITIZED BY NIST FROM HARD COPY (FROM TWO SEGMENTS)',\n",
       "  'xunits': '1/CM',\n",
       "  'yunits': 'TRANSMITTANCE',\n",
       "  'xfactor': 1.0,\n",
       "  'yfactor': 1,\n",
       "  'deltax': 0.936332,\n",
       "  'firstx': 457.865,\n",
       "  'lastx': 3803.38,\n",
       "  'firsty': 0.961,\n",
       "  'maxx': 3803.38,\n",
       "  'minx': 457.865,\n",
       "  'maxy': 1.021,\n",
       "  'miny': 0.14603,\n",
       "  'npoints': 3574,\n",
       "  'xydata': '(X++(Y..Y))',\n",
       "  'end': '',\n",
       "  'x': array([ 457.865     ,  459.03541525,  460.2058305 , ..., 3801.50752733,\n",
       "         3802.44376367, 3803.38      ]),\n",
       "  'y': array([0.961, 0.961, 0.961, ..., 0.995, 0.995, 0.995]),\n",
       "  'filename': 'raman_spectra/630080_NIST_IR.jdx'}}"
      ]
     },
     "execution_count": 17,
     "metadata": {},
     "output_type": "execute_result"
    }
   ],
   "source": [
    "shoyu_data_dict = more_shoyu('630080', 'Carbon monoxide')\n",
    "shoyu_data_dict"
   ]
  },
  {
   "cell_type": "code",
   "execution_count": null,
   "metadata": {},
   "outputs": [],
   "source": []
  }
 ],
 "metadata": {
  "kernelspec": {
   "display_name": "Python 3",
   "language": "python",
   "name": "python3"
  },
  "language_info": {
   "codemirror_mode": {
    "name": "ipython",
    "version": 3
   },
   "file_extension": ".py",
   "mimetype": "text/x-python",
   "name": "python",
   "nbconvert_exporter": "python",
   "pygments_lexer": "ipython3",
   "version": "3.7.1"
  }
 },
 "nbformat": 4,
 "nbformat_minor": 2
}
