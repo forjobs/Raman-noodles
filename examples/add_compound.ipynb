{
 "cells": [
  {
   "cell_type": "markdown",
   "metadata": {},
   "source": [
    "## Use shoyu.py"
   ]
  },
  {
   "cell_type": "code",
   "execution_count": 1,
   "metadata": {},
   "outputs": [],
   "source": [
    "import pickle\n",
    "from ramannoodles import shoyu"
   ]
  },
  {
   "cell_type": "markdown",
   "metadata": {},
   "source": [
    "Use this notebook to add new compounds to the shoyu_data_dict.  \n",
    "Handles CAS numbers with or without dashes.  \n",
    "`label=None` takes label from the title of the jdx."
   ]
  },
  {
   "cell_type": "code",
   "execution_count": 2,
   "metadata": {},
   "outputs": [
    {
     "name": "stdout",
     "output_type": "stream",
     "text": [
      "file already in raman_spectra folder\n",
      "FORMALDEHYDE added to shoyu_data_dict.p\n"
     ]
    }
   ],
   "source": [
    "shoyu_data_dict = shoyu.more_please('50-00-0', label=None)"
   ]
  },
  {
   "cell_type": "code",
   "execution_count": 3,
   "metadata": {},
   "outputs": [
    {
     "data": {
      "text/plain": [
       "['2-PROPANOL',\n",
       " 'CARBON DIOXIDE',\n",
       " 'CARBON MONOXIDE',\n",
       " 'DIMETHYL KETONE',\n",
       " 'ETHYL ALCOHOL',\n",
       " 'FORMALDEHYDE',\n",
       " 'FORMIC ACID',\n",
       " 'WATER']"
      ]
     },
     "execution_count": 3,
     "metadata": {},
     "output_type": "execute_result"
    }
   ],
   "source": [
    "sorted(shoyu_data_dict.keys())"
   ]
  },
  {
   "cell_type": "code",
   "execution_count": null,
   "metadata": {},
   "outputs": [],
   "source": []
  },
  {
   "cell_type": "code",
   "execution_count": null,
   "metadata": {},
   "outputs": [],
   "source": []
  }
 ],
 "metadata": {
  "kernelspec": {
   "display_name": "Python 3",
   "language": "python",
   "name": "python3"
  },
  "language_info": {
   "codemirror_mode": {
    "name": "ipython",
    "version": 3
   },
   "file_extension": ".py",
   "mimetype": "text/x-python",
   "name": "python",
   "nbconvert_exporter": "python",
   "pygments_lexer": "ipython3",
   "version": "3.7.2"
  }
 },
 "nbformat": 4,
 "nbformat_minor": 2
}
