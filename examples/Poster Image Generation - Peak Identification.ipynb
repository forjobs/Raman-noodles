{
 "cells": [
  {
   "cell_type": "code",
   "execution_count": 24,
   "metadata": {},
   "outputs": [
    {
     "ename": "ModuleNotFoundError",
     "evalue": "No module named 'ramannoodles'",
     "output_type": "error",
     "traceback": [
      "\u001b[0;31m---------------------------------------------------------------------------\u001b[0m",
      "\u001b[0;31mModuleNotFoundError\u001b[0m                       Traceback (most recent call last)",
      "\u001b[0;32m<ipython-input-24-9e3282ec080e>\u001b[0m in \u001b[0;36m<module>\u001b[0;34m\u001b[0m\n\u001b[1;32m      3\u001b[0m \u001b[0;32mimport\u001b[0m \u001b[0mnumpy\u001b[0m \u001b[0;32mas\u001b[0m \u001b[0mnp\u001b[0m\u001b[0;34m\u001b[0m\u001b[0;34m\u001b[0m\u001b[0m\n\u001b[1;32m      4\u001b[0m \u001b[0;32mimport\u001b[0m \u001b[0mpickle\u001b[0m\u001b[0;34m\u001b[0m\u001b[0;34m\u001b[0m\u001b[0m\n\u001b[0;32m----> 5\u001b[0;31m \u001b[0;32mfrom\u001b[0m \u001b[0mramannoodles\u001b[0m \u001b[0;32mimport\u001b[0m \u001b[0mspectrafit\u001b[0m\u001b[0;34m\u001b[0m\u001b[0;34m\u001b[0m\u001b[0m\n\u001b[0m\u001b[1;32m      6\u001b[0m \u001b[0;32mfrom\u001b[0m \u001b[0mramannoodles\u001b[0m \u001b[0;32mimport\u001b[0m \u001b[0mshoyu\u001b[0m\u001b[0;34m\u001b[0m\u001b[0;34m\u001b[0m\u001b[0m\n\u001b[1;32m      7\u001b[0m \u001b[0;32mimport\u001b[0m \u001b[0mpandas\u001b[0m \u001b[0;32mas\u001b[0m \u001b[0mpd\u001b[0m\u001b[0;34m\u001b[0m\u001b[0;34m\u001b[0m\u001b[0m\n",
      "\u001b[0;31mModuleNotFoundError\u001b[0m: No module named 'ramannoodles'"
     ]
    }
   ],
   "source": [
    "import matplotlib.pyplot as plt\n",
    "import math\n",
    "import numpy as np\n",
    "import pickle\n",
    "#from ramannoodles import spectrafit -- getting an error with this for rm\n",
    "#from ramannoodles import shoyu\n",
    "import pandas as pd"
   ]
  },
  {
   "cell_type": "code",
   "execution_count": 20,
   "metadata": {
    "scrolled": true
   },
   "outputs": [
    {
     "ename": "FileNotFoundError",
     "evalue": "[Errno 2] No such file or directory: '../raman_spectra/shoyu_data_dict.p'",
     "output_type": "error",
     "traceback": [
      "\u001b[0;31m---------------------------------------------------------------------------\u001b[0m",
      "\u001b[0;31mFileNotFoundError\u001b[0m                         Traceback (most recent call last)",
      "\u001b[0;32m<ipython-input-20-aba6ae424e9d>\u001b[0m in \u001b[0;36m<module>\u001b[0;34m\u001b[0m\n\u001b[1;32m      1\u001b[0m \u001b[0;31m# open spectra library\u001b[0m\u001b[0;34m\u001b[0m\u001b[0;34m\u001b[0m\u001b[0;34m\u001b[0m\u001b[0m\n\u001b[0;32m----> 2\u001b[0;31m \u001b[0mshoyu_data_dict\u001b[0m \u001b[0;34m=\u001b[0m \u001b[0mpickle\u001b[0m\u001b[0;34m.\u001b[0m\u001b[0mload\u001b[0m\u001b[0;34m(\u001b[0m\u001b[0mopen\u001b[0m\u001b[0;34m(\u001b[0m\u001b[0;34m'../raman_spectra/shoyu_data_dict.p'\u001b[0m\u001b[0;34m,\u001b[0m \u001b[0;34m'rb'\u001b[0m\u001b[0;34m)\u001b[0m\u001b[0;34m)\u001b[0m\u001b[0;34m\u001b[0m\u001b[0;34m\u001b[0m\u001b[0m\n\u001b[0m\u001b[1;32m      3\u001b[0m \u001b[0;31m# list keys\u001b[0m\u001b[0;34m\u001b[0m\u001b[0;34m\u001b[0m\u001b[0;34m\u001b[0m\u001b[0m\n\u001b[1;32m      4\u001b[0m \u001b[0msorted\u001b[0m\u001b[0;34m(\u001b[0m\u001b[0mshoyu_data_dict\u001b[0m\u001b[0;34m.\u001b[0m\u001b[0mkeys\u001b[0m\u001b[0;34m(\u001b[0m\u001b[0;34m)\u001b[0m\u001b[0;34m)\u001b[0m\u001b[0;34m\u001b[0m\u001b[0;34m\u001b[0m\u001b[0m\n",
      "\u001b[0;31mFileNotFoundError\u001b[0m: [Errno 2] No such file or directory: '../raman_spectra/shoyu_data_dict.p'"
     ]
    }
   ],
   "source": [
    "# open spectra library\n",
    "shoyu_data_dict = pickle.load(open('../raman_spectra/shoyu.py', 'rb'))\n",
    "# list keys\n",
    "sorted(shoyu_data_dict.keys())"
   ]
  },
  {
   "cell_type": "code",
   "execution_count": 22,
   "metadata": {},
   "outputs": [
    {
     "ename": "NameError",
     "evalue": "name 'shoyu_data_dict' is not defined",
     "output_type": "error",
     "traceback": [
      "\u001b[0;31m---------------------------------------------------------------------------\u001b[0m",
      "\u001b[0;31mNameError\u001b[0m                                 Traceback (most recent call last)",
      "\u001b[0;32m<ipython-input-22-390c8917f022>\u001b[0m in \u001b[0;36m<module>\u001b[0;34m\u001b[0m\n\u001b[0;32m----> 1\u001b[0;31m \u001b[0mcompound_1\u001b[0m \u001b[0;34m=\u001b[0m \u001b[0mshoyu_data_dict\u001b[0m\u001b[0;34m[\u001b[0m\u001b[0;34m'WATER'\u001b[0m\u001b[0;34m]\u001b[0m\u001b[0;34m\u001b[0m\u001b[0;34m\u001b[0m\u001b[0m\n\u001b[0m\u001b[1;32m      2\u001b[0m \u001b[0mcompound_2\u001b[0m \u001b[0;34m=\u001b[0m \u001b[0mshoyu_data_dict\u001b[0m\u001b[0;34m[\u001b[0m\u001b[0;34m'CARBON MONOXIDE'\u001b[0m\u001b[0;34m]\u001b[0m\u001b[0;34m\u001b[0m\u001b[0;34m\u001b[0m\u001b[0m\n\u001b[1;32m      3\u001b[0m \u001b[0mcompound_3\u001b[0m \u001b[0;34m=\u001b[0m \u001b[0mshoyu_data_dict\u001b[0m\u001b[0;34m[\u001b[0m\u001b[0;34m'ETHYL ALCOHOL'\u001b[0m\u001b[0;34m]\u001b[0m\u001b[0;34m\u001b[0m\u001b[0;34m\u001b[0m\u001b[0m\n\u001b[1;32m      4\u001b[0m \u001b[0mcompound_4\u001b[0m \u001b[0;34m=\u001b[0m \u001b[0mshoyu_data_dict\u001b[0m\u001b[0;34m[\u001b[0m\u001b[0;34m'FORMIC ACID'\u001b[0m\u001b[0;34m]\u001b[0m\u001b[0;34m\u001b[0m\u001b[0;34m\u001b[0m\u001b[0m\n\u001b[1;32m      5\u001b[0m \u001b[0mcompound_5\u001b[0m \u001b[0;34m=\u001b[0m \u001b[0mshoyu_data_dict\u001b[0m\u001b[0;34m[\u001b[0m\u001b[0;34m'CARBON DIOXIDE'\u001b[0m\u001b[0;34m]\u001b[0m\u001b[0;34m\u001b[0m\u001b[0;34m\u001b[0m\u001b[0m\n",
      "\u001b[0;31mNameError\u001b[0m: name 'shoyu_data_dict' is not defined"
     ]
    }
   ],
   "source": [
    "compound_1 = shoyu_data_dict['WATER']\n",
    "compound_2 = shoyu_data_dict['CARBON MONOXIDE']\n",
    "compound_3 = shoyu_data_dict['ETHYL ALCOHOL']\n",
    "compound_4 = shoyu_data_dict['FORMIC ACID']\n",
    "compound_5 = shoyu_data_dict['CARBON DIOXIDE']\n",
    "H2O_CO_x, H2O_CO_y = shoyu.combine_spectra(compound_1, compound_2, plot = True)\n",
    "H2O_CO2_x, H2O_CO2_y = shoyu.combine_spectra(compound_1, compound_5, plot = True)"
   ]
  },
  {
   "cell_type": "code",
   "execution_count": 8,
   "metadata": {},
   "outputs": [
    {
     "ename": "NameError",
     "evalue": "name 'H2O_CO_x' is not defined",
     "output_type": "error",
     "traceback": [
      "\u001b[0;31m---------------------------------------------------------------------------\u001b[0m",
      "\u001b[0;31mNameError\u001b[0m                                 Traceback (most recent call last)",
      "\u001b[0;32m<ipython-input-8-b48bce25e56c>\u001b[0m in \u001b[0;36m<module>\u001b[0;34m\u001b[0m\n\u001b[0;32m----> 1\u001b[0;31m \u001b[0mH2O_CO_x\u001b[0m \u001b[0;34m=\u001b[0m \u001b[0mnp\u001b[0m\u001b[0;34m.\u001b[0m\u001b[0masarray\u001b[0m\u001b[0;34m(\u001b[0m\u001b[0mH2O_CO_x\u001b[0m\u001b[0;34m)\u001b[0m\u001b[0;34m\u001b[0m\u001b[0;34m\u001b[0m\u001b[0m\n\u001b[0m\u001b[1;32m      2\u001b[0m \u001b[0mH2O_CO_y\u001b[0m \u001b[0;34m=\u001b[0m \u001b[0mnp\u001b[0m\u001b[0;34m.\u001b[0m\u001b[0masarray\u001b[0m\u001b[0;34m(\u001b[0m\u001b[0mH2O_CO_y\u001b[0m\u001b[0;34m)\u001b[0m\u001b[0;34m\u001b[0m\u001b[0;34m\u001b[0m\u001b[0m\n\u001b[1;32m      3\u001b[0m \u001b[0mH2O_CO2_x\u001b[0m \u001b[0;34m=\u001b[0m \u001b[0mnp\u001b[0m\u001b[0;34m.\u001b[0m\u001b[0masarray\u001b[0m\u001b[0;34m(\u001b[0m\u001b[0mH2O_CO2_x\u001b[0m\u001b[0;34m)\u001b[0m\u001b[0;34m\u001b[0m\u001b[0;34m\u001b[0m\u001b[0m\n\u001b[1;32m      4\u001b[0m \u001b[0mH2O_CO2_y\u001b[0m \u001b[0;34m=\u001b[0m \u001b[0mnp\u001b[0m\u001b[0;34m.\u001b[0m\u001b[0masarray\u001b[0m\u001b[0;34m(\u001b[0m\u001b[0mH2O_CO2_y\u001b[0m\u001b[0;34m)\u001b[0m\u001b[0;34m\u001b[0m\u001b[0;34m\u001b[0m\u001b[0m\n",
      "\u001b[0;31mNameError\u001b[0m: name 'H2O_CO_x' is not defined"
     ]
    }
   ],
   "source": [
    "H2O_CO_x = np.asarray(H2O_CO_x)\n",
    "H2O_CO_y = np.asarray(H2O_CO_y)\n",
    "H2O_CO2_x = np.asarray(H2O_CO2_x)\n",
    "H2O_CO2_y = np.asarray(H2O_CO2_y)"
   ]
  },
  {
   "cell_type": "code",
   "execution_count": 9,
   "metadata": {},
   "outputs": [
    {
     "ename": "NameError",
     "evalue": "name 'spectrafit' is not defined",
     "output_type": "error",
     "traceback": [
      "\u001b[0;31m---------------------------------------------------------------------------\u001b[0m",
      "\u001b[0;31mNameError\u001b[0m                                 Traceback (most recent call last)",
      "\u001b[0;32m<ipython-input-9-106a29f8b7da>\u001b[0m in \u001b[0;36m<module>\u001b[0;34m\u001b[0m\n\u001b[0;32m----> 1\u001b[0;31m \u001b[0mwater_peaks\u001b[0m \u001b[0;34m=\u001b[0m \u001b[0mspectrafit\u001b[0m\u001b[0;34m.\u001b[0m\u001b[0mcompound_report\u001b[0m\u001b[0;34m(\u001b[0m\u001b[0mcompound_1\u001b[0m\u001b[0;34m)\u001b[0m\u001b[0;34m[\u001b[0m\u001b[0;36m0\u001b[0m\u001b[0;34m]\u001b[0m\u001b[0;34m\u001b[0m\u001b[0;34m\u001b[0m\u001b[0m\n\u001b[0m\u001b[1;32m      2\u001b[0m \u001b[0mco_peaks\u001b[0m \u001b[0;34m=\u001b[0m \u001b[0mspectrafit\u001b[0m\u001b[0;34m.\u001b[0m\u001b[0mcompound_report\u001b[0m\u001b[0;34m(\u001b[0m\u001b[0mcompound_2\u001b[0m\u001b[0;34m)\u001b[0m\u001b[0;34m[\u001b[0m\u001b[0;36m0\u001b[0m\u001b[0;34m]\u001b[0m\u001b[0;34m\u001b[0m\u001b[0;34m\u001b[0m\u001b[0m\n\u001b[1;32m      3\u001b[0m \u001b[0mco2_peaks\u001b[0m \u001b[0;34m=\u001b[0m \u001b[0mspectrafit\u001b[0m\u001b[0;34m.\u001b[0m\u001b[0mcompound_report\u001b[0m\u001b[0;34m(\u001b[0m\u001b[0mcompound_5\u001b[0m\u001b[0;34m)\u001b[0m\u001b[0;34m[\u001b[0m\u001b[0;36m0\u001b[0m\u001b[0;34m]\u001b[0m\u001b[0;34m\u001b[0m\u001b[0;34m\u001b[0m\u001b[0m\n\u001b[1;32m      4\u001b[0m \u001b[0mH2O_CO_peaks\u001b[0m \u001b[0;34m=\u001b[0m \u001b[0mspectrafit\u001b[0m\u001b[0;34m.\u001b[0m\u001b[0mdata_report\u001b[0m\u001b[0;34m(\u001b[0m\u001b[0mH2O_CO_x\u001b[0m\u001b[0;34m,\u001b[0m \u001b[0mH2O_CO_y\u001b[0m\u001b[0;34m)\u001b[0m\u001b[0;34m[\u001b[0m\u001b[0;36m0\u001b[0m\u001b[0;34m]\u001b[0m\u001b[0;34m\u001b[0m\u001b[0;34m\u001b[0m\u001b[0m\n\u001b[1;32m      5\u001b[0m \u001b[0mH2O_CO2_peaks\u001b[0m \u001b[0;34m=\u001b[0m \u001b[0mspectrafit\u001b[0m\u001b[0;34m.\u001b[0m\u001b[0mdata_report\u001b[0m\u001b[0;34m(\u001b[0m\u001b[0mH2O_CO2_x\u001b[0m\u001b[0;34m,\u001b[0m \u001b[0mH2O_CO2_y\u001b[0m\u001b[0;34m)\u001b[0m\u001b[0;34m[\u001b[0m\u001b[0;36m0\u001b[0m\u001b[0;34m]\u001b[0m\u001b[0;34m\u001b[0m\u001b[0;34m\u001b[0m\u001b[0m\n",
      "\u001b[0;31mNameError\u001b[0m: name 'spectrafit' is not defined"
     ]
    }
   ],
   "source": [
    "water_peaks = spectrafit.compound_report(compound_1)[0]\n",
    "co_peaks = spectrafit.compound_report(compound_2)[0]\n",
    "co2_peaks = spectrafit.compound_report(compound_5)[0]\n",
    "H2O_CO_peaks = spectrafit.data_report(H2O_CO_x, H2O_CO_y)[0]\n",
    "H2O_CO2_peaks = spectrafit.data_report(H2O_CO2_x, H2O_CO2_y)[0]"
   ]
  },
  {
   "cell_type": "code",
   "execution_count": 11,
   "metadata": {},
   "outputs": [],
   "source": [
    "def compare_unknown_to_known(combined_spectrum, known_spectrum, precision = 0.03):\n",
    "    assignment_matrix = np.zeros(len(combined_spectrum))\n",
    "    peaks_found = 0\n",
    "    for i in range(len(combined_spectrum)):\n",
    "        for j in range(len(known_spectrum)):\n",
    "            #instead of If, call peak_1D_score\n",
    "            if math.isclose(combined_spectrum[i], known_spectrum[j], rel_tol = precision):\n",
    "                #Instead of using a 1, just input the score from the score calculator. Bigger is better.\n",
    "                #Storing only the second component in the list. \n",
    "                assignment_matrix[i] = 1\n",
    "                peaks_found += 1\n",
    "                continue\n",
    "            else:\n",
    "                pass\n",
    "        if peaks_found == len(known_spectrum):\n",
    "            continue\n",
    "        else:\n",
    "            pass\n",
    "    return assignment_matrix"
   ]
  },
  {
   "cell_type": "code",
   "execution_count": 12,
   "metadata": {},
   "outputs": [
    {
     "ename": "NameError",
     "evalue": "name 'H2O_CO_peaks' is not defined",
     "output_type": "error",
     "traceback": [
      "\u001b[0;31m---------------------------------------------------------------------------\u001b[0m",
      "\u001b[0;31mNameError\u001b[0m                                 Traceback (most recent call last)",
      "\u001b[0;32m<ipython-input-12-9b86e3dae799>\u001b[0m in \u001b[0;36m<module>\u001b[0;34m\u001b[0m\n\u001b[1;32m      1\u001b[0m \u001b[0;31m#Start with the H2O, CO spectra\u001b[0m\u001b[0;34m\u001b[0m\u001b[0;34m\u001b[0m\u001b[0;34m\u001b[0m\u001b[0m\n\u001b[0;32m----> 2\u001b[0;31m \u001b[0mwater_assignment_matrix\u001b[0m \u001b[0;34m=\u001b[0m \u001b[0mcompare_unknown_to_known\u001b[0m\u001b[0;34m(\u001b[0m\u001b[0mH2O_CO_peaks\u001b[0m\u001b[0;34m,\u001b[0m \u001b[0mwater_peaks\u001b[0m\u001b[0;34m,\u001b[0m \u001b[0;36m0.02\u001b[0m\u001b[0;34m)\u001b[0m\u001b[0;34m\u001b[0m\u001b[0;34m\u001b[0m\u001b[0m\n\u001b[0m\u001b[1;32m      3\u001b[0m \u001b[0mco_assignment_matrix\u001b[0m \u001b[0;34m=\u001b[0m \u001b[0mcompare_unknown_to_known\u001b[0m\u001b[0;34m(\u001b[0m\u001b[0mH2O_CO_peaks\u001b[0m\u001b[0;34m,\u001b[0m \u001b[0mco_peaks\u001b[0m\u001b[0;34m,\u001b[0m \u001b[0;36m0.02\u001b[0m\u001b[0;34m)\u001b[0m\u001b[0;34m\u001b[0m\u001b[0;34m\u001b[0m\u001b[0m\n\u001b[1;32m      4\u001b[0m \u001b[0mprint\u001b[0m\u001b[0;34m(\u001b[0m\u001b[0mwater_assignment_matrix\u001b[0m\u001b[0;34m)\u001b[0m\u001b[0;34m\u001b[0m\u001b[0;34m\u001b[0m\u001b[0m\n\u001b[1;32m      5\u001b[0m \u001b[0mprint\u001b[0m\u001b[0;34m(\u001b[0m\u001b[0mco_assignment_matrix\u001b[0m\u001b[0;34m)\u001b[0m\u001b[0;34m\u001b[0m\u001b[0;34m\u001b[0m\u001b[0m\n",
      "\u001b[0;31mNameError\u001b[0m: name 'H2O_CO_peaks' is not defined"
     ]
    }
   ],
   "source": [
    "#Start with the H2O, CO spectra\n",
    "water_assignment_matrix = compare_unknown_to_known(H2O_CO_peaks, water_peaks, 0.02)\n",
    "co_assignment_matrix = compare_unknown_to_known(H2O_CO_peaks, co_peaks, 0.02)\n",
    "print(water_assignment_matrix)\n",
    "print(co_assignment_matrix)"
   ]
  },
  {
   "cell_type": "code",
   "execution_count": 13,
   "metadata": {},
   "outputs": [
    {
     "ename": "NameError",
     "evalue": "name 'H2O_CO_x' is not defined",
     "output_type": "error",
     "traceback": [
      "\u001b[0;31m---------------------------------------------------------------------------\u001b[0m",
      "\u001b[0;31mNameError\u001b[0m                                 Traceback (most recent call last)",
      "\u001b[0;32m<ipython-input-13-d6f161b51bc7>\u001b[0m in \u001b[0;36m<module>\u001b[0;34m\u001b[0m\n\u001b[1;32m      1\u001b[0m \u001b[0;31m#Ok, now that we have which peaks belong to which component, we'll need to plot their position.\u001b[0m\u001b[0;34m\u001b[0m\u001b[0;34m\u001b[0m\u001b[0;34m\u001b[0m\u001b[0m\n\u001b[1;32m      2\u001b[0m \u001b[0mfig\u001b[0m \u001b[0;34m=\u001b[0m \u001b[0mplt\u001b[0m\u001b[0;34m.\u001b[0m\u001b[0mfigure\u001b[0m\u001b[0;34m(\u001b[0m\u001b[0mfigsize\u001b[0m\u001b[0;34m=\u001b[0m\u001b[0;34m(\u001b[0m\u001b[0;36m10\u001b[0m\u001b[0;34m,\u001b[0m\u001b[0;36m4\u001b[0m\u001b[0;34m)\u001b[0m\u001b[0;34m,\u001b[0m \u001b[0mdpi\u001b[0m \u001b[0;34m=\u001b[0m \u001b[0;36m300\u001b[0m\u001b[0;34m)\u001b[0m\u001b[0;34m\u001b[0m\u001b[0;34m\u001b[0m\u001b[0m\n\u001b[0;32m----> 3\u001b[0;31m \u001b[0mplt\u001b[0m\u001b[0;34m.\u001b[0m\u001b[0mplot\u001b[0m\u001b[0;34m(\u001b[0m\u001b[0mH2O_CO_x\u001b[0m\u001b[0;34m,\u001b[0m \u001b[0mH2O_CO_y\u001b[0m\u001b[0;34m,\u001b[0m \u001b[0mcolor\u001b[0m \u001b[0;34m=\u001b[0m \u001b[0;34m'red'\u001b[0m\u001b[0;34m,\u001b[0m \u001b[0mlabel\u001b[0m \u001b[0;34m=\u001b[0m \u001b[0;34m'Unknown Spectra'\u001b[0m\u001b[0;34m)\u001b[0m\u001b[0;34m\u001b[0m\u001b[0;34m\u001b[0m\u001b[0m\n\u001b[0m\u001b[1;32m      4\u001b[0m \u001b[0;32mfor\u001b[0m \u001b[0mi\u001b[0m \u001b[0;32min\u001b[0m \u001b[0mrange\u001b[0m\u001b[0;34m(\u001b[0m\u001b[0mlen\u001b[0m\u001b[0;34m(\u001b[0m\u001b[0mH2O_CO_peaks\u001b[0m\u001b[0;34m)\u001b[0m\u001b[0;34m)\u001b[0m\u001b[0;34m:\u001b[0m\u001b[0;34m\u001b[0m\u001b[0;34m\u001b[0m\u001b[0m\n\u001b[1;32m      5\u001b[0m     \u001b[0;32mif\u001b[0m \u001b[0mwater_assignment_matrix\u001b[0m\u001b[0;34m[\u001b[0m\u001b[0mi\u001b[0m\u001b[0;34m]\u001b[0m \u001b[0;34m==\u001b[0m \u001b[0;36m1\u001b[0m\u001b[0;34m:\u001b[0m\u001b[0;34m\u001b[0m\u001b[0;34m\u001b[0m\u001b[0m\n",
      "\u001b[0;31mNameError\u001b[0m: name 'H2O_CO_x' is not defined"
     ]
    },
    {
     "data": {
      "text/plain": [
       "<Figure size 3000x1200 with 0 Axes>"
      ]
     },
     "metadata": {},
     "output_type": "display_data"
    }
   ],
   "source": [
    "#Ok, now that we have which peaks belong to which component, we'll need to plot their position.\n",
    "fig = plt.figure(figsize=(10,4), dpi = 300)\n",
    "plt.plot(H2O_CO_x, H2O_CO_y, color = 'red', label = 'Unknown Spectra')\n",
    "for i in range(len(H2O_CO_peaks)):\n",
    "    if water_assignment_matrix[i] == 1:\n",
    "        plt.axvline(x = H2O_CO_peaks[i], color = 'blue', label = 'Water Peaks')\n",
    "        plt.text(H2O_CO_peaks[i]+10, 1.1, 'H$_{2}$O')\n",
    "    if co_assignment_matrix[i] == 1:\n",
    "        plt.axvline(x = H2O_CO_peaks[i], color = 'green', label = 'CO Peaks')\n",
    "    plt.text(H2O_CO_peaks[2]-110, 1.1, 'CO')\n",
    "    plt.text(H2O_CO_peaks[3]+10, 1.1, 'CO')\n",
    "# plt.legend()\n",
    "plt.xlabel('Wavenumber (cm$^{-1}$)', fontsize=12)\n",
    "plt.ylim(-0.1, 1.2)\n",
    "plt.ylabel('Counts (Normalized)', fontsize=12)\n",
    "    \n",
    "#     plt.axvline(x=H2O_CO_x[i], color='orange')\n"
   ]
  },
  {
   "cell_type": "code",
   "execution_count": 14,
   "metadata": {},
   "outputs": [
    {
     "ename": "NameError",
     "evalue": "name 'H2O_CO_x' is not defined",
     "output_type": "error",
     "traceback": [
      "\u001b[0;31m---------------------------------------------------------------------------\u001b[0m",
      "\u001b[0;31mNameError\u001b[0m                                 Traceback (most recent call last)",
      "\u001b[0;32m<ipython-input-14-194ce53c687e>\u001b[0m in \u001b[0;36m<module>\u001b[0;34m\u001b[0m\n\u001b[1;32m      1\u001b[0m \u001b[0;31m#Ok, now that we have which peaks belong to which component, we'll need to plot their position.\u001b[0m\u001b[0;34m\u001b[0m\u001b[0;34m\u001b[0m\u001b[0;34m\u001b[0m\u001b[0m\n\u001b[1;32m      2\u001b[0m \u001b[0mfig\u001b[0m \u001b[0;34m=\u001b[0m \u001b[0mplt\u001b[0m\u001b[0;34m.\u001b[0m\u001b[0mfigure\u001b[0m\u001b[0;34m(\u001b[0m\u001b[0mfigsize\u001b[0m\u001b[0;34m=\u001b[0m\u001b[0;34m(\u001b[0m\u001b[0;36m10\u001b[0m\u001b[0;34m,\u001b[0m\u001b[0;36m4\u001b[0m\u001b[0;34m)\u001b[0m\u001b[0;34m,\u001b[0m \u001b[0mdpi\u001b[0m \u001b[0;34m=\u001b[0m \u001b[0;36m300\u001b[0m\u001b[0;34m)\u001b[0m\u001b[0;34m\u001b[0m\u001b[0;34m\u001b[0m\u001b[0m\n\u001b[0;32m----> 3\u001b[0;31m \u001b[0mplt\u001b[0m\u001b[0;34m.\u001b[0m\u001b[0mplot\u001b[0m\u001b[0;34m(\u001b[0m\u001b[0mH2O_CO_x\u001b[0m\u001b[0;34m,\u001b[0m \u001b[0mH2O_CO_y\u001b[0m\u001b[0;34m,\u001b[0m \u001b[0mcolor\u001b[0m \u001b[0;34m=\u001b[0m \u001b[0;34m'red'\u001b[0m\u001b[0;34m,\u001b[0m \u001b[0mlabel\u001b[0m \u001b[0;34m=\u001b[0m \u001b[0;34m'Sample Spectra'\u001b[0m\u001b[0;34m)\u001b[0m\u001b[0;34m\u001b[0m\u001b[0;34m\u001b[0m\u001b[0m\n\u001b[0m\u001b[1;32m      4\u001b[0m \u001b[0mplt\u001b[0m\u001b[0;34m.\u001b[0m\u001b[0maxvline\u001b[0m\u001b[0;34m(\u001b[0m\u001b[0mx\u001b[0m \u001b[0;34m=\u001b[0m \u001b[0mH2O_CO_peaks\u001b[0m\u001b[0;34m[\u001b[0m\u001b[0;36m0\u001b[0m\u001b[0;34m]\u001b[0m\u001b[0;34m,\u001b[0m \u001b[0mcolor\u001b[0m \u001b[0;34m=\u001b[0m \u001b[0;34m'blue'\u001b[0m\u001b[0;34m,\u001b[0m \u001b[0mlabel\u001b[0m \u001b[0;34m=\u001b[0m \u001b[0;34m'Water Match'\u001b[0m\u001b[0;34m)\u001b[0m\u001b[0;34m\u001b[0m\u001b[0;34m\u001b[0m\u001b[0m\n\u001b[1;32m      5\u001b[0m \u001b[0mplt\u001b[0m\u001b[0;34m.\u001b[0m\u001b[0maxvline\u001b[0m\u001b[0;34m(\u001b[0m\u001b[0mx\u001b[0m \u001b[0;34m=\u001b[0m \u001b[0mH2O_CO_peaks\u001b[0m\u001b[0;34m[\u001b[0m\u001b[0;36m1\u001b[0m\u001b[0;34m]\u001b[0m\u001b[0;34m,\u001b[0m \u001b[0mcolor\u001b[0m \u001b[0;34m=\u001b[0m \u001b[0;34m'blue'\u001b[0m\u001b[0;34m)\u001b[0m\u001b[0;34m\u001b[0m\u001b[0;34m\u001b[0m\u001b[0m\n",
      "\u001b[0;31mNameError\u001b[0m: name 'H2O_CO_x' is not defined"
     ]
    },
    {
     "data": {
      "text/plain": [
       "<Figure size 3000x1200 with 0 Axes>"
      ]
     },
     "metadata": {},
     "output_type": "display_data"
    }
   ],
   "source": [
    "#Ok, now that we have which peaks belong to which component, we'll need to plot their position.\n",
    "fig = plt.figure(figsize=(10,4), dpi = 300)\n",
    "plt.plot(H2O_CO_x, H2O_CO_y, color = 'red', label = 'Sample Spectra')\n",
    "plt.axvline(x = H2O_CO_peaks[0], color = 'blue', label = 'Water Match')\n",
    "plt.axvline(x = H2O_CO_peaks[1], color = 'blue')\n",
    "plt.axvline(x = H2O_CO_peaks[2], color = 'green', label = 'Carbon Monoxide Match')\n",
    "plt.axvline(x = H2O_CO_peaks[3], color = 'green')\n",
    "plt.axvline(x = H2O_CO_peaks[4], color = 'blue')\n",
    "plt.legend(loc=1, framealpha=1)\n",
    "plt.xlabel('Wavenumber (cm$^{-1}$)', fontsize=12)\n",
    "plt.ylabel('Counts (Normalized)', fontsize=12)\n",
    "plt.ylim(-0.1, 1.3)\n",
    "# plt.ylim()\n",
    "    \n",
    "#     plt.axvline(x=H2O_CO_x[i], color='orange')\n",
    "# plt.savefig('matching_plot.png')"
   ]
  },
  {
   "cell_type": "code",
   "execution_count": 15,
   "metadata": {},
   "outputs": [
    {
     "ename": "NameError",
     "evalue": "name 'H2O_CO_x' is not defined",
     "output_type": "error",
     "traceback": [
      "\u001b[0;31m---------------------------------------------------------------------------\u001b[0m",
      "\u001b[0;31mNameError\u001b[0m                                 Traceback (most recent call last)",
      "\u001b[0;32m<ipython-input-15-c7420367ff0a>\u001b[0m in \u001b[0;36m<module>\u001b[0;34m\u001b[0m\n\u001b[1;32m      1\u001b[0m \u001b[0;31m#Ok, now that we have which peaks belong to which component, we'll need to plot their position.\u001b[0m\u001b[0;34m\u001b[0m\u001b[0;34m\u001b[0m\u001b[0;34m\u001b[0m\u001b[0m\n\u001b[1;32m      2\u001b[0m \u001b[0mfig\u001b[0m \u001b[0;34m=\u001b[0m \u001b[0mplt\u001b[0m\u001b[0;34m.\u001b[0m\u001b[0mfigure\u001b[0m\u001b[0;34m(\u001b[0m\u001b[0mfigsize\u001b[0m\u001b[0;34m=\u001b[0m\u001b[0;34m(\u001b[0m\u001b[0;36m6\u001b[0m\u001b[0;34m,\u001b[0m\u001b[0;36m4\u001b[0m\u001b[0;34m)\u001b[0m\u001b[0;34m,\u001b[0m \u001b[0mdpi\u001b[0m \u001b[0;34m=\u001b[0m \u001b[0;36m300\u001b[0m\u001b[0;34m)\u001b[0m\u001b[0;34m\u001b[0m\u001b[0;34m\u001b[0m\u001b[0m\n\u001b[0;32m----> 3\u001b[0;31m \u001b[0mplt\u001b[0m\u001b[0;34m.\u001b[0m\u001b[0mplot\u001b[0m\u001b[0;34m(\u001b[0m\u001b[0mH2O_CO_x\u001b[0m\u001b[0;34m,\u001b[0m \u001b[0mH2O_CO_y\u001b[0m\u001b[0;34m,\u001b[0m \u001b[0mcolor\u001b[0m \u001b[0;34m=\u001b[0m \u001b[0;34m'red'\u001b[0m\u001b[0;34m,\u001b[0m \u001b[0mlabel\u001b[0m \u001b[0;34m=\u001b[0m \u001b[0;34m'Sample Spectra'\u001b[0m\u001b[0;34m)\u001b[0m\u001b[0;34m\u001b[0m\u001b[0;34m\u001b[0m\u001b[0m\n\u001b[0m\u001b[1;32m      4\u001b[0m \u001b[0;34m\u001b[0m\u001b[0m\n\u001b[1;32m      5\u001b[0m \u001b[0;34m\u001b[0m\u001b[0m\n",
      "\u001b[0;31mNameError\u001b[0m: name 'H2O_CO_x' is not defined"
     ]
    },
    {
     "data": {
      "text/plain": [
       "<Figure size 1800x1200 with 0 Axes>"
      ]
     },
     "metadata": {},
     "output_type": "display_data"
    }
   ],
   "source": [
    "#Ok, now that we have which peaks belong to which component, we'll need to plot their position.\n",
    "fig = plt.figure(figsize=(6,4), dpi = 300)\n",
    "plt.plot(H2O_CO_x, H2O_CO_y, color = 'red', label = 'Sample Spectra')\n",
    "\n",
    "\n",
    "plt.axvline(x = H2O_CO_peaks[2], color = 'green', label='Reference Peak')\n",
    "plt.axvline(x = H2O_CO_peaks[2]+10, color = 'green', linestyle='--', label='Sample Peak')\n",
    "plt.axvline(x = H2O_CO_peaks[3], color = 'green')\n",
    "plt.axvline(x = H2O_CO_peaks[3]-9, color = 'green', linestyle='--')\n",
    "\n",
    "plt.xlabel('Wavenumber (cm$^{-1}$)', fontsize=12)\n",
    "plt.ylabel('Counts (Normalized)', fontsize=12)\n",
    "plt.ylim(0.9, 1.05)\n",
    "plt.xlim(2000, 2300)\n",
    "plt.legend(loc=1, framealpha=1)\n",
    "    \n",
    "# plt.savefig('errors_example_plot.png')"
   ]
  },
  {
   "cell_type": "code",
   "execution_count": 25,
   "metadata": {},
   "outputs": [
    {
     "ename": "NameError",
     "evalue": "name 'pd' is not defined",
     "output_type": "error",
     "traceback": [
      "\u001b[0;31m---------------------------------------------------------------------------\u001b[0m",
      "\u001b[0;31mNameError\u001b[0m                                 Traceback (most recent call last)",
      "\u001b[0;32m<ipython-input-25-5f5ce352d1b9>\u001b[0m in \u001b[0;36m<module>\u001b[0;34m\u001b[0m\n\u001b[1;32m      1\u001b[0m \u001b[0;31m# you will need to download the file yourself from the team google drive and edit location\u001b[0m\u001b[0;34m\u001b[0m\u001b[0;34m\u001b[0m\u001b[0;34m\u001b[0m\u001b[0m\n\u001b[0;32m----> 2\u001b[0;31m \u001b[0mdf\u001b[0m \u001b[0;34m=\u001b[0m \u001b[0mpd\u001b[0m\u001b[0;34m.\u001b[0m\u001b[0mread_excel\u001b[0m\u001b[0;34m(\u001b[0m\u001b[0;34m'../examples/FormicAcid_3percentconc_400C_5s_00000.xlsx'\u001b[0m\u001b[0;34m,\u001b[0m \u001b[0mnames\u001b[0m\u001b[0;34m=\u001b[0m\u001b[0;34m(\u001b[0m\u001b[0;34m'x'\u001b[0m\u001b[0;34m,\u001b[0m \u001b[0;34m'y'\u001b[0m\u001b[0;34m)\u001b[0m\u001b[0;34m)\u001b[0m\u001b[0;34m\u001b[0m\u001b[0;34m\u001b[0m\u001b[0m\n\u001b[0m",
      "\u001b[0;31mNameError\u001b[0m: name 'pd' is not defined"
     ]
    }
   ],
   "source": [
    "# you will need to download the file yourself from the team google drive and edit location\n",
    "df = pd.read_excel('../examples/FormicAcid_3percentconc_400C_5s_00000.xlsx', names=('x', 'y'))"
   ]
  },
  {
   "cell_type": "code",
   "execution_count": 17,
   "metadata": {
    "scrolled": true
   },
   "outputs": [
    {
     "ename": "NameError",
     "evalue": "name 'df' is not defined",
     "output_type": "error",
     "traceback": [
      "\u001b[0;31m---------------------------------------------------------------------------\u001b[0m",
      "\u001b[0;31mNameError\u001b[0m                                 Traceback (most recent call last)",
      "\u001b[0;32m<ipython-input-17-43d5d9e9f09c>\u001b[0m in \u001b[0;36m<module>\u001b[0;34m\u001b[0m\n\u001b[1;32m      1\u001b[0m \u001b[0;31m#Ok, now that we have which peaks belong to which component, we'll need to plot their position.\u001b[0m\u001b[0;34m\u001b[0m\u001b[0;34m\u001b[0m\u001b[0;34m\u001b[0m\u001b[0m\n\u001b[1;32m      2\u001b[0m \u001b[0mfig\u001b[0m \u001b[0;34m=\u001b[0m \u001b[0mplt\u001b[0m\u001b[0;34m.\u001b[0m\u001b[0mfigure\u001b[0m\u001b[0;34m(\u001b[0m\u001b[0mfigsize\u001b[0m\u001b[0;34m=\u001b[0m\u001b[0;34m(\u001b[0m\u001b[0;36m6\u001b[0m\u001b[0;34m,\u001b[0m\u001b[0;36m4\u001b[0m\u001b[0;34m)\u001b[0m\u001b[0;34m,\u001b[0m \u001b[0mdpi\u001b[0m \u001b[0;34m=\u001b[0m \u001b[0;36m300\u001b[0m\u001b[0;34m)\u001b[0m\u001b[0;34m\u001b[0m\u001b[0;34m\u001b[0m\u001b[0m\n\u001b[0;32m----> 3\u001b[0;31m \u001b[0mx_data\u001b[0m \u001b[0;34m=\u001b[0m \u001b[0mdf\u001b[0m\u001b[0;34m[\u001b[0m\u001b[0;34m'x'\u001b[0m\u001b[0;34m]\u001b[0m\u001b[0;34m.\u001b[0m\u001b[0mvalues\u001b[0m\u001b[0;34m\u001b[0m\u001b[0;34m\u001b[0m\u001b[0m\n\u001b[0m\u001b[1;32m      4\u001b[0m \u001b[0my_data\u001b[0m \u001b[0;34m=\u001b[0m \u001b[0mdf\u001b[0m\u001b[0;34m[\u001b[0m\u001b[0;34m'y'\u001b[0m\u001b[0;34m]\u001b[0m\u001b[0;34m.\u001b[0m\u001b[0mvalues\u001b[0m\u001b[0;34m\u001b[0m\u001b[0;34m\u001b[0m\u001b[0m\n\u001b[1;32m      5\u001b[0m \u001b[0;34m\u001b[0m\u001b[0m\n",
      "\u001b[0;31mNameError\u001b[0m: name 'df' is not defined"
     ]
    },
    {
     "data": {
      "text/plain": [
       "<Figure size 1800x1200 with 0 Axes>"
      ]
     },
     "metadata": {},
     "output_type": "display_data"
    }
   ],
   "source": [
    "#Ok, now that we have which peaks belong to which component, we'll need to plot their position.\n",
    "fig = plt.figure(figsize=(6,4), dpi = 300)\n",
    "x_data = df['x'].values\n",
    "y_data = df['y'].values\n",
    "\n",
    "\n",
    "\n"
   ]
  },
  {
   "cell_type": "code",
   "execution_count": null,
   "metadata": {},
   "outputs": [],
   "source": [
    "Exp_peaks = spectrafit.data_report(x_data, y_data)[0]"
   ]
  },
  {
   "cell_type": "code",
   "execution_count": null,
   "metadata": {},
   "outputs": [],
   "source": [
    "fig = plt.figure(figsize=(15,6), dpi = 300)\n",
    "plt.plot(x_data, y_data, label ='Experimental')\n",
    "plt.xlabel('cm$^{-1}$', fontsize=14)\n",
    "plt.ylabel('Absoprtion', fontsize=14)\n",
    "plt.axvline(x =714, color = 'green', label = 'CO Peaks')"
   ]
  },
  {
   "cell_type": "code",
   "execution_count": null,
   "metadata": {},
   "outputs": [],
   "source": [
    " #you will need to download the file yourself from the team google drive and edit location\n",
    "df1 = pd.read_excel('../examples/SubtractedFA_3%_400C_7.5s_00003.xlsx', names=('x1', 'y1'))\n",
    "\n",
    "#Ok, now that we have which peaks belong to which component, we'll need to plot their position.\n",
    "fig = plt.figure(figsize=(6,4), dpi = 300)\n",
    "x1_data = df['x1'].values\n",
    "y1_data = df['y1'].values\n",
    "\n",
    "Exp_peaks = spectrafit.data_report(x_data, y_data)[0]\n",
    "\n",
    "fig = plt.figure(figsize=(15,6), dpi = 300)\n",
    "plt.plot(x1_data, y1_data, label ='Experimental')\n",
    "plt.xlabel('cm$^{-1}$', fontsize=14)\n",
    "plt.ylabel('Absoprtion', fontsize=14)\n",
    "\n",
    "\n",
    "\n"
   ]
  },
  {
   "cell_type": "code",
   "execution_count": null,
   "metadata": {},
   "outputs": [],
   "source": [
    "plt.plot(H2O_CO_x, H2O_CO_y, color = 'red', label = 'Sample Spectra')\n",
    "plt.axvline(x = H2O_CO_peaks[2], color = 'green', label='Reference Peak')\n",
    "plt.axvline(x = H2O_CO_peaks[2]+10, color = 'green', linestyle='--', label='Sample Peak')\n",
    "plt.axvline(x = H2O_CO_peaks[3], color = 'green')\n",
    "plt.axvline(x = H2O_CO_peaks[3]-9, color = 'green', linestyle='--')\n",
    "\n",
    "plt.xlabel('Wavenumber (cm$^{-1}$)', fontsize=12)\n",
    "plt.ylabel('Counts (Normalized)', fontsize=12)\n",
    "plt.ylim(0.9, 1.05)\n",
    "plt.xlim(2000, 2300)\n",
    "plt.legend(loc=1, framealpha=1)\n",
    "    \n",
    "# plt.savefig('errors_example_plot.png')"
   ]
  },
  {
   "cell_type": "code",
   "execution_count": null,
   "metadata": {},
   "outputs": [],
   "source": [
    "fig = plt.figure(figsize=(6,4), dpi = 300)\n",
    "plt.plot(x_data, y_data, label ='Experimental')\n",
    "plt.xlabel('cm$^{-1}$', fontsize=14)\n",
    "plt.ylabel('Absoprtion', fontsize=14)\n",
    "plt.axvline(x =714, color = 'green', label = 'CO Peaks')\n",
    "plt.axvline(x = H2O_CO_peaks[2], color = 'green', label='Reference Peak')\n",
    "plt.axvline(x = H2O_CO_peaks[2]+10, color = 'green', linestyle='--', label='Sample Peak')\n",
    "plt.axvline(x = H2O_CO_peaks[3], color = 'green')\n",
    "plt.axvline(x = H2O_CO_peaks[3]-9, color = 'green', linestyle='--')\n",
    "plt.xlabel('Wavenumber (cm$^{-1}$)', fontsize=12)\n",
    "plt.ylabel('Counts (Normalized)', fontsize=12)\n",
    "plt.ylim(0.2,2000)\n",
    "plt.xlim(0, 3500)\n",
    "plt.legend(loc=1, framealpha=1)"
   ]
  },
  {
   "cell_type": "code",
   "execution_count": null,
   "metadata": {},
   "outputs": [],
   "source": [
    "Exp_peaks = [355,379,418,587,712,751,814,1034,1219,1272,1383,1400,1640,2138,2943,3185]"
   ]
  },
  {
   "cell_type": "code",
   "execution_count": null,
   "metadata": {},
   "outputs": [],
   "source": [
    "#Ok, now that we have which peaks belong to which component, we'll need to plot their position.\n",
    "fig = plt.figure(figsize=(10,4), dpi = 300)\n",
    "plt.plot(x_data, y_data, color = 'black', label = 'Sample Spectra')\n",
    "plt.axvline(x = Exp_peaks[0], color = 'black', label = 'Hydrogen Match',linestyle='--')\n",
    "#plt.axvline(x = Exp_peaks[1], color = 'yellow',alpha=.7)\n",
    "plt.axvline(x = Exp_peaks[2], color = 'yellow', label = 'Sapphire Match',alpha=.7)\n",
    "plt.axvline(x = Exp_peaks[3], color = 'black', linestyle='--')\n",
    "plt.axvline(x = Exp_peaks[4], color = 'black', linestyle='--')\n",
    "plt.axvline(x = Exp_peaks[5], color = 'green', label = 'Formic Acid Match')\n",
    "plt.axvline(x = Exp_peaks[5]+50, color = 'green')\n",
    "plt.axvline(x = Exp_peaks[6], color = 'black', linestyle='--')\n",
    "plt.axvline(x = Exp_peaks[7], color = 'black', linestyle='--')\n",
    "plt.axvline(x = Exp_peaks[8], color = 'green')\n",
    "plt.axvline(x = Exp_peaks[9], color = 'red', label = 'Carbon Dioxide Match')\n",
    "plt.axvline(x = Exp_peaks[10], color = 'red')\n",
    "plt.axvline(x = Exp_peaks[11], color = 'green')\n",
    "plt.axvline(x = Exp_peaks[12], color = 'blue',label = 'Water Match')\n",
    "plt.axvline(x = Exp_peaks[13], color = 'purple', label = 'Carbon Monoxide Match')\n",
    "plt.axvline(x = Exp_peaks[14], color = 'green')\n",
    "plt.axvline(x = Exp_peaks[15], color = 'blue')\n",
    "plt.legend(loc=1, framealpha=1)\n",
    "plt.xlabel('Wavenumber (cm$^{-1}$)', fontsize=12)\n",
    "plt.ylabel('Counts (Normalized)', fontsize=12)\n",
    "#plt.ylim(-0.1, 1.3)\n",
    "# plt.ylim()\n",
    "    \n",
    "#     plt.axvline(x=H2O_CO_x[i], color='orange')\n",
    "# plt.savefig('matching_plot.png')"
   ]
  },
  {
   "cell_type": "code",
   "execution_count": null,
   "metadata": {},
   "outputs": [],
   "source": []
  }
 ],
 "metadata": {
  "kernelspec": {
   "display_name": "Python 3",
   "language": "python",
   "name": "python3"
  },
  "language_info": {
   "codemirror_mode": {
    "name": "ipython",
    "version": 3
   },
   "file_extension": ".py",
   "mimetype": "text/x-python",
   "name": "python",
   "nbconvert_exporter": "python",
   "pygments_lexer": "ipython3",
   "version": "3.7.1"
  }
 },
 "nbformat": 4,
 "nbformat_minor": 2
}
