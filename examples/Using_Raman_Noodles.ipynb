{
 "cells": [
  {
   "cell_type": "markdown",
   "metadata": {},
   "source": [
    "# Examples for Usage of Raman Noodles\n",
    "\n",
    "Herein we will be walking you through several use-cases for the Raman Noodles packages. It is our goal that you will be able to completely understand how to interact with our code base through the usage of these examples. We hope you enjoy this tutorial, as well as our software more broadly!\n",
    "\n",
    "-- The Raman Noodles Dev. Team\n",
    "***"
   ]
  },
  {
   "cell_type": "markdown",
   "metadata": {},
   "source": [
    "## Example 1: Initializing the Raman spectral database\n",
    "\n",
    "This example will walk you through the code to initialize the Raman spectral database that all of Raman Noodles anticipates you have, as well as giving you experience with how to add your own custom Raman spectra to the initial database. This is, in short, an example of how to use the `shoyu.py` file, and a walkthrough of all of the various functions therein. Currently, this module only interacts with the NIST database found at https://webbook.nist.gov/chemistry/\n",
    "\n",
    "NOTE! It's critical to initialize the database first, as all of the code is built around the idea that you will have a specific data folder in your directory with a specific title. We apologize for how constricting that is, but we hope that it will not be too inconvenient for you. "
   ]
  },
  {
   "cell_type": "code",
   "execution_count": 7,
   "metadata": {},
   "outputs": [],
   "source": [
    "#First, our imports. \n",
    "import numpy as np\n",
    "import pandas as pd\n",
    "import matplotlib.pyplot as plt\n",
    "import pickle\n",
    "import jcamp\n",
    "import peakutils\n",
    "\n",
    "#And finally, the import of the shoyu file\n",
    "import shoyu"
   ]
  },
  {
   "cell_type": "markdown",
   "metadata": {},
   "source": [
    "Alright, imports done, the next step is to build our library. We'll be using the `shoyu.initialize_standard_library` function in shoyu. What this function does is to build a directory on your local machine that contains a few spectra that we think might be nice. Following this import, we'll also import a couple of custom spectra to demonstrate that funcitonality by using `shoyu.more_please`. There are several functions under the hood that are all referenced internally, which should not require any user interactions. "
   ]
  },
  {
   "cell_type": "code",
   "execution_count": 8,
   "metadata": {},
   "outputs": [
    {
     "name": "stdout",
     "output_type": "stream",
     "text": [
      "file downloaded to raman_spectra folder\n",
      "WATER added to shoyu_data_dict.p\n",
      "file downloaded to raman_spectra folder\n",
      "CARBON MONOXIDE added to shoyu_data_dict.p\n",
      "file downloaded to raman_spectra folder\n",
      "CARBON DIOXIDE added to shoyu_data_dict.p\n",
      "file downloaded to raman_spectra folder\n",
      "FORMIC ACID added to shoyu_data_dict.p\n",
      "file downloaded to raman_spectra folder\n",
      "2-PROPANOL added to shoyu_data_dict.p\n",
      "file downloaded to raman_spectra folder\n",
      "ETHYL ALCOHOL added to shoyu_data_dict.p\n",
      "file downloaded to raman_spectra folder\n",
      "DIMETHYL KETONE added to shoyu_data_dict.p\n"
     ]
    }
   ],
   "source": [
    "#Call the function, which will return text detailing what files you are downloading, and the directory \n",
    "#that they are being downloaded into. \n",
    "shoyu.initialize_standard_library()"
   ]
  },
  {
   "cell_type": "code",
   "execution_count": 9,
   "metadata": {},
   "outputs": [
    {
     "name": "stdout",
     "output_type": "stream",
     "text": [
      "file already in raman_spectra folder\n",
      "WATER added to shoyu_data_dict.p\n",
      "file already in raman_spectra folder\n",
      "CARBON MONOXIDE added to shoyu_data_dict.p\n",
      "file already in raman_spectra folder\n",
      "CARBON DIOXIDE added to shoyu_data_dict.p\n",
      "file already in raman_spectra folder\n",
      "FORMIC ACID added to shoyu_data_dict.p\n",
      "file already in raman_spectra folder\n",
      "2-PROPANOL added to shoyu_data_dict.p\n",
      "file already in raman_spectra folder\n",
      "ETHYL ALCOHOL added to shoyu_data_dict.p\n",
      "file already in raman_spectra folder\n",
      "DIMETHYL KETONE added to shoyu_data_dict.p\n"
     ]
    }
   ],
   "source": [
    "#If you re-call the method, it will tell you that the files are already downloaded.\n",
    "shoyu.initialize_standard_library()"
   ]
  },
  {
   "cell_type": "markdown",
   "metadata": {},
   "source": [
    "OK, now that we have downloaded the files and initialized the directory, lets add some custom spectra.\n",
    "To do this, we need to call the `shoyu.more_please` function. It takes as parameters a CAS number, and optionally it can take a label that you want to assign to the Raman spectra. The CAS number is what is used for the Raman lookup, and can be input either including, or unincluding hyphens. For example, the CAS number for benzaldehyde, a compound which smells like almonds, is **100-52-7**, which can be passed either as **100-52-7** or as **100527**. Both will yield the same result. If no label is passed to the function, it will use the title directly as passed from the NIST website. It will be returned in all-caps, and the future calls will be case-sensitive, so make sure to take note of this. If you choose to pass your own label, you should make sure to carefully consider the case of the label that you pass, such that it is easy to remember.  \n",
    "\n",
    "NOTE! The CAS number needs to be passed as a string. Due to the method which enables ignoring the dashes, we need it to be in string form. "
   ]
  },
  {
   "cell_type": "code",
   "execution_count": 14,
   "metadata": {},
   "outputs": [
    {
     "name": "stdout",
     "output_type": "stream",
     "text": [
      "file already in raman_spectra folder\n",
      "BENZALDEHYDE added to shoyu_data_dict.p\n",
      "file already in raman_spectra folder\n",
      "BENZALDEHYDE added to shoyu_data_dict.p\n"
     ]
    },
    {
     "data": {
      "text/plain": [
       "['2-PROPANOL',\n",
       " 'BENZALDEHYDE',\n",
       " 'CARBON DIOXIDE',\n",
       " 'CARBON MONOXIDE',\n",
       " 'DIMETHYL KETONE',\n",
       " 'ETHYL ALCOHOL',\n",
       " 'FORMIC ACID',\n",
       " 'WATER']"
      ]
     },
     "execution_count": 14,
     "metadata": {},
     "output_type": "execute_result"
    }
   ],
   "source": [
    "#First, we will call the function on Benzaldehyde's CAS number. \n",
    "shoyu.more_please(\"100-52-7\")\n",
    "shoyu.more_please(\"100527\")\n",
    "#You should see that both of these above calls result in requests to the database for a Benzaldehyde spectra.\n",
    "\n",
    "#To access the data from the file, we will need to load the data into a local dictionary\n",
    "#Here, we'll specifically just print out the keys, so you can see how to reference data from each saved spectra\n",
    "shoyu_data_dict = pickle.load(open('raman_spectra/shoyu_data_dict.p', 'rb'))\n",
    "sorted(shoyu_data_dict.keys())"
   ]
  },
  {
   "cell_type": "markdown",
   "metadata": {},
   "source": [
    "***\n",
    "\n",
    "## Example 2: Determining Peak Positions using LMFit\n",
    "\n"
   ]
  },
  {
   "cell_type": "code",
   "execution_count": null,
   "metadata": {},
   "outputs": [],
   "source": []
  },
  {
   "cell_type": "code",
   "execution_count": null,
   "metadata": {},
   "outputs": [],
   "source": []
  },
  {
   "cell_type": "code",
   "execution_count": null,
   "metadata": {},
   "outputs": [],
   "source": []
  },
  {
   "cell_type": "code",
   "execution_count": null,
   "metadata": {},
   "outputs": [],
   "source": []
  }
 ],
 "metadata": {
  "kernelspec": {
   "display_name": "Python 3",
   "language": "python",
   "name": "python3"
  },
  "language_info": {
   "codemirror_mode": {
    "name": "ipython",
    "version": 3
   },
   "file_extension": ".py",
   "mimetype": "text/x-python",
   "name": "python",
   "nbconvert_exporter": "python",
   "pygments_lexer": "ipython3",
   "version": "3.7.2"
  }
 },
 "nbformat": 4,
 "nbformat_minor": 2
}
