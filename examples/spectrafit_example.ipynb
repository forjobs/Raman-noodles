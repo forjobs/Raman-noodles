{
 "cells": [
  {
   "cell_type": "code",
   "execution_count": 9,
   "metadata": {},
   "outputs": [],
   "source": [
    "import matplotlib.pyplot as plt\n",
    "import numpy as np\n",
    "import pickle\n",
    "from ramannoodles import spectrafit"
   ]
  },
  {
   "cell_type": "code",
   "execution_count": 6,
   "metadata": {},
   "outputs": [
    {
     "data": {
      "text/plain": [
       "['2-PROPANOL',\n",
       " 'CARBON DIOXIDE',\n",
       " 'CARBON MONOXIDE',\n",
       " 'DIMETHYL KETONE',\n",
       " 'ETHYL ALCOHOL',\n",
       " 'FORMALDEHYDE',\n",
       " 'FORMIC ACID',\n",
       " 'WATER']"
      ]
     },
     "execution_count": 6,
     "metadata": {},
     "output_type": "execute_result"
    }
   ],
   "source": [
    "# open spectra library\n",
    "shoyu_data_dict = pickle.load(open('../raman_spectra/shoyu_data_dict.p', 'rb'))\n",
    "# list keys\n",
    "sorted(shoyu_data_dict.keys())"
   ]
  },
  {
   "cell_type": "code",
   "execution_count": null,
   "metadata": {},
   "outputs": [],
   "source": [
    "# extract spectra data\n",
    "data = shoyu_data_dict['WATER']\n",
    "x_data = data['x']\n",
    "y_data = data['y']\n",
    "\n",
    "data_range = max(x_data) - min(x_data)\n",
    "data_range"
   ]
  },
  {
   "cell_type": "code",
   "execution_count": null,
   "metadata": {},
   "outputs": [],
   "source": [
    "# subtract baseline\n",
    "# y_data = spectrafit.subtract_baseline(y_data, deg=3, plot=True, x_data=x_data)"
   ]
  },
  {
   "cell_type": "code",
   "execution_count": null,
   "metadata": {},
   "outputs": [],
   "source": [
    "# detect peaks\n",
    "peaks = spectrafit.find_peaks(x_data, y_data, thres=0.25, min_dist=50)\n",
    "# from operator import itemgetter\n",
    "# peaks = sorted(peaks, key=itemgetter(1), reverse=True)[:5]\n",
    "peaks"
   ]
  },
  {
   "cell_type": "code",
   "execution_count": null,
   "metadata": {},
   "outputs": [],
   "source": [
    "fig = plt.figure(figsize=(15,6))\n",
    "plt.plot(x_data, y_data)\n",
    "for i in range(len(peaks)):\n",
    "    plt.axvline(x=peaks[i][0], color='orange')"
   ]
  },
  {
   "cell_type": "code",
   "execution_count": null,
   "metadata": {},
   "outputs": [],
   "source": [
    "# assign parameters for least squares fit\n",
    "mod, pars = spectrafit.lorentz_params(peaks)"
   ]
  },
  {
   "cell_type": "code",
   "execution_count": null,
   "metadata": {},
   "outputs": [],
   "source": [
    "# fit the model to the data\n",
    "out = spectrafit.model_fit(x_data, y_data, mod, pars, report=True)"
   ]
  },
  {
   "cell_type": "code",
   "execution_count": null,
   "metadata": {},
   "outputs": [],
   "source": [
    "# plot fit results\n",
    "spectrafit.plot_fit(x_data, y_data, out, plot_components=True)"
   ]
  },
  {
   "cell_type": "code",
   "execution_count": null,
   "metadata": {},
   "outputs": [],
   "source": [
    "# export data in logical structure (see docstring)\n",
    "fit_peak_data = spectrafit.export_fit_data(out)\n",
    "fit_peak_data"
   ]
  },
  {
   "cell_type": "code",
   "execution_count": null,
   "metadata": {},
   "outputs": [],
   "source": [
    "# print docstring which outlines data structure\n",
    "spectrafit.export_fit_data.__doc__"
   ]
  },
  {
   "cell_type": "code",
   "execution_count": null,
   "metadata": {},
   "outputs": [],
   "source": [
    "peak_loc = []\n",
    "peak_sigma = []\n",
    "for i in range(len(fit_peak_data)):\n",
    "    loc = fit_peak_data[i][1]\n",
    "    sigma = fit_peak_data[i][0]\n",
    "    peak_loc.append(loc)\n",
    "    peak_sigma.append(sigma)\n"
   ]
  },
  {
   "cell_type": "code",
   "execution_count": 7,
   "metadata": {},
   "outputs": [
    {
     "data": {
      "text/plain": [
       "numpy.ndarray"
      ]
     },
     "execution_count": 7,
     "metadata": {},
     "output_type": "execute_result"
    }
   ],
   "source": [
    "water = shoyu_data_dict['WATER']\n",
    "x_water = water['x']\n",
    "y_water = water['y']\n",
    "\n",
    "co = shoyu_data_dict['CARBON MONOXIDE']\n",
    "x_co = co['x']\n",
    "y_co = co['y']\n",
    "\n",
    "type(x_water)"
   ]
  },
  {
   "cell_type": "code",
   "execution_count": 11,
   "metadata": {},
   "outputs": [
    {
     "ename": "AttributeError",
     "evalue": "'dict' object has no attribute 'append'",
     "output_type": "error",
     "traceback": [
      "\u001b[0;31m---------------------------------------------------------------------------\u001b[0m",
      "\u001b[0;31mAttributeError\u001b[0m                            Traceback (most recent call last)",
      "\u001b[0;32m<ipython-input-11-78ce3417d765>\u001b[0m in \u001b[0;36m<module>\u001b[0;34m\u001b[0m\n\u001b[0;32m----> 1\u001b[0;31m \u001b[0mcompound_curve\u001b[0m \u001b[0;34m=\u001b[0m \u001b[0mwater\u001b[0m\u001b[0;34m.\u001b[0m\u001b[0mappend\u001b[0m\u001b[0;34m(\u001b[0m\u001b[0mco\u001b[0m\u001b[0;34m)\u001b[0m\u001b[0;34m\u001b[0m\u001b[0;34m\u001b[0m\u001b[0m\n\u001b[0m",
      "\u001b[0;31mAttributeError\u001b[0m: 'dict' object has no attribute 'append'"
     ]
    }
   ],
   "source": [
    "compound_curve = np.concatenate(x_water, x_co)"
   ]
  },
  {
   "cell_type": "code",
   "execution_count": 16,
   "metadata": {},
   "outputs": [
    {
     "name": "stdout",
     "output_type": "stream",
     "text": [
      "file already in raman_spectra folder\n",
      "WATER loaded into the dictionary - shoyu_data_dict.p\n",
      "file already in raman_spectra folder\n",
      "CARBON MONOXIDE loaded into the dictionary - shoyu_data_dict.p\n",
      "file already in raman_spectra folder\n",
      "CARBON DIOXIDE loaded into the dictionary - shoyu_data_dict.p\n",
      "file already in raman_spectra folder\n",
      "FORMIC ACID loaded into the dictionary - shoyu_data_dict.p\n",
      "file already in raman_spectra folder\n",
      "2-PROPANOL loaded into the dictionary - shoyu_data_dict.p\n",
      "file already in raman_spectra folder\n",
      "ETHYL ALCOHOL loaded into the dictionary - shoyu_data_dict.p\n",
      "file already in raman_spectra folder\n",
      "DIMETHYL KETONE loaded into the dictionary - shoyu_data_dict.p\n"
     ]
    },
    {
     "ename": "FileNotFoundError",
     "evalue": "[Errno 2] No such file or directory: 'raman_spectra/shoyu_data_dict.p'",
     "output_type": "error",
     "traceback": [
      "\u001b[0;31m---------------------------------------------------------------------------\u001b[0m",
      "\u001b[0;31mFileNotFoundError\u001b[0m                         Traceback (most recent call last)",
      "\u001b[0;32m<ipython-input-16-34a13ce3821d>\u001b[0m in \u001b[0;36m<module>\u001b[0;34m\u001b[0m\n\u001b[1;32m      1\u001b[0m \u001b[0;32mfrom\u001b[0m \u001b[0mramannoodles\u001b[0m \u001b[0;32mimport\u001b[0m \u001b[0mwater\u001b[0m\u001b[0;34m\u001b[0m\u001b[0;34m\u001b[0m\u001b[0m\n\u001b[0;32m----> 2\u001b[0;31m \u001b[0;32mfrom\u001b[0m \u001b[0mramannoodles\u001b[0m \u001b[0;32mimport\u001b[0m \u001b[0mcarbonmonoxide\u001b[0m\u001b[0;34m\u001b[0m\u001b[0;34m\u001b[0m\u001b[0m\n\u001b[0m",
      "\u001b[0;32m~/anaconda3/lib/python3.7/importlib/_bootstrap.py\u001b[0m in \u001b[0;36m_find_and_load\u001b[0;34m(name, import_)\u001b[0m\n",
      "\u001b[0;32m~/anaconda3/lib/python3.7/importlib/_bootstrap.py\u001b[0m in \u001b[0;36m_find_and_load_unlocked\u001b[0;34m(name, import_)\u001b[0m\n",
      "\u001b[0;32m~/anaconda3/lib/python3.7/importlib/_bootstrap.py\u001b[0m in \u001b[0;36m_load_unlocked\u001b[0;34m(spec)\u001b[0m\n",
      "\u001b[0;32m~/anaconda3/lib/python3.7/importlib/_bootstrap.py\u001b[0m in \u001b[0;36m_load_backward_compatible\u001b[0;34m(spec)\u001b[0m\n",
      "\u001b[0;32m~/anaconda3/lib/python3.7/site-packages/ramannoodles-1.0-py3.7.egg/ramannoodles/carbonmonoxide.py\u001b[0m in \u001b[0;36m<module>\u001b[0;34m\u001b[0m\n\u001b[1;32m     12\u001b[0m \u001b[0mshoyu\u001b[0m\u001b[0;34m.\u001b[0m\u001b[0minitialize_standard_library\u001b[0m\u001b[0;34m(\u001b[0m\u001b[0;34m)\u001b[0m\u001b[0;34m\u001b[0m\u001b[0;34m\u001b[0m\u001b[0m\n\u001b[1;32m     13\u001b[0m \u001b[0;31m# import data dict\u001b[0m\u001b[0;34m\u001b[0m\u001b[0;34m\u001b[0m\u001b[0;34m\u001b[0m\u001b[0m\n\u001b[0;32m---> 14\u001b[0;31m \u001b[0mshoyu_data_dict\u001b[0m \u001b[0;34m=\u001b[0m \u001b[0mpickle\u001b[0m\u001b[0;34m.\u001b[0m\u001b[0mload\u001b[0m\u001b[0;34m(\u001b[0m\u001b[0mopen\u001b[0m\u001b[0;34m(\u001b[0m\u001b[0;34m'raman_spectra/shoyu_data_dict.p'\u001b[0m\u001b[0;34m,\u001b[0m \u001b[0;34m'rb'\u001b[0m\u001b[0;34m)\u001b[0m\u001b[0;34m)\u001b[0m\u001b[0;34m\u001b[0m\u001b[0;34m\u001b[0m\u001b[0m\n\u001b[0m\u001b[1;32m     15\u001b[0m \u001b[0;34m\u001b[0m\u001b[0m\n\u001b[1;32m     16\u001b[0m \u001b[0;32mdef\u001b[0m \u001b[0mCarbonMonoxide\u001b[0m\u001b[0;34m(\u001b[0m\u001b[0;34m)\u001b[0m\u001b[0;34m:\u001b[0m\u001b[0;34m\u001b[0m\u001b[0;34m\u001b[0m\u001b[0m\n",
      "\u001b[0;31mFileNotFoundError\u001b[0m: [Errno 2] No such file or directory: 'raman_spectra/shoyu_data_dict.p'"
     ]
    }
   ],
   "source": [
    "from ramannoodles import water\n",
    "from ramannoodles import carbonmonoxide"
   ]
  },
  {
   "cell_type": "code",
   "execution_count": 17,
   "metadata": {},
   "outputs": [],
   "source": [
    "result = water.water()"
   ]
  },
  {
   "cell_type": "code",
   "execution_count": 15,
   "metadata": {},
   "outputs": [
    {
     "data": {
      "text/plain": [
       "(388.677,\n",
       " 3799.46,\n",
       " [284.6239131319124, 60.32966482798571, 278.50492691505036],\n",
       " [678.0782334453711, 1637.5543502609387, 3368.238938601593],\n",
       " [669.7769952837992, 123.30210972210591, 992.5161639078589])"
      ]
     },
     "execution_count": 15,
     "metadata": {},
     "output_type": "execute_result"
    }
   ],
   "source": [
    "result"
   ]
  },
  {
   "cell_type": "code",
   "execution_count": null,
   "metadata": {},
   "outputs": [],
   "source": []
  }
 ],
 "metadata": {
  "kernelspec": {
   "display_name": "Python 3",
   "language": "python",
   "name": "python3"
  },
  "language_info": {
   "codemirror_mode": {
    "name": "ipython",
    "version": 3
   },
   "file_extension": ".py",
   "mimetype": "text/x-python",
   "name": "python",
   "nbconvert_exporter": "python",
   "pygments_lexer": "ipython3",
   "version": "3.7.1"
  }
 },
 "nbformat": 4,
 "nbformat_minor": 2
}
