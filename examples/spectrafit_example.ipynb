{
 "cells": [
  {
   "cell_type": "code",
   "execution_count": 5,
   "metadata": {},
   "outputs": [
    {
     "name": "stdout",
     "output_type": "stream",
     "text": [
      "['/Users/Parker1/UW_MSE/Winter 2019/DIRECT/Raman Noodles/Raman-noodles/examples', '/Users/Parker1/anaconda3/lib/python37.zip', '/Users/Parker1/anaconda3/lib/python3.7', '/Users/Parker1/anaconda3/lib/python3.7/lib-dynload', '', '/Users/Parker1/anaconda3/lib/python3.7/site-packages', '/Users/Parker1/anaconda3/lib/python3.7/site-packages/aeosa', '/Users/Parker1/anaconda3/lib/python3.7/site-packages/IPython/extensions', '/Users/Parker1/.ipython']\n"
     ]
    }
   ],
   "source": [
    "import sys\n",
    "print(sys.path)"
   ]
  },
  {
   "cell_type": "code",
   "execution_count": null,
   "metadata": {},
   "outputs": [],
   "source": []
  }
 ],
 "metadata": {
  "kernelspec": {
   "display_name": "Python 3",
   "language": "python",
   "name": "python3"
  },
  "language_info": {
   "codemirror_mode": {
    "name": "ipython",
    "version": 3
   },
   "file_extension": ".py",
   "mimetype": "text/x-python",
   "name": "python",
   "nbconvert_exporter": "python",
   "pygments_lexer": "ipython3",
   "version": "3.7.1"
  }
 },
 "nbformat": 4,
 "nbformat_minor": 2
}
