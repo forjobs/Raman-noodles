{
 "cells": [
  {
   "cell_type": "code",
   "execution_count": 2,
   "metadata": {},
   "outputs": [
    {
     "ename": "ImportError",
     "evalue": "cannot import name 'test_peakidentify'",
     "output_type": "error",
     "traceback": [
      "\u001b[1;31m---------------------------------------------------------------------------\u001b[0m",
      "\u001b[1;31mImportError\u001b[0m                               Traceback (most recent call last)",
      "\u001b[1;32m<ipython-input-2-354b73961dfd>\u001b[0m in \u001b[0;36m<module>\u001b[1;34m\u001b[0m\n\u001b[0;32m      7\u001b[0m \u001b[1;32mimport\u001b[0m \u001b[0mmath\u001b[0m\u001b[1;33m\u001b[0m\u001b[1;33m\u001b[0m\u001b[0m\n\u001b[0;32m      8\u001b[0m \u001b[1;32mfrom\u001b[0m \u001b[0mramannoodles\u001b[0m \u001b[1;32mimport\u001b[0m \u001b[0mpeakidentify\u001b[0m\u001b[1;33m\u001b[0m\u001b[1;33m\u001b[0m\u001b[0m\n\u001b[1;32m----> 9\u001b[1;33m \u001b[1;32mfrom\u001b[0m \u001b[0mramannoodles\u001b[0m \u001b[1;32mimport\u001b[0m \u001b[0mtest_peakidentify\u001b[0m\u001b[1;33m\u001b[0m\u001b[1;33m\u001b[0m\u001b[0m\n\u001b[0m",
      "\u001b[1;31mImportError\u001b[0m: cannot import name 'test_peakidentify'"
     ]
    }
   ],
   "source": [
    "import matplotlib.pyplot as plt\n",
    "import numpy as np\n",
    "import pickle\n",
    "from ramannoodles import spectrafit\n",
    "from ramannoodles import shoyu\n",
    "import pandas as pd\n",
    "import math\n",
    "from ramannoodles import peakidentify\n",
    "from ramannoodles import test_peakidentify"
   ]
  },
  {
   "cell_type": "code",
   "execution_count": null,
   "metadata": {},
   "outputs": [],
   "source": [
    "#If you re-call the method, it will tell you that the files are already downloaded.\n",
    "shoyu.initialize_standard_library()\n",
    "# open spectra library\n",
    "shoyu_data_dict = pickle.load(open('../raman_spectra/shoyu_data_dict.p', 'rb'))\n",
    "# list keys\n",
    "sorted(shoyu_data_dict.keys())"
   ]
  },
  {
   "cell_type": "code",
   "execution_count": null,
   "metadata": {},
   "outputs": [],
   "source": [
    "compound_1 = shoyu_data_dict['WATER']\n",
    "compound_2 = shoyu_data_dict['CARBON MONOXIDE']\n",
    "spectra_x, spectra_y = shoyu.combine_spectra(compound_1, compound_2, plot = True)"
   ]
  },
  {
   "cell_type": "code",
   "execution_count": null,
   "metadata": {},
   "outputs": [],
   "source": [
    "def peak_1D_score(rowA,rowB,scoremax):\n",
    "    \"\"\"\n",
    "    Returns scores with respect to the repricoal of the \n",
    "    calculated Euclidean distance between peaks\n",
    "    #√((x1-x2)^2) in 1D\n",
    "    #√((x1-x2)^2 + (y1-y2)^2) in 2D\n",
    "\n",
    "    Parameters:\n",
    "        row A (list):  input list\n",
    "        row B (list): input list\n",
    "        scoremax (float): Euclidean reciprocal score divided by max score\n",
    "\n",
    "    Returns:\n",
    "        scores (list): Euclidean reciprocal scores\n",
    "        peaks (tuple): peaks associated with scores\n",
    "    \"\"\"\n",
    "    scores = []\n",
    "    peaks=[]\n",
    "    \n",
    "\n",
    "    for i in range(len(rowA)):\n",
    "        for j in range(len(rowB)):\n",
    "            distance = np.where((rowA[i] - rowB[j]>50),np.nan,math.sqrt(sum([math.pow(rowA[i] - rowB[j], 2)])))\n",
    "            if (1/(distance + 1)>.02): # Score for peaks less than 50 units apart\n",
    "                scores.append(((1/(distance + 1))/scoremax))\n",
    "                peaks.append((rowA[i],rowB[j]))\n",
    "            else:\n",
    "                pass\n",
    "    return scores,peaks\n",
    "\n",
    "def score_max(list_input, row,k):\n",
    "    \"\"\"\n",
    "    Returns list of scores sorted with respect to the peaks related to its output max score\n",
    "\n",
    "    Parameters:\n",
    "        list_input (list):  input list\n",
    "        row (list): input list\n",
    "        k (int): input integer used to sort the scores / kth highest score\n",
    "\n",
    "    Returns:\n",
    "        maxscores (list): Euclidean reciprocal score divided by max score\n",
    "        maxpeaks (tuple): peaks associated with max scores\n",
    "    \"\"\"\n",
    "    try:\n",
    "        scoremax= sorted(set(peak_1D_score(list_input,row,1)[0][:]))[-k]\n",
    "        maxscores,maxpeaks = peak_1D_score(list_input,row,scoremax)\n",
    "    \n",
    "    except Exception as e:\n",
    "        \n",
    "        maxscores,maxpeaks = peak_1D_score(list_input,row, scoremax=1)\n",
    "        \n",
    "    return maxscores,maxpeaks\n",
    "def score_sort(list_input, row,k):\n",
    "    \"\"\"\n",
    "    Returns list of scores sorted\n",
    "\n",
    "    Parameters:\n",
    "        list_input (list):  input list\n",
    "        row (list): input list\n",
    "        k (int): input integer used to sort the scores / kth highest score\n",
    "\n",
    "    Returns:\n",
    "        sortedscores (list): sorted Euclidean distances\n",
    "    \"\"\"\n",
    "    sortedscores = []\n",
    "    sortedscores.append(score_max(list_input,row,k))\n",
    "    return sortedscores"
   ]
  },
  {
   "cell_type": "code",
   "execution_count": null,
   "metadata": {},
   "outputs": [],
   "source": [
    "def test_peak_1D_score():\n",
    "    \"\"\"Evaluates the functionality of the peak_1D_score function\"\"\"\n",
    "    # Initialize the test arguments \n",
    "    row_i=[0,1]\n",
    "    row_j=[2,1]\n",
    "    rowcat=row_i+row_j\n",
    "    ArrayA=np.array([[0,1], [2,1],[0,3]])\n",
    "#     print(type(ArrayA))\n",
    "    # Run Function for lists\n",
    "    testscore=peak_1D_score(row_i,row_j,1)[0][:]\n",
    "#     print(testscore)\n",
    "    testpeaks=peak_1D_score(row_i,row_j,1)[1][:]\n",
    "#     print(testpeaks)\n",
    "    # Run Function for arrays\n",
    "    Arrayscore=peak_1D_score(ArrayA[0],ArrayA[2],1)[0][:]\n",
    "    print(Arrayscore)\n",
    "    print(ArrayA[0])\n",
    "    arraycat=np.concatenate((ArrayA[0],ArrayA[2]))\n",
    "    print(arraycat)\n",
    "    # make assertions\n",
    "    assert len(row_i) == len(row_j), 'Input lengths do not match'\n",
    "    assert len(Arrayscore) == len(arraycat), 'Output list length different than concatenated lists length'\n",
    "    for i in range(len(rowcat)):\n",
    "        assert testscore[i] <= 1, 'Output value outside acceptable range'\n",
    "\n",
    "def test_score_max():\n",
    "    \"\"\"Evaluates the functionality of the score_max function\"\"\"\n",
    "    # Initialize the test arguments \n",
    "    row_i=[0,1]\n",
    "    row_j=[2,1]\n",
    "    rowcat=row_i+row_j\n",
    "    ArrayA=np.array([[0,1], [2,1],[0,3]])\n",
    "    print(type(ArrayA))\n",
    "    k=2\n",
    "    arraycat=np.concatenate((ArrayA[0],ArrayA[1]))\n",
    "    print(arraycat)\n",
    "    # Run Function\n",
    "    maxscores,maxpeaks = score_max(row_i,row_j,k)\n",
    "    Arrmaxscores,Arrmaxpeaks = score_max(ArrayA[0],ArrayA[1],k)\n",
    "    # make assertions\n",
    "    assert len(Arrmaxscores) == len(arraycat), 'Output list length different than array length'\n",
    "    for i in range(len(arraycat)):\n",
    "        assert Arrmaxscores[i] <= 2, 'Output value outside acceptable range'\n",
    "        \n",
    "def test_score_sort():\n",
    "    \"\"\"Evaluates the functionality of the score_sort function\"\"\"\n",
    "    # Initialize the test arguments \n",
    "    row_i=[0,1]\n",
    "    row_j=[2,1]\n",
    "    rowcat=row_i+row_j\n",
    "    ArrayA=np.array([[0,1], [2,1],[0,3]])\n",
    "    k=2\n",
    "    arraycat=np.concatenate((ArrayA[0],ArrayA[1]))\n",
    "    # Run Previous Function to get max score normalization\n",
    "    maxscores,maxpeaks = score_max(row_i,row_j,k)\n",
    "    # Run Function\n",
    "    sortedscores=score_sort(row_i,row_j,max(maxscores))[0][0]\n",
    "    Arrsortedscores=score_sort(ArrayA[0],ArrayA[1],max(maxscores))[0][0]\n",
    "    print(max(maxscores))\n",
    "    print(Arrsortedscores)\n",
    "    # make assertions\n",
    "    assert len(arraycat) == len(Arrsortedscores), 'Output list length different than concatenated lists length'"
   ]
  },
  {
   "cell_type": "code",
   "execution_count": null,
   "metadata": {},
   "outputs": [],
   "source": [
    "peakidentifytest_peak_1D_score()\n",
    "# I feel like most of my thing could be a pairwise correlation function"
   ]
  },
  {
   "cell_type": "code",
   "execution_count": null,
   "metadata": {},
   "outputs": [],
   "source": [
    "test_score_max()"
   ]
  },
  {
   "cell_type": "code",
   "execution_count": null,
   "metadata": {},
   "outputs": [],
   "source": [
    "test_score_sort()"
   ]
  },
  {
   "cell_type": "code",
   "execution_count": null,
   "metadata": {},
   "outputs": [],
   "source": [
    "compound_1 = shoyu_data_dict['WATER']\n",
    "x_water = compound_1['x']\n",
    "y_water = compound_1['y']\n",
    "compound_2 = shoyu_data_dict['CARBON MONOXIDE']\n",
    "x_co = compound_1['x']\n",
    "y_co = compound_1['y']\n",
    "compound_3 = shoyu_data_dict['CARBON DIOXIDE']\n",
    "x_co2 = compound_1['x']\n",
    "y_co2 = compound_1['y']\n",
    "peaks_centers1 = spectrafit.compound_report(compound_1)[0]\n",
    "print(peaks_centers1)\n",
    "peaks_centers2 = spectrafit.compound_report(compound_2)[0] \n",
    "peaks_centers3 = spectrafit.compound_report(compound_3)[0] \n",
    "centerlist= [peaks_centers1,peaks_centers2,peaks_centers3]\n",
    "print(centerlist)"
   ]
  },
  {
   "cell_type": "code",
   "execution_count": null,
   "metadata": {},
   "outputs": [],
   "source": [
    "combined_x12,combined_y12 = shoyu.combine_spectra(compound_1,compound_2, plot = True)"
   ]
  },
  {
   "cell_type": "code",
   "execution_count": null,
   "metadata": {},
   "outputs": [],
   "source": [
    "data_peaks_combine12 = spectrafit.data_report(combined_x12,combined_y12)[0]\n",
    "peak_1D_score(peaks_centers1,data_peaks_combine12,1)\n",
    "peak_1D_score(centerlist[0],data_peaks_combine12,1)\n",
    "peak_1D_score(peaks_centers1,data_peaks_combine12,max(peak_1D_score(peaks_centers1,data_peaks_combine12,1)[0][:]))"
   ]
  },
  {
   "cell_type": "code",
   "execution_count": null,
   "metadata": {},
   "outputs": [],
   "source": [
    "peak_1D_score(peaks_centers1,data_peaks_combine12,1)"
   ]
  },
  {
   "cell_type": "code",
   "execution_count": null,
   "metadata": {},
   "outputs": [],
   "source": [
    "peak_1D_score(centerlist[0],data_peaks_combine12,1)"
   ]
  },
  {
   "cell_type": "code",
   "execution_count": null,
   "metadata": {},
   "outputs": [],
   "source": [
    "peak_1D_score(peaks_centers1,data_peaks_combine12,max(peak_1D_score(peaks_centers1,data_peaks_combine12,1)[0][:]))"
   ]
  },
  {
   "cell_type": "code",
   "execution_count": null,
   "metadata": {},
   "outputs": [],
   "source": [
    "peak_1D_score(peaks_centers1,data_peaks_combine12,sorted(set(peak_1D_score(peaks_centers1,data_peaks_combine12,1)[0][:]))[-2])"
   ]
  },
  {
   "cell_type": "code",
   "execution_count": null,
   "metadata": {},
   "outputs": [],
   "source": [
    "combined_x13,combined_y13  = shoyu.combine_spectra(compound_1, compound_3, plot = True)"
   ]
  },
  {
   "cell_type": "code",
   "execution_count": null,
   "metadata": {},
   "outputs": [],
   "source": [
    "combined_x23,combined_y23  = shoyu.combine_spectra(compound_2, compound_3, plot = True)"
   ]
  },
  {
   "cell_type": "code",
   "execution_count": null,
   "metadata": {},
   "outputs": [],
   "source": [
    "data_peaks_combine12 = spectrafit.data_report(combined_x12,combined_y12)\n"
   ]
  },
  {
   "cell_type": "code",
   "execution_count": null,
   "metadata": {},
   "outputs": [],
   "source": [
    "data_peaks_combine13 = spectrafit.data_report(combined_x13,combined_y13)\n"
   ]
  },
  {
   "cell_type": "code",
   "execution_count": null,
   "metadata": {},
   "outputs": [],
   "source": [
    "data_peaks_combine23 = spectrafit.data_report(combined_x23,combined_y23)\n"
   ]
  },
  {
   "cell_type": "code",
   "execution_count": null,
   "metadata": {},
   "outputs": [],
   "source": [
    "combinedlist=[data_peaks_combine12,data_peaks_combine13,data_peaks_combine23]"
   ]
  },
  {
   "cell_type": "code",
   "execution_count": null,
   "metadata": {},
   "outputs": [],
   "source": [
    "print(score_sort(data_peaks_combine12[0],peaks_centers1,1))"
   ]
  },
  {
   "cell_type": "code",
   "execution_count": null,
   "metadata": {},
   "outputs": [],
   "source": [
    "print(peaks_centers1)\n",
    "print(data_peaks_combine12)\n",
    "print(data_peaks_combine12[0])"
   ]
  },
  {
   "cell_type": "code",
   "execution_count": null,
   "metadata": {},
   "outputs": [],
   "source": [
    "print(peaks_centers2)\n",
    "print(list(combinedlist[0][:][1]))\n",
    "print(centerlist[0])"
   ]
  },
  {
   "cell_type": "code",
   "execution_count": null,
   "metadata": {},
   "outputs": [],
   "source": [
    "data=score_sort(data_peaks_combine13[0],peaks_centers1,2)[0][1][:]\n",
    "print(data)"
   ]
  },
  {
   "cell_type": "code",
   "execution_count": null,
   "metadata": {
    "scrolled": true
   },
   "outputs": [],
   "source": [
    "\n",
    "compdf = pd.DataFrame(data=score_sort(data_peaks_combine12[0],peaks_centers1,2)[0][0][:],columns=['WATER_vs_CO_WATER_Scores'])\n",
    "compdf=compdf.assign(WATER_vs_CO_WATER_Peaks=score_sort(data_peaks_combine12[0],peaks_centers1,2)[0][1][:])\n",
    "compdf2=pd.DataFrame(data=score_sort(data_peaks_combine12[0],peaks_centers2,2)[0][0][:],columns=['CO_vs_CO_WATER_Scores'])\n",
    "compdf2=compdf2.assign(CO_vs_CO_WATER_scores=score_sort(data_peaks_combine12[0],peaks_centers2,2)[0][1][:])\n",
    "data=score_sort(data_peaks_combine13[0],peaks_centers1,2)\n",
    "print(data)\n"
   ]
  },
  {
   "cell_type": "code",
   "execution_count": null,
   "metadata": {},
   "outputs": [],
   "source": [
    "print(compdf)\n",
    "print(compdf2)"
   ]
  },
  {
   "cell_type": "code",
   "execution_count": null,
   "metadata": {},
   "outputs": [],
   "source": [
    "k_range = range(1,len(data_peaks_combine12))\n",
    "for k in k_range:\n",
    "    compdf = pd.DataFrame(data=score_sort(data_peaks_combine12[0],peaks_centers1,k)[0][0][:],columns=['Score for max peak #'+str(k)])\n",
    "    compdf=compdf.assign(peaks=score_sort(data_peaks_combine12[0],peaks_centers1,k)[0][1][:])\n",
    "    print(compdf)"
   ]
  },
  {
   "cell_type": "code",
   "execution_count": null,
   "metadata": {
    "scrolled": false
   },
   "outputs": [],
   "source": [
    "k_range = range(1,len(data_peaks_combine23))\n",
    "for i in range(len(combinedlist)):\n",
    "    for j in range(len(centerlist)):\n",
    "        for k in k_range:\n",
    "            compdf = pd.DataFrame(data=score_sort(centerlist[j],combinedlist[0][:][i],k)[0][0][:],columns=['Score for max peak k#'+str(k)])\n",
    "            compdf=compdf.assign(peaks=score_sort(centerlist[j],combinedlist[0][:][i],k)[0][1][:])\n",
    "            print(compdf)"
   ]
  },
  {
   "cell_type": "code",
   "execution_count": null,
   "metadata": {},
   "outputs": [],
   "source": [
    "data=score_sort(centerlist[0],combinedlist[0][:][0],1)[0]\n",
    "print(data)"
   ]
  },
  {
   "cell_type": "code",
   "execution_count": null,
   "metadata": {},
   "outputs": [],
   "source": [
    "scores=score_sort(centerlist[0],combinedlist[0][:][0],1)[0][0][:]\n",
    "peaks=score_sort(centerlist[0],combinedlist[0][:][0],1)[0][1][:]\n",
    "print(peaks)\n",
    "compdf = pd.DataFrame(data=scores,columns=['WATER_comp_CO_Scores'])\n",
    "compdf=compdf.assign(WATER__comp_CO_Peaks=peaks)\n",
    "scores=score_sort(centerlist[0],combinedlist[0][:][0],1)[0][0][:]\n",
    "peaks=score_sort(centerlist[0],combinedlist[0][:][0],1)[0][1][:]\n",
    "print(peaks)\n",
    "compdf=compdf.assign(Peaks=peaks)\n",
    "print(compdf)"
   ]
  },
  {
   "cell_type": "code",
   "execution_count": null,
   "metadata": {},
   "outputs": [],
   "source": [
    "compdf = pd.DataFrame(data=scores,columns=['WATER_comp_CO_Scores'])"
   ]
  },
  {
   "cell_type": "code",
   "execution_count": null,
   "metadata": {},
   "outputs": [],
   "source": []
  },
  {
   "cell_type": "code",
   "execution_count": null,
   "metadata": {},
   "outputs": [],
   "source": [
    "# you will need to download the file yourself from the team google drive and edit location\n",
    "df = pd.read_excel('../examples/FormicAcid_3percentconc_400C_5s_00000.xlsx', names=('x', 'y'))"
   ]
  },
  {
   "cell_type": "code",
   "execution_count": null,
   "metadata": {},
   "outputs": [],
   "source": [
    "fig = plt.figure(figsize=(6,4), dpi = 300)\n",
    "x_data = df['x'].values\n",
    "y_data = df['y'].values"
   ]
  },
  {
   "cell_type": "code",
   "execution_count": null,
   "metadata": {},
   "outputs": [],
   "source": []
  },
  {
   "cell_type": "code",
   "execution_count": null,
   "metadata": {},
   "outputs": [],
   "source": [
    "# Exp_peaks = spectrafit.data_report(x_data, y_data)a"
   ]
  },
  {
   "cell_type": "code",
   "execution_count": null,
   "metadata": {},
   "outputs": [],
   "source": [
    "compound_1 = shoyu_data_dict['WATER']\n",
    "compound_2 = shoyu_data_dict['CARBON MONOXIDE']\n",
    "compound_3 = shoyu_data_dict['ETHYL ALCOHOL']\n",
    "compound_4 = shoyu_data_dict['FORMIC ACID']\n",
    "compound_5 = shoyu_data_dict['CARBON DIOXIDE']\n",
    "H2O_CO_x, H2O_CO_y = shoyu.combine_spectra(compound_1, compound_2, plot = True)\n",
    "H2O_CO2_x, H2O_CO2_y = shoyu.combine_spectra(compound_1, compound_5, plot = True)"
   ]
  },
  {
   "cell_type": "code",
   "execution_count": null,
   "metadata": {},
   "outputs": [],
   "source": [
    "H2O_CO_x = np.asarray(H2O_CO_x)\n",
    "H2O_CO_y = np.asarray(H2O_CO_y)\n",
    "H2O_CO2_x = np.asarray(H2O_CO2_x)\n",
    "H2O_CO2_y = np.asarray(H2O_CO2_y)"
   ]
  },
  {
   "cell_type": "code",
   "execution_count": null,
   "metadata": {},
   "outputs": [],
   "source": [
    "water_peaks = spectrafit.compound_report(compound_1)[0]\n",
    "co_peaks = spectrafit.compound_report(compound_2)[0]\n",
    "co2_peaks = spectrafit.compound_report(compound_5)[0]\n",
    "H2O_CO_peaks = spectrafit.data_report(H2O_CO_x, H2O_CO_y)\n",
    "print(H2O_CO_peaks)\n",
    "H2O_CO2_peaks = spectrafit.data_report(H2O_CO2_x, H2O_CO2_y)\n"
   ]
  },
  {
   "cell_type": "code",
   "execution_count": null,
   "metadata": {},
   "outputs": [],
   "source": [
    "print(H2O_CO2_peaks)"
   ]
  },
  {
   "cell_type": "code",
   "execution_count": null,
   "metadata": {},
   "outputs": [],
   "source": [
    "fig = plt.figure(figsize=(6,4), dpi = 300)\n",
    "plt.plot(x_data, y_data, color = 'blue',label ='Experimental')\n",
    "#plt.plot(H2O_CO_x, H2O_CO_y, color = 'red', label = 'Sample Spectra')\n",
    "plt.xlabel('cm$^{-1}$', fontsize=14)\n",
    "plt.ylabel('Absoprtion', fontsize=14)"
   ]
  },
  {
   "cell_type": "code",
   "execution_count": null,
   "metadata": {},
   "outputs": [],
   "source": []
  },
  {
   "cell_type": "code",
   "execution_count": null,
   "metadata": {},
   "outputs": [],
   "source": []
  },
  {
   "cell_type": "code",
   "execution_count": null,
   "metadata": {},
   "outputs": [],
   "source": []
  },
  {
   "cell_type": "code",
   "execution_count": null,
   "metadata": {},
   "outputs": [],
   "source": []
  },
  {
   "cell_type": "code",
   "execution_count": null,
   "metadata": {},
   "outputs": [],
   "source": []
  }
 ],
 "metadata": {
  "kernelspec": {
   "display_name": "Python 3",
   "language": "python",
   "name": "python3"
  },
  "language_info": {
   "codemirror_mode": {
    "name": "ipython",
    "version": 3
   },
   "file_extension": ".py",
   "mimetype": "text/x-python",
   "name": "python",
   "nbconvert_exporter": "python",
   "pygments_lexer": "ipython3",
   "version": "3.6.8"
  }
 },
 "nbformat": 4,
 "nbformat_minor": 2
}
