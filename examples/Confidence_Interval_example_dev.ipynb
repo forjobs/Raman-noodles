{
 "cells": [
  {
   "cell_type": "code",
   "execution_count": 3,
   "metadata": {},
   "outputs": [],
   "source": [
    "import matplotlib.pyplot as plt\n",
    "import numpy as np\n",
    "import pickle\n",
    "from ramannoodles import spectrafit\n",
    "from ramannoodles import shoyu\n",
    "import pandas as pd\n",
    "import math"
   ]
  },
  {
   "cell_type": "code",
   "execution_count": 4,
   "metadata": {},
   "outputs": [
    {
     "name": "stdout",
     "output_type": "stream",
     "text": [
      "file already in raman_spectra folder\n",
      "WATER loaded into the dictionary - shoyu_data_dict.p\n",
      "file already in raman_spectra folder\n",
      "CARBON MONOXIDE loaded into the dictionary - shoyu_data_dict.p\n",
      "file already in raman_spectra folder\n",
      "CARBON DIOXIDE loaded into the dictionary - shoyu_data_dict.p\n",
      "file already in raman_spectra folder\n",
      "FORMIC ACID loaded into the dictionary - shoyu_data_dict.p\n",
      "file already in raman_spectra folder\n",
      "2-PROPANOL loaded into the dictionary - shoyu_data_dict.p\n",
      "file already in raman_spectra folder\n",
      "ETHYL ALCOHOL loaded into the dictionary - shoyu_data_dict.p\n",
      "file already in raman_spectra folder\n",
      "DIMETHYL KETONE loaded into the dictionary - shoyu_data_dict.p\n"
     ]
    },
    {
     "data": {
      "text/plain": [
       "['2-PROPANOL',\n",
       " 'CARBON DIOXIDE',\n",
       " 'CARBON MONOXIDE',\n",
       " 'DIMETHYL KETONE',\n",
       " 'ETHYL ALCOHOL',\n",
       " 'FORMIC ACID',\n",
       " 'WATER']"
      ]
     },
     "execution_count": 4,
     "metadata": {},
     "output_type": "execute_result"
    }
   ],
   "source": [
    "#If you re-call the method, it will tell you that the files are already downloaded.\n",
    "shoyu.initialize_standard_library()\n",
    "# open spectra library\n",
    "shoyu_data_dict = pickle.load(open('../raman_spectra/shoyu_data_dict.p', 'rb'))\n",
    "# list keys\n",
    "sorted(shoyu_data_dict.keys())"
   ]
  },
  {
   "cell_type": "code",
   "execution_count": null,
   "metadata": {},
   "outputs": [],
   "source": [
    "compound_1 = shoyu_data_dict['WATER']\n",
    "compound_2 = shoyu_data_dict['CARBON MONOXIDE']\n",
    "spectra_x, spectra_y = shoyu.combine_spectra(compound_1, compound_2, plot = True)"
   ]
  },
  {
   "cell_type": "code",
   "execution_count": null,
   "metadata": {},
   "outputs": [],
   "source": [
    "# Exploring a basic example from lmfit documentation\n",
    "import lmfit\n",
    "import numpy as np\n",
    "x = np.linspace(0.3, 10, 100)\n",
    "np.random.seed(0)\n",
    "y = 1/(0.1*x) + 2 + 0.1*np.random.randn(x.size)\n",
    "pars = lmfit.Parameters()\n",
    "pars.add_many(('a', 0.1), ('b', 1))\n",
    "def residual(p):\n",
    "    return 1/(p['a']*x) + p['b'] - y"
   ]
  },
  {
   "cell_type": "code",
   "execution_count": null,
   "metadata": {},
   "outputs": [],
   "source": [
    "# Running a fit \n",
    "mini = lmfit.Minimizer(residual,pars)\n",
    "result = mini.minimize()\n",
    "print(mini.leastsq())\n",
    "print(lmfit.fit_report(result.params))"
   ]
  },
  {
   "cell_type": "code",
   "execution_count": null,
   "metadata": {},
   "outputs": [],
   "source": [
    "# Getting a basic confidence interval\n",
    "ci = lmfit.conf_interval(mini,result)\n",
    "lmfit.printfuncs.report_ci(ci)"
   ]
  },
  {
   "cell_type": "code",
   "execution_count": null,
   "metadata": {},
   "outputs": [],
   "source": [
    "# using quantiles got the sigmas and using the trace"
   ]
  },
  {
   "cell_type": "code",
   "execution_count": null,
   "metadata": {},
   "outputs": [],
   "source": [
    "#Bootstrapping is also an option"
   ]
  },
  {
   "cell_type": "code",
   "execution_count": null,
   "metadata": {},
   "outputs": [],
   "source": [
    "def peak_1D_score(rowA,rowB,scoremax):\n",
    "    \"\"\"\n",
    "    Returns scores with respect to the repricoal of the \n",
    "    calculated Euclidean distance between peaks\n",
    "    #√((x1-x2)^2) in 1D\n",
    "    #√((x1-x2)^2 + (y1-y2)^2) in 2D\n",
    "\n",
    "    Parameters:\n",
    "        row A (list):  input list\n",
    "        row B (list): input list\n",
    "        scoremax (float): Euclidean reciprocal score divided by max score\n",
    "\n",
    "    Returns:\n",
    "        scores (list): Euclidean reciprocal scores\n",
    "        peaks (tuple): peaks associated with scores\n",
    "    \"\"\"\n",
    "    scores = []\n",
    "    peaks=[]\n",
    "    \n",
    "\n",
    "    for i in range(len(rowA)):\n",
    "        for j in range(len(rowB)):\n",
    "            distance = np.where((rowA[i] - rowB[j]>50),np.nan,math.sqrt(sum([math.pow(rowA[i] - rowB[j], 2)])))\n",
    "            if (1/(distance + 1)>.02): # Score for peaks less than 50 units apart\n",
    "                scores.append((((1/(distance + 1))/scoremax)))\n",
    "                peaks.append((rowA[i],rowB[j]))\n",
    "            else:\n",
    "                pass\n",
    "    return scores,peaks\n",
    "#function calculates distance start\n",
    "\n",
    "def score_max(list_input, row,k):\n",
    "    \"\"\"\n",
    "    Returns list of scores with respect to its output max score\n",
    "\n",
    "    Parameters:\n",
    "        list_input (list):  input list\n",
    "        row (list): input list\n",
    "        k (int): input integer used to sort the scores / kth highest score\n",
    "\n",
    "    Returns:\n",
    "        maxscores (list): Euclidean reciprocal score divided by max score\n",
    "        maxpeaks (tuple): peaks associated with max scores\n",
    "    \"\"\"\n",
    "    try:\n",
    "        maxscores,maxpeaks = peak_1D_score(list_input,row,sorted(set(peak_1D_score(list_input,row,1)[0][:]))[-k])\n",
    "    \n",
    "    except Exception as e:\n",
    "        \n",
    "        maxscores,maxpeaks = peak_1D_score(list_input,row, scoremax=1)\n",
    "        \n",
    "    return maxscores,maxpeaks\n",
    "def score_sort(list_input, row,k):\n",
    "    \"\"\"\n",
    "    Returns list of scores sorted\n",
    "\n",
    "    Parameters:\n",
    "        list_input (list):  input list\n",
    "        row (list): input list\n",
    "        k (int): input integer used to sort the scores / kth highest score\n",
    "\n",
    "    Returns:\n",
    "        sortedscores (list): sorted Euclidean distances\n",
    "    \"\"\"\n",
    "    sortedscores = []\n",
    "    sortedscores.append(score_max(list_input,row,k))\n",
    "    sortedscores.sort()\n",
    "    return sortedscores"
   ]
  },
  {
   "cell_type": "code",
   "execution_count": null,
   "metadata": {},
   "outputs": [],
   "source": [
    "def test_peak_1D_score():\n",
    "    \"\"\"Evaluates the functionality of the peak_1D_score function\"\"\"\n",
    "    # Initialize the test arguments \n",
    "    row_i=[0,1]\n",
    "    row_j=[2,1]\n",
    "    # Run Function\n",
    "    testscore=peak_1D_score(row_i,row_j,1)[0][:]\n",
    "    testpeaks=peak_1D_score(row_i,row_j,1)[1][:]\n",
    "    # make assertions\n",
    "    assert len(row_i) == len(row_j), 'Input lengths do not match'\n",
    "    assert testscore <= .02, 'Output value outside acceptable range'\n",
    "    assert isinstance(testscore, np.int), 'Output is not a numpy.float'\n",
    "\n",
    "def test_score_max():\n",
    "    \"\"\"Evaluates the functionality of the score_max function\"\"\"\n",
    "    # Initialize the test arguments \n",
    "    maxscores,maxpeaks = peak_1D_score(list_input,row,sorted(set(peak_1D_score(list_input,row,1)[0][:]))[-k])\n",
    "    # Run Function\n",
    "    assert len(d_train.index) == len(sorteddistances), 'Output array length different than DataFrame length'\n",
    "    # make assertions\n",
    "    \n",
    "    return maxscores,maxpeaks\n",
    "def test_score_sort(list_input, row,k):\n",
    "    \"\"\"Evaluates the functionality of the score_sort function\"\"\"\n",
    "    # Initialize the test arguments \n",
    "    sortedscores = []\n",
    "    # Run Function\n",
    "    sortedscores=score_sort(list_input, row,k)\n",
    "    # make assertions\n",
    "    sortedscores.sort()\n",
    "    return sortedscores"
   ]
  },
  {
   "cell_type": "code",
   "execution_count": null,
   "metadata": {},
   "outputs": [],
   "source": [
    "compound_1 = shoyu_data_dict['WATER']\n",
    "x_water = compound_1['x']\n",
    "y_water = compound_1['y']\n",
    "compound_2 = shoyu_data_dict['CARBON MONOXIDE']\n",
    "x_co = compound_1['x']\n",
    "y_co = compound_1['y']\n",
    "compound_3 = shoyu_data_dict['CARBON DIOXIDE']\n",
    "x_co2 = compound_1['x']\n",
    "y_co2 = compound_1['y']\n",
    "peaks_centers1 = spectrafit.compound_report(compound_1)\n",
    "print(peaks_centers1)\n",
    "peaks_centers2 = spectrafit.compound_report(compound_2) \n",
    "peaks_centers3 = spectrafit.compound_report(compound_3) \n",
    "centerlist= [peaks_centers1,peaks_centers2,peaks_centers3]\n",
    "print(centerlist)"
   ]
  },
  {
   "cell_type": "code",
   "execution_count": null,
   "metadata": {},
   "outputs": [],
   "source": [
    "combined_x12,combined_y12 = shoyu.combine_spectra(compound_1,compound_2, plot = True)"
   ]
  },
  {
   "cell_type": "code",
   "execution_count": null,
   "metadata": {},
   "outputs": [],
   "source": [
    "data_peaks_combine12 = spectrafit.data_report(combined_x12,combined_y12)\n",
    "peak_1D_score(peaks_centers1,data_peaks_combine12,sorted(set(\n",
    "    peak_1D_score(peaks_centers1,data_peaks_combine12,1)[0][:]))[-2])"
   ]
  },
  {
   "cell_type": "code",
   "execution_count": null,
   "metadata": {},
   "outputs": [],
   "source": [
    "combined_x13,combined_y13  = shoyu.combine_spectra(compound_1, compound_3, plot = True)"
   ]
  },
  {
   "cell_type": "code",
   "execution_count": null,
   "metadata": {},
   "outputs": [],
   "source": [
    "combined_x23,combined_y23  = shoyu.combine_spectra(compound_2, compound_3, plot = True)"
   ]
  },
  {
   "cell_type": "code",
   "execution_count": null,
   "metadata": {},
   "outputs": [],
   "source": [
    "data_peaks_combine12 = spectrafit.data_report(combined_x12,combined_y12)\n"
   ]
  },
  {
   "cell_type": "code",
   "execution_count": null,
   "metadata": {},
   "outputs": [],
   "source": [
    "data_peaks_combine13 = spectrafit.data_report(combined_x13,combined_y13)\n"
   ]
  },
  {
   "cell_type": "code",
   "execution_count": null,
   "metadata": {},
   "outputs": [],
   "source": [
    "data_peaks_combine23 = spectrafit.data_report(combined_x23,combined_y23)\n"
   ]
  },
  {
   "cell_type": "code",
   "execution_count": null,
   "metadata": {},
   "outputs": [],
   "source": [
    "combinedlist=[data_peaks_combine12,data_peaks_combine13,data_peaks_combine23]"
   ]
  },
  {
   "cell_type": "code",
   "execution_count": null,
   "metadata": {},
   "outputs": [],
   "source": [
    "print(peaks_centers1)\n",
    "print(data_peaks_combine12)\n",
    "print(peaks_centers2)\n",
    "print(combinedlist)\n",
    "print(centerlist)\n",
    "compdf = pd.DataFrame(data=score_sort(data_peaks_combine12,peaks_centers1,2)[0][0][:],columns=['WATER_vs_CO_WATER_Scores'])\n",
    "compdf=compdf.assign(WATER_vs_CO_WATER_Peaks=score_sort(data_peaks_combine12,peaks_centers1,2)[0][1][:])\n",
    "compdf2=pd.DataFrame(data=score_sort(data_peaks_combine12,peaks_centers2,2)[0][0][:],columns=['CO_vs_CO_WATER_Scores'])\n",
    "compdf2=compdf2.assign(CO_vs_CO_WATER_scores=score_sort(data_peaks_combine12,peaks_centers2,2)[0][1][:])\n",
    "# data=score_sort(data_peaks_combine13,peaks_centers1)\n",
    "# print(data)\n",
    "print(compdf)\n",
    "print(compdf2)"
   ]
  },
  {
   "cell_type": "code",
   "execution_count": null,
   "metadata": {},
   "outputs": [],
   "source": [
    "k_range = range(1,len(data_peaks_combine12))\n",
    "for k in k_range:\n",
    "    compdf = pd.DataFrame(data=score_sort(data_peaks_combine12,peaks_centers1,k)[0][0][:],columns=['Score for max peak #'+str(k)])\n",
    "    compdf=compdf.assign(peaks=score_sort(data_peaks_combine12,peaks_centers1,k)[0][1][:])\n",
    "    print(compdf)"
   ]
  },
  {
   "cell_type": "code",
   "execution_count": null,
   "metadata": {
    "scrolled": false
   },
   "outputs": [],
   "source": [
    "k_range = range(1,len(data_peaks_combine23))\n",
    "for i in range(len(combinedlist)):\n",
    "    for j in range(len(centerlist)):\n",
    "        for k in k_range:\n",
    "            compdf = pd.DataFrame(data=score_sort(centerlist[j],combinedlist[i],k)[0][0][:],columns=['Score for max peak k#'+str(k)])\n",
    "            compdf=compdf.assign(peaks=score_sort(centerlist[j],combinedlist[i],k)[0][1][:])\n",
    "            print(compdf)"
   ]
  },
  {
   "cell_type": "code",
   "execution_count": null,
   "metadata": {},
   "outputs": [],
   "source": [
    "data=score_sort(centerlist[0],combinedlist[1],1)\n",
    "print(data)"
   ]
  },
  {
   "cell_type": "code",
   "execution_count": null,
   "metadata": {},
   "outputs": [],
   "source": [
    "scores=score_sort(centerlist[0],combinedlist[0],1)[0][0][:]\n",
    "peaks=score_sort(centerlist[0],combinedlist[0],1)[0][1][:]\n",
    "print(peaks)\n",
    "compdf = pd.DataFrame(data=scores,columns=['WATER_comp_CO_Scores'])\n",
    "compdf=compdf.assign(WATER__comp_CO_Peaks=peaks)\n",
    "scores=score_sort(centerlist[0],combinedlist[0],1)[0][0][:]\n",
    "peaks=score_sort(centerlist[0],combinedlist[0],1)[0][1][:]\n",
    "print(peaks)\n",
    "compdf=compdf.assign(Peaks=peaks)\n",
    "print(compdf)"
   ]
  },
  {
   "cell_type": "code",
   "execution_count": null,
   "metadata": {},
   "outputs": [],
   "source": [
    "compdf = pd.DataFrame(data=scores,columns=['WATER_comp_CO_Scores'])"
   ]
  },
  {
   "cell_type": "code",
   "execution_count": null,
   "metadata": {},
   "outputs": [],
   "source": []
  },
  {
   "cell_type": "code",
   "execution_count": null,
   "metadata": {},
   "outputs": [],
   "source": [
    "# you will need to download the file yourself from the team google drive and edit location\n",
    "df = pd.read_excel('../examples/FormicAcid_3percentconc_400C_5s_00000.xlsx', names=('x', 'y'))"
   ]
  },
  {
   "cell_type": "code",
   "execution_count": null,
   "metadata": {},
   "outputs": [],
   "source": [
    "fig = plt.figure(figsize=(6,4), dpi = 300)\n",
    "x_data = df['x'].values\n",
    "y_data = df['y'].values"
   ]
  },
  {
   "cell_type": "code",
   "execution_count": null,
   "metadata": {},
   "outputs": [],
   "source": [
    "# Exp_peaks = spectrafit.data_report(x_data, y_data)"
   ]
  },
  {
   "cell_type": "code",
   "execution_count": null,
   "metadata": {},
   "outputs": [],
   "source": [
    "compound_1 = shoyu_data_dict['WATER']\n",
    "compound_2 = shoyu_data_dict['CARBON MONOXIDE']\n",
    "compound_3 = shoyu_data_dict['ETHYL ALCOHOL']\n",
    "compound_4 = shoyu_data_dict['FORMIC ACID']\n",
    "compound_5 = shoyu_data_dict['CARBON DIOXIDE']\n",
    "H2O_CO_x, H2O_CO_y = shoyu.combine_spectra(compound_1, compound_2, plot = True)\n",
    "H2O_CO2_x, H2O_CO2_y = shoyu.combine_spectra(compound_1, compound_5, plot = True)"
   ]
  },
  {
   "cell_type": "code",
   "execution_count": null,
   "metadata": {},
   "outputs": [],
   "source": [
    "H2O_CO_x = np.asarray(H2O_CO_x)\n",
    "H2O_CO_y = np.asarray(H2O_CO_y)\n",
    "H2O_CO2_x = np.asarray(H2O_CO2_x)\n",
    "H2O_CO2_y = np.asarray(H2O_CO2_y)"
   ]
  },
  {
   "cell_type": "code",
   "execution_count": null,
   "metadata": {},
   "outputs": [],
   "source": [
    "water_peaks = spectrafit.compound_report(compound_1)[0]\n",
    "co_peaks = spectrafit.compound_report(compound_2)[0]\n",
    "co2_peaks = spectrafit.compound_report(compound_5)[0]\n",
    "H2O_CO_peaks = spectrafit.data_report(H2O_CO_x, H2O_CO_y)\n",
    "print(H2O_CO_peaks)\n",
    "H2O_CO2_peaks = spectrafit.data_report(H2O_CO2_x, H2O_CO2_y)\n"
   ]
  },
  {
   "cell_type": "code",
   "execution_count": null,
   "metadata": {},
   "outputs": [],
   "source": [
    "print(H2O_CO2_peaks)"
   ]
  },
  {
   "cell_type": "code",
   "execution_count": null,
   "metadata": {},
   "outputs": [],
   "source": [
    "Exp_peaks = [355,379,418,587,712,751,814,1034,1219,1272,1383,1400,1640,2138,2943,3185]"
   ]
  },
  {
   "cell_type": "code",
   "execution_count": null,
   "metadata": {},
   "outputs": [],
   "source": [
    "fig = plt.figure(figsize=(6,4), dpi = 300)\n",
    "plt.plot(x_data, y_data, label ='Experimental')\n",
    "#plt.plot(H2O_CO2_x, H2O_CO2_y, color = 'red', label = 'Sample Spectra')\n",
    "plt.xlabel('cm$^{-1}$', fontsize=14)\n",
    "plt.ylabel('Absoprtion', fontsize=14)\n",
    "plt.axvline(x = Exp_peaks[9], color = 'green', label='Reference Peak')\n",
    "plt.axvline(x = Exp_peaks[9]+12, color = 'green', linestyle='--', label='Sample Peak')\n",
    "plt.axvline(x = Exp_peaks[10], color = 'green')\n",
    "plt.axvline(x = Exp_peaks[10]+5, color = 'green', linestyle='--')\n",
    "# plt.axvline(x = H2O_CO2_peaks[5], color = 'red', label='CO2 Reference Peak')\n",
    "# plt.axvline(x = H2O_CO2_peaks[6], color = 'red')\n",
    "plt.xlabel('Wavenumber (cm$^{-1}$)', fontsize=12)\n",
    "plt.ylabel('Counts', fontsize=12)\n",
    "plt.ylim(0.2,1500)\n",
    "plt.xlim(1200, 1500)\n",
    "plt.legend(loc=1, framealpha=1)\n",
    "#plt.savefig('CO2_Confidence_Interval_plot.png')"
   ]
  },
  {
   "cell_type": "code",
   "execution_count": null,
   "metadata": {},
   "outputs": [],
   "source": [
    "#Ok, now that we have which peaks belong to which component, we'll need to plot their position.\n",
    "fig = plt.figure(figsize=(10,4), dpi = 300)\n",
    "plt.plot(x_data, y_data, color = 'black', label = 'Sample Spectra')\n",
    "plt.axvline(x = Exp_peaks[0], color = 'black', label = 'Hydrogen',linestyle='--')\n",
    "#plt.axvline(x = Exp_peaks[1], color = 'yellow',alpha=.7)\n",
    "plt.axvline(x = Exp_peaks[2], color = 'yellow', label = 'Sapphire',alpha=.7)\n",
    "plt.axvline(x = Exp_peaks[3], color = 'black', linestyle='--')\n",
    "plt.axvline(x = Exp_peaks[4], color = 'black', linestyle='--')\n",
    "plt.axvline(x = Exp_peaks[5], color = 'green', label = 'Formic Acid')\n",
    "plt.axvline(x = Exp_peaks[5]+50, color = 'green')\n",
    "plt.axvline(x = Exp_peaks[6], color = 'black', linestyle='--')\n",
    "plt.axvline(x = Exp_peaks[7], color = 'black', linestyle='--')\n",
    "#plt.axvline(x = Exp_peaks[8], color = 'green')\n",
    "plt.axvline(x = Exp_peaks[9], color = 'red', label = 'Carbon Dioxide')\n",
    "plt.axvline(x = Exp_peaks[10], color = 'red')\n",
    "plt.axvline(x = Exp_peaks[11], color = 'green')\n",
    "plt.axvline(x = Exp_peaks[12], color = 'blue',label = 'Water Match')\n",
    "plt.axvline(x = Exp_peaks[13], color = 'purple', label = 'Carbon Monoxide')\n",
    "#plt.axvline(x = Exp_peaks[14], color = 'green')\n",
    "plt.axvline(x = Exp_peaks[15], color = 'blue')\n",
    "plt.legend(loc=1, framealpha=1)\n",
    "plt.xlabel('Wavenumber (cm$^{-1}$)', fontsize=12)\n",
    "plt.ylabel('Counts', fontsize=12)\n",
    "#plt.ylim(-0.1, 1.3)\n",
    "# plt.ylim()\n",
    "    \n",
    "#     plt.axvline(x=H2O_CO_x[i], color='orange')\n",
    "#plt.savefig('Experimental_In_situ_Reference.png')"
   ]
  },
  {
   "cell_type": "code",
   "execution_count": null,
   "metadata": {},
   "outputs": [],
   "source": []
  },
  {
   "cell_type": "code",
   "execution_count": null,
   "metadata": {},
   "outputs": [],
   "source": []
  },
  {
   "cell_type": "code",
   "execution_count": null,
   "metadata": {},
   "outputs": [],
   "source": []
  },
  {
   "cell_type": "code",
   "execution_count": null,
   "metadata": {},
   "outputs": [],
   "source": []
  },
  {
   "cell_type": "code",
   "execution_count": null,
   "metadata": {},
   "outputs": [],
   "source": []
  },
  {
   "cell_type": "code",
   "execution_count": null,
   "metadata": {},
   "outputs": [],
   "source": []
  }
 ],
 "metadata": {
  "kernelspec": {
   "display_name": "Python 3",
   "language": "python",
   "name": "python3"
  },
  "language_info": {
   "codemirror_mode": {
    "name": "ipython",
    "version": 3
   },
   "file_extension": ".py",
   "mimetype": "text/x-python",
   "name": "python",
   "nbconvert_exporter": "python",
   "pygments_lexer": "ipython3",
   "version": "3.6.8"
  }
 },
 "nbformat": 4,
 "nbformat_minor": 2
}
