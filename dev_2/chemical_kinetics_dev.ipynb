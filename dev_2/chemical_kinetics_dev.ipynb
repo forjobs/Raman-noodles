{
 "cells": [
  {
   "cell_type": "code",
   "execution_count": 1,
   "metadata": {},
   "outputs": [
    {
     "data": {
      "text/plain": [
       "('1.4', '0.7.8')"
      ]
     },
     "execution_count": 1,
     "metadata": {},
     "output_type": "execute_result"
    }
   ],
   "source": [
    "import chempy\n",
    "import numpy as np\n",
    "import sympy as sp\n",
    "sp.init_printing()\n",
    "import matplotlib.pyplot as plt\n",
    "%matplotlib inline\n",
    "sp.__version__, chempy.__version__"
   ]
  },
  {
   "cell_type": "code",
   "execution_count": 2,
   "metadata": {},
   "outputs": [],
   "source": [
    "## ALLL CREDIT GOES TO CHEMPY AUTHORS \n",
    "\n",
    "## ALso I am in a virtual environment that I called kittens just to remind myself that I need to activate kittens\n",
    "from chempy import balance_stoichiometry  # Main reaction in NASA's booster rockets:\n",
    "from pprint import pprint\n",
    "from chempy import mass_fractions"
   ]
  },
  {
   "cell_type": "code",
   "execution_count": 3,
   "metadata": {},
   "outputs": [],
   "source": [
    "reaction, product = balance_stoichiometry({'HCOOH'},{'H2','CO2'})#,'CO','H2O'})"
   ]
  },
  {
   "cell_type": "code",
   "execution_count": 4,
   "metadata": {},
   "outputs": [
    {
     "data": {
      "text/plain": [
       "OrderedDict([('HCOOH', 1)])"
      ]
     },
     "execution_count": 4,
     "metadata": {},
     "output_type": "execute_result"
    }
   ],
   "source": [
    "reaction"
   ]
  },
  {
   "cell_type": "code",
   "execution_count": 5,
   "metadata": {},
   "outputs": [
    {
     "data": {
      "text/plain": [
       "OrderedDict([('CO2', 1), ('H2', 1)])"
      ]
     },
     "execution_count": 5,
     "metadata": {},
     "output_type": "execute_result"
    }
   ],
   "source": [
    "product"
   ]
  },
  {
   "cell_type": "code",
   "execution_count": 6,
   "metadata": {},
   "outputs": [
    {
     "name": "stdout",
     "output_type": "stream",
     "text": [
      "{'HCOOH': 1}\n"
     ]
    }
   ],
   "source": [
    "pprint(dict(reaction))"
   ]
  },
  {
   "cell_type": "code",
   "execution_count": 7,
   "metadata": {},
   "outputs": [
    {
     "name": "stdout",
     "output_type": "stream",
     "text": [
      "{'CO2': 1, 'H2': 1}\n"
     ]
    }
   ],
   "source": [
    "pprint(dict(product))"
   ]
  },
  {
   "cell_type": "code",
   "execution_count": 8,
   "metadata": {},
   "outputs": [
    {
     "name": "stdout",
     "output_type": "stream",
     "text": [
      "{'HCOOH': '100.0 wt%'}\n",
      "{'CO2': '95.62 wt%', 'H2': '4.380 wt%'}\n"
     ]
    }
   ],
   "source": [
    "for fractions in map(mass_fractions, [reaction, product]):\n",
    "    pprint({k: '{0:.4g} wt%'.format(v*100) for k, v in fractions.items()})\n",
    "    # .4g is for the number of sig figs "
   ]
  },
  {
   "cell_type": "code",
   "execution_count": 9,
   "metadata": {},
   "outputs": [],
   "source": [
    "reaction, product = balance_stoichiometry({'HCOOH'},{'CO','H2O'})"
   ]
  },
  {
   "cell_type": "code",
   "execution_count": 10,
   "metadata": {},
   "outputs": [
    {
     "name": "stdout",
     "output_type": "stream",
     "text": [
      "{'HCOOH': '100.0 wt%'}\n",
      "{'CO': '60.86 wt%', 'H2O': '39.14 wt%'}\n"
     ]
    }
   ],
   "source": [
    "for fractions in map(mass_fractions, [reaction, product]):\n",
    "    pprint({k: '{0:.4g} wt%'.format(v*100) for k, v in fractions.items()})\n",
    "    # .4g is for the number of sig figs "
   ]
  },
  {
   "cell_type": "code",
   "execution_count": 11,
   "metadata": {},
   "outputs": [
    {
     "data": {
      "image/png": "[encoded data removed]",
      "text/plain": [
       "<Figure size 864x360 with 2 Axes>"
      ]
     },
     "metadata": {
      "needs_background": "light"
     },
     "output_type": "display_data"
    }
   ],
   "source": [
    "from chempy import ReactionSystem  # The rate constants below are arbitrary\n",
    "rsys = ReactionSystem.from_string(\"\"\"\n",
    "HCOOH -> H2 + CO2; 42\n",
    "HCOOH -> H2O + CO; 17\n",
    "\"\"\")  # \"[H2O]\" = 1.0 (actually 55.4 at RT)\n",
    "from chempy.kinetics.ode import get_odesys\n",
    "odesys, extra = get_odesys(rsys)\n",
    "from collections import defaultdict\n",
    "import numpy as np\n",
    "tout = sorted(np.concatenate((np.linspace(0, 23), np.logspace(-8, 1))))\n",
    "# Initial Concentrations\n",
    "c0 = defaultdict(float, {'HCOOH': 1.00, 'H2': 0.00, 'CO2': 0.000, 'H2O': 0.00, 'CO': 0.00})\n",
    "result = odesys.integrate(tout, c0, atol=1e-12, rtol=1e-14)\n",
    "import matplotlib.pyplot as plt\n",
    "fig, axes = plt.subplots(1, 2, figsize=(12, 5))\n",
    "for ax in axes:\n",
    "    result.plot(names=[k for k in rsys.substances if k != 'H2O'], ax=ax)\n",
    "    ax.legend(loc='best', prop={'size': 9})\n",
    "    ax.set_xlabel('Time')\n",
    "    ax.set_ylabel('Concentration')\n",
    "axes[1].set_ylim([1e-13, 1e-1])\n",
    "axes[1].set_xscale('log')\n",
    "axes[1].set_yscale('log')\n",
    "fig.tight_layout()\n",
    "#fig.savefig('examples/kinetics.png', dpi=72)"
   ]
  },
  {
   "cell_type": "code",
   "execution_count": 12,
   "metadata": {},
   "outputs": [
    {
     "data": {
      "text/html": [
       "<table class=\"chempy_ReactionSystem chempy_2169278732496\"><tr><th style=\"text-align:center;\" colspan=\"5\"></th></tr><tr class=\"chempy_2169278732496_0\"><td style=\"text-align:right;\"><span class=\"chempy_HCOOH\" style=\"background-color:#ffb6c1; border: 1px solid #c71585; border-radius: 5pt; padding: 0pt 3pt 0pt 3pt;\">HCOOH</span></td><td style=\"text-align:center;\">&rarr;</td><td style=\"text-align:left;\"><span class=\"chempy_CO2\" style=\"background-color:#90ee90; border: 1px solid #008000; border-radius: 5pt; padding: 0pt 3pt 0pt 3pt;\">CO<sub>2</sub></span> + <span class=\"chempy_H2\" style=\"background-color:#90ee90; border: 1px solid #008000; border-radius: 5pt; padding: 0pt 3pt 0pt 3pt;\">H<sub>2</sub></span></td><td style=\"text-align:left;\">&nbsp;42</td></tr>\n",
       "\n",
       "<tr class=\"chempy_2169278732496_1\"><td style=\"text-align:right;\"><span class=\"chempy_HCOOH\" style=\"background-color:#ffb6c1; border: 1px solid #c71585; border-radius: 5pt; padding: 0pt 3pt 0pt 3pt;\">HCOOH</span></td><td style=\"text-align:center;\">&rarr;</td><td style=\"text-align:left;\"><span class=\"chempy_CO\" style=\"background-color:#90ee90; border: 1px solid #008000; border-radius: 5pt; padding: 0pt 3pt 0pt 3pt;\">CO</span> + <span class=\"chempy_H2O\" style=\"background-color:#90ee90; border: 1px solid #008000; border-radius: 5pt; padding: 0pt 3pt 0pt 3pt;\">H<sub>2</sub>O</span></td><td style=\"text-align:left;\">&nbsp;17</td></tr></table><script type=\"text/javascript\">\n",
       "var cls_names_substances = [\"chempy_CO\", \"chempy_CO2\", \"chempy_H2\", \"chempy_H2O\", \"chempy_HCOOH\"];\n",
       "var substance_row_cls_irrel = {\"chempy_CO\": [\"chempy_2169278732496_0\"], \"chempy_CO2\": [\"chempy_2169278732496_1\"], \"chempy_H2\": [\"chempy_2169278732496_1\"], \"chempy_H2O\": [\"chempy_2169278732496_0\"], \"chempy_HCOOH\": []};\n",
       "var elms = {};\n",
       "var n = {}, nsubstances = cls_names_substances.length;\n",
       "var nirrel = {};\n",
       "function changeColor(classname, color) {\n",
       "    var curN = n[classname];\n",
       "    for(var i = 0; i < curN; i++) {\n",
       "        elms[classname][i].style.backgroundColor = color;\n",
       "    }\n",
       "}\n",
       "function toggleVisibility(classname_substance) {\n",
       "    var curN = nirrel[classname_substance];\n",
       "    for (var i=0; i<curN; i++) {\n",
       "        var objs = document.getElementsByClassName(substance_row_cls_irrel[classname_substance][i]);\n",
       "        for (var j=0; j<objs.length; ++j){\n",
       "            objs[j].style.display = objs[j].style.display == \"none\" ? \"table-row\" : \"none\";\n",
       "        }\n",
       "    }\n",
       "}\n",
       "function resetTab(tab){\n",
       "    tab.style.border = \"0px\";\n",
       "    var rows = tab.getElementsByTagName('tr');\n",
       "    [].forEach.call(rows, function(row){\n",
       "        row.style.display = \"table-row\";\n",
       "    });\n",
       "    tab.getElementsByTagName('th')[0].innerHTML = tab.ori_header +\n",
       "        \"<br>(click on species to show a subset of reactions)\";\n",
       "};\n",
       "\n",
       "for(var k = 0; k < nsubstances; k++) {\n",
       "    var curClass = cls_names_substances[k];\n",
       "    var curIrrel = substance_row_cls_irrel[k];\n",
       "    elms[curClass] = document.getElementsByClassName(curClass);\n",
       "    n[curClass] = elms[curClass].length;\n",
       "    nirrel[curClass] = substance_row_cls_irrel[curClass].length;\n",
       "    var curN = n[curClass];\n",
       "    for(var i = 0; i < curN; i++) {\n",
       "        elms[curClass][i].onmouseover = function() {\n",
       "            changeColor(this.className, \"LightBlue\");\n",
       "        };\n",
       "        elms[curClass][i].onmouseout = function() {\n",
       "            changeColor(this.className, \"inherit\");\n",
       "        };\n",
       "        elms[curClass][i].onclick = function() {\n",
       "            var tab = this.closest(\"table\");\n",
       "            resetTab(tab);\n",
       "            tab.style.border = \"1px dashed #000000\";\n",
       "            toggleVisibility(this.className);\n",
       "            tab.getElementsByTagName('th')[0].innerHTML = tab.ori_header +\n",
       "                 \"<br>Only showing reactions involving: \" + this.innerHTML +\n",
       "                 \" (double-click to reset)\";\n",
       "        };\n",
       "    }\n",
       "};\n",
       "var chempy_tabs = document.querySelectorAll('table.chempy_2169278732496');\n",
       "[].forEach.call(chempy_tabs, function(tab){\n",
       "    tab.ori_header = tab.getElementsByTagName('th')[0].innerHTML;\n",
       "    tab.ondblclick = function(){\n",
       "        resetTab(this);\n",
       "        this.scrollIntoView();\n",
       "    };\n",
       "});\n",
       "[].forEach.call(chempy_tabs, function(tab){\n",
       "    resetTab(tab);\n",
       "});\n",
       "</script>"
      ],
      "text/plain": [
       "<chempy.reactionsystem.ReactionSystem at 0x1f9131698d0>"
      ]
     },
     "execution_count": 12,
     "metadata": {},
     "output_type": "execute_result"
    }
   ],
   "source": [
    "rsys"
   ]
  },
  {
   "cell_type": "code",
   "execution_count": 13,
   "metadata": {},
   "outputs": [
    {
     "data": {
      "text/plain": [
       "<pyodesys.symbolic.SymbolicSys at 0x1f914ae6be0>"
      ]
     },
     "execution_count": 13,
     "metadata": {},
     "output_type": "execute_result"
    }
   ],
   "source": [
    "odesys"
   ]
  },
  {
   "cell_type": "code",
   "execution_count": 14,
   "metadata": {},
   "outputs": [
    {
     "data": {
      "text/plain": [
       "{'param_keys': [],\n",
       " 'unique': OrderedDict(),\n",
       " 'p_units': None,\n",
       " 'max_euler_step_cb': <function chempy.kinetics.ode.get_odesys.<locals>.max_euler_step_cb(x, y, p=())>,\n",
       " 'linear_dependencies': <function chempy.kinetics.ode.get_odesys.<locals>.linear_dependencies(preferred=None)>,\n",
       " 'rate_exprs_cb': <pyodesys.util._Callback at 0x1f914adbb70>,\n",
       " 'cstr_fr_fc': False,\n",
       " 'unit_registry': None}"
      ]
     },
     "execution_count": 14,
     "metadata": {},
     "output_type": "execute_result"
    }
   ],
   "source": [
    "extra"
   ]
  },
  {
   "cell_type": "code",
   "execution_count": 15,
   "metadata": {},
   "outputs": [],
   "source": [
    " # EXAMPLE KINETIC MODEL\n",
    "from __future__ import absolute_import, division, print_function\n",
    "from collections import defaultdict\n",
    "from ipywidgets import interact\n",
    "import matplotlib.pyplot as plt\n",
    "from chempy import Reaction, Substance, ReactionSystem\n",
    "from chempy.kinetics.ode import get_odesys\n",
    "from chempy.kinetics.analysis import plot_reaction_contributions\n",
    "from chempy.printing.tables import UnimolecularTable, BimolecularTable\n",
    "from chempy.util.graph import rsys2graph\n",
    "import sympy\n",
    "sympy.init_printing()\n",
    "%matplotlib inline"
   ]
  },
  {
   "cell_type": "code",
   "execution_count": 16,
   "metadata": {},
   "outputs": [],
   "source": [
    "A, B, C, D, E, F= map(Substance, 'ABCDEF')"
   ]
  },
  {
   "cell_type": "code",
   "execution_count": 17,
   "metadata": {},
   "outputs": [],
   "source": [
    "One = sympy.S.One\n"
   ]
  },
  {
   "cell_type": "code",
   "execution_count": 18,
   "metadata": {},
   "outputs": [],
   "source": [
    "reactions = r0, r1 = [\n",
    "    Reaction({'A'}, {'B', 'C'}, 4*One/100, name='R1: A cons.'),\n",
    "    Reaction({'A'}, {'D', 'E'}, 3*One/100, name='R2: A cons.'),\n",
    "]"
   ]
  },
  {
   "cell_type": "code",
   "execution_count": 19,
   "metadata": {},
   "outputs": [
    {
     "data": {
      "text/plain": [
       "[<chempy.chemistry.Reaction at 0x1f91758e390>,\n",
       " <chempy.chemistry.Reaction at 0x1f91758e0f0>]"
      ]
     },
     "execution_count": 19,
     "metadata": {},
     "output_type": "execute_result"
    }
   ],
   "source": [
    "reactions"
   ]
  },
  {
   "cell_type": "code",
   "execution_count": 20,
   "metadata": {},
   "outputs": [],
   "source": [
    "rsys = ReactionSystem(reactions, (A, B, C, D, E))\n"
   ]
  },
  {
   "cell_type": "code",
   "execution_count": 21,
   "metadata": {},
   "outputs": [
    {
     "data": {
      "text/html": [
       "<table class=\"chempy_ReactionSystem chempy_2169350300672\"><tr><th style=\"text-align:center;\" colspan=\"5\"></th></tr><tr class=\"chempy_2169350300672_0\"><td style=\"text-align:right;\"><span class=\"chempy_A\" style=\"background-color:#ffb6c1; border: 1px solid #c71585; border-radius: 5pt; padding: 0pt 3pt 0pt 3pt;\">A</span></td><td style=\"text-align:center;\">&rarr;</td><td style=\"text-align:left;\"><span class=\"chempy_B\" style=\"background-color:#90ee90; border: 1px solid #008000; border-radius: 5pt; padding: 0pt 3pt 0pt 3pt;\">B</span> + <span class=\"chempy_C\" style=\"background-color:#90ee90; border: 1px solid #008000; border-radius: 5pt; padding: 0pt 3pt 0pt 3pt;\">C</span></td><td style=\"text-align:left;\">&nbsp;0.04</td><td style=\"text-align:left;\">&nbsp;R1: A cons.</td></tr>\n",
       "\n",
       "<tr class=\"chempy_2169350300672_1\"><td style=\"text-align:right;\"><span class=\"chempy_A\" style=\"background-color:#ffb6c1; border: 1px solid #c71585; border-radius: 5pt; padding: 0pt 3pt 0pt 3pt;\">A</span></td><td style=\"text-align:center;\">&rarr;</td><td style=\"text-align:left;\"><span class=\"chempy_D\" style=\"background-color:#90ee90; border: 1px solid #008000; border-radius: 5pt; padding: 0pt 3pt 0pt 3pt;\">D</span> + <span class=\"chempy_E\" style=\"background-color:#90ee90; border: 1px solid #008000; border-radius: 5pt; padding: 0pt 3pt 0pt 3pt;\">E</span></td><td style=\"text-align:left;\">&nbsp;0.03</td><td style=\"text-align:left;\">&nbsp;R2: A cons.</td></tr></table><script type=\"text/javascript\">\n",
       "var cls_names_substances = [\"chempy_A\", \"chempy_B\", \"chempy_C\", \"chempy_D\", \"chempy_E\"];\n",
       "var substance_row_cls_irrel = {\"chempy_A\": [], \"chempy_B\": [\"chempy_2169350300672_1\"], \"chempy_C\": [\"chempy_2169350300672_1\"], \"chempy_D\": [\"chempy_2169350300672_0\"], \"chempy_E\": [\"chempy_2169350300672_0\"]};\n",
       "var elms = {};\n",
       "var n = {}, nsubstances = cls_names_substances.length;\n",
       "var nirrel = {};\n",
       "function changeColor(classname, color) {\n",
       "    var curN = n[classname];\n",
       "    for(var i = 0; i < curN; i++) {\n",
       "        elms[classname][i].style.backgroundColor = color;\n",
       "    }\n",
       "}\n",
       "function toggleVisibility(classname_substance) {\n",
       "    var curN = nirrel[classname_substance];\n",
       "    for (var i=0; i<curN; i++) {\n",
       "        var objs = document.getElementsByClassName(substance_row_cls_irrel[classname_substance][i]);\n",
       "        for (var j=0; j<objs.length; ++j){\n",
       "            objs[j].style.display = objs[j].style.display == \"none\" ? \"table-row\" : \"none\";\n",
       "        }\n",
       "    }\n",
       "}\n",
       "function resetTab(tab){\n",
       "    tab.style.border = \"0px\";\n",
       "    var rows = tab.getElementsByTagName('tr');\n",
       "    [].forEach.call(rows, function(row){\n",
       "        row.style.display = \"table-row\";\n",
       "    });\n",
       "    tab.getElementsByTagName('th')[0].innerHTML = tab.ori_header +\n",
       "        \"<br>(click on species to show a subset of reactions)\";\n",
       "};\n",
       "\n",
       "for(var k = 0; k < nsubstances; k++) {\n",
       "    var curClass = cls_names_substances[k];\n",
       "    var curIrrel = substance_row_cls_irrel[k];\n",
       "    elms[curClass] = document.getElementsByClassName(curClass);\n",
       "    n[curClass] = elms[curClass].length;\n",
       "    nirrel[curClass] = substance_row_cls_irrel[curClass].length;\n",
       "    var curN = n[curClass];\n",
       "    for(var i = 0; i < curN; i++) {\n",
       "        elms[curClass][i].onmouseover = function() {\n",
       "            changeColor(this.className, \"LightBlue\");\n",
       "        };\n",
       "        elms[curClass][i].onmouseout = function() {\n",
       "            changeColor(this.className, \"inherit\");\n",
       "        };\n",
       "        elms[curClass][i].onclick = function() {\n",
       "            var tab = this.closest(\"table\");\n",
       "            resetTab(tab);\n",
       "            tab.style.border = \"1px dashed #000000\";\n",
       "            toggleVisibility(this.className);\n",
       "            tab.getElementsByTagName('th')[0].innerHTML = tab.ori_header +\n",
       "                 \"<br>Only showing reactions involving: \" + this.innerHTML +\n",
       "                 \" (double-click to reset)\";\n",
       "        };\n",
       "    }\n",
       "};\n",
       "var chempy_tabs = document.querySelectorAll('table.chempy_2169350300672');\n",
       "[].forEach.call(chempy_tabs, function(tab){\n",
       "    tab.ori_header = tab.getElementsByTagName('th')[0].innerHTML;\n",
       "    tab.ondblclick = function(){\n",
       "        resetTab(this);\n",
       "        this.scrollIntoView();\n",
       "    };\n",
       "});\n",
       "[].forEach.call(chempy_tabs, function(tab){\n",
       "    resetTab(tab);\n",
       "});\n",
       "</script>"
      ],
      "text/plain": [
       "<chempy.reactionsystem.ReactionSystem at 0x1f9175aa400>"
      ]
     },
     "execution_count": 21,
     "metadata": {},
     "output_type": "execute_result"
    }
   ],
   "source": [
    "rsys"
   ]
  },
  {
   "cell_type": "code",
   "execution_count": 22,
   "metadata": {},
   "outputs": [],
   "source": [
    "uni, not_uni = UnimolecularTable.from_ReactionSystem(rsys)\n",
    "bi, not_bi = BimolecularTable.from_ReactionSystem(rsys)\n",
    "#assert not (not_uni & not_bi), \"There are only uni- & bi-molecular reactions in this set\""
   ]
  },
  {
   "cell_type": "code",
   "execution_count": 23,
   "metadata": {},
   "outputs": [
    {
     "data": {
      "text/html": [
       "<table><tr><td><span class=\"chempy_A\" style=\"background-color:#ffb6c1; border: 1px solid #c71585; border-radius: 5pt; padding: 0pt 3pt 0pt 3pt;\">A</span></td><td ><a title=\"0: A → B + C; 0.04\">R1: A cons.</a>, <a title=\"1: A → D + E; 0.03\">R2: A cons.</a></td></tr>\n",
       "<tr><td><span class=\"chempy_B\" style=\"background-color:#90ee90; border: 1px solid #008000; border-radius: 5pt; padding: 0pt 3pt 0pt 3pt;\">B</span></td><td ></td></tr>\n",
       "<tr><td><span class=\"chempy_C\" style=\"background-color:#90ee90; border: 1px solid #008000; border-radius: 5pt; padding: 0pt 3pt 0pt 3pt;\">C</span></td><td ></td></tr>\n",
       "<tr><td><span class=\"chempy_D\" style=\"background-color:#90ee90; border: 1px solid #008000; border-radius: 5pt; padding: 0pt 3pt 0pt 3pt;\">D</span></td><td ></td></tr>\n",
       "<tr><td><span class=\"chempy_E\" style=\"background-color:#90ee90; border: 1px solid #008000; border-radius: 5pt; padding: 0pt 3pt 0pt 3pt;\">E</span></td><td ></td></tr></table>"
      ],
      "text/plain": [
       "<chempy.printing.tables.UnimolecularTable at 0x1f917568048>"
      ]
     },
     "execution_count": 23,
     "metadata": {},
     "output_type": "execute_result"
    }
   ],
   "source": [
    "uni"
   ]
  },
  {
   "cell_type": "code",
   "execution_count": 24,
   "metadata": {},
   "outputs": [
    {
     "data": {
      "text/html": [
       "<table><th></th><th><span class=\"chempy_A\" style=\"background-color:#ffb6c1; border: 1px solid #c71585; border-radius: 5pt; padding: 0pt 3pt 0pt 3pt;\">A</span></th><th><span class=\"chempy_B\" style=\"background-color:#90ee90; border: 1px solid #008000; border-radius: 5pt; padding: 0pt 3pt 0pt 3pt;\">B</span></th><th><span class=\"chempy_C\" style=\"background-color:#90ee90; border: 1px solid #008000; border-radius: 5pt; padding: 0pt 3pt 0pt 3pt;\">C</span></th><th><span class=\"chempy_D\" style=\"background-color:#90ee90; border: 1px solid #008000; border-radius: 5pt; padding: 0pt 3pt 0pt 3pt;\">D</span></th><th><span class=\"chempy_E\" style=\"background-color:#90ee90; border: 1px solid #008000; border-radius: 5pt; padding: 0pt 3pt 0pt 3pt;\">E</span></th>\n",
       "<tr><td><span class=\"chempy_A\" style=\"background-color:#ffb6c1; border: 1px solid #c71585; border-radius: 5pt; padding: 0pt 3pt 0pt 3pt;\">A</span></td><td ></td><td ></td><td ></td><td ></td><td ></td></tr>\n",
       "<tr><td><span class=\"chempy_B\" style=\"background-color:#90ee90; border: 1px solid #008000; border-radius: 5pt; padding: 0pt 3pt 0pt 3pt;\">B</span></td><td >-</td><td ></td><td ></td><td ></td><td ></td></tr>\n",
       "<tr><td><span class=\"chempy_C\" style=\"background-color:#90ee90; border: 1px solid #008000; border-radius: 5pt; padding: 0pt 3pt 0pt 3pt;\">C</span></td><td >-</td><td >-</td><td ></td><td ></td><td ></td></tr>\n",
       "<tr><td><span class=\"chempy_D\" style=\"background-color:#90ee90; border: 1px solid #008000; border-radius: 5pt; padding: 0pt 3pt 0pt 3pt;\">D</span></td><td >-</td><td >-</td><td >-</td><td ></td><td ></td></tr>\n",
       "<tr><td><span class=\"chempy_E\" style=\"background-color:#90ee90; border: 1px solid #008000; border-radius: 5pt; padding: 0pt 3pt 0pt 3pt;\">E</span></td><td >-</td><td >-</td><td >-</td><td >-</td><td ></td></tr></table>"
      ],
      "text/plain": [
       "<chempy.printing.tables.BimolecularTable at 0x1f9175aafd0>"
      ]
     },
     "execution_count": 24,
     "metadata": {},
     "output_type": "execute_result"
    }
   ],
   "source": [
    "bi"
   ]
  },
  {
   "cell_type": "code",
   "execution_count": 25,
   "metadata": {},
   "outputs": [
    {
     "data": {
      "image/png": "[encoded data removed]",
      "text/latex": [
       "$\\displaystyle \\left\\{\\right\\}$"
      ],
      "text/plain": [
       "set()"
      ]
     },
     "execution_count": 25,
     "metadata": {},
     "output_type": "execute_result"
    }
   ],
   "source": [
    "not_uni"
   ]
  },
  {
   "cell_type": "code",
   "execution_count": 26,
   "metadata": {},
   "outputs": [
    {
     "data": {
      "image/png": "[encoded data removed]",
      "text/latex": [
       "$\\displaystyle \\left\\{0, 1\\right\\}$"
      ],
      "text/plain": [
       "{0, 1}"
      ]
     },
     "execution_count": 26,
     "metadata": {},
     "output_type": "execute_result"
    }
   ],
   "source": [
    "not_bi"
   ]
  },
  {
   "cell_type": "code",
   "execution_count": 27,
   "metadata": {},
   "outputs": [
    {
     "data": {
      "image/png": "[encoded data removed]",
      "text/latex": [
       "$\\displaystyle \\left( - \\frac{7 y_{0}}{100}, \\  \\frac{y_{0}}{25}, \\  \\frac{y_{0}}{25}, \\  \\frac{3 y_{0}}{100}, \\  \\frac{3 y_{0}}{100}\\right)$"
      ],
      "text/plain": [
       "⎛-7⋅y₀   y₀  y₀  3⋅y₀  3⋅y₀⎞\n",
       "⎜──────, ──, ──, ────, ────⎟\n",
       "⎝ 100    25  25  100   100 ⎠"
      ]
     },
     "execution_count": 27,
     "metadata": {},
     "output_type": "execute_result"
    }
   ],
   "source": [
    "odesys, extra = get_odesys(rsys, include_params=True)\n",
    "odesys.exprs"
   ]
  },
  {
   "cell_type": "code",
   "execution_count": 28,
   "metadata": {},
   "outputs": [
    {
     "data": {
      "text/latex": [
       "$\\displaystyle \\left[\\begin{matrix}- \\frac{7}{100} & 0 & 0 & 0 & 0\\\\\\frac{1}{25} & 0 & 0 & 0 & 0\\\\\\frac{1}{25} & 0 & 0 & 0 & 0\\\\\\frac{3}{100} & 0 & 0 & 0 & 0\\\\\\frac{3}{100} & 0 & 0 & 0 & 0\\end{matrix}\\right]$"
      ],
      "text/plain": [
       "⎡-7/100  0  0  0  0⎤\n",
       "⎢                  ⎥\n",
       "⎢ 1/25   0  0  0  0⎥\n",
       "⎢                  ⎥\n",
       "⎢ 1/25   0  0  0  0⎥\n",
       "⎢                  ⎥\n",
       "⎢3/100   0  0  0  0⎥\n",
       "⎢                  ⎥\n",
       "⎣3/100   0  0  0  0⎦"
      ]
     },
     "execution_count": 28,
     "metadata": {},
     "output_type": "execute_result"
    }
   ],
   "source": [
    "odesys.get_jac()"
   ]
  },
  {
   "cell_type": "code",
   "execution_count": 29,
   "metadata": {},
   "outputs": [
    {
     "name": "stderr",
     "output_type": "stream",
     "text": [
      "c:\\users\\user1\\anaconda3\\envs\\kittens\\lib\\site-packages\\pycvodes\\_config.py:44: UserWarning: Failed test compilation of '#include <math.h>':\n",
      " \n",
      "  warnings.warn(msg)\n",
      "c:\\users\\user1\\anaconda3\\envs\\kittens\\lib\\site-packages\\pycvodes\\_config.py:44: UserWarning: Failed to include math.h: \n",
      "  warnings.warn(msg)\n",
      "c:\\users\\user1\\anaconda3\\envs\\kittens\\lib\\site-packages\\pycvodes\\_config.py:44: UserWarning: \n",
      "  warnings.warn(msg)\n",
      "c:\\users\\user1\\anaconda3\\envs\\kittens\\lib\\site-packages\\pycvodes\\_config.py:44: UserWarning: Failed test compilation of '#include <sundials/sundials_config.h>':\n",
      " \n",
      "  warnings.warn(msg)\n",
      "c:\\users\\user1\\anaconda3\\envs\\kittens\\lib\\site-packages\\pycvodes\\_config.py:44: UserWarning: sundials not in include path, set e.g. $CPLUS_INCLUDE_PATH ():\n",
      "\n",
      "  warnings.warn(msg)\n",
      "c:\\users\\user1\\anaconda3\\envs\\kittens\\lib\\site-packages\\pycvodes\\_config.py:44: UserWarning: Failed test compilation of '\n",
      "    #include <sundials/sundials_config.h>\n",
      "    #if SUNDIALS_VERSION_MAJOR >= 3\n",
      "    #include <stdio.h>\n",
      "    #include <sunmatrix/sunmatrix_dense.h>\n",
      "    #else\n",
      "    #error \"Sundials 2?\"\n",
      "    #endif\n",
      "    ':\n",
      " \n",
      "  warnings.warn(msg)\n",
      "c:\\users\\user1\\anaconda3\\envs\\kittens\\lib\\site-packages\\pycvodes\\_config.py:44: UserWarning: Failed test compilation of '\n",
      "            #include <sundials/sundials_config.h>\n",
      "            #if defined(SUNDIALS_PACKAGE_VERSION)   /* == 2.7.0 */\n",
      "            #include <cvodes/cvodes_spgmr.h>\n",
      "            #else\n",
      "            #error \"Unkown sundials version\"\n",
      "            #endif\n",
      "            ':\n",
      " \n",
      "  warnings.warn(msg)\n",
      "c:\\users\\user1\\anaconda3\\envs\\kittens\\lib\\site-packages\\pycvodes\\_config.py:44: UserWarning: Unknown sundials version:\n",
      "\n",
      "  warnings.warn(msg)\n",
      "c:\\users\\user1\\anaconda3\\envs\\kittens\\lib\\site-packages\\pycvodes\\_config.py:44: UserWarning: Failed test compilation of '\n",
      "        #include <sundials/sundials_config.h>\n",
      "        #if !defined(SUNDIALS_KLU)\n",
      "        #error \"INFO: KLU was not enabled for this sundials build\"\n",
      "        #endif\n",
      "        ':\n",
      " \n",
      "  warnings.warn(msg)\n",
      "c:\\users\\user1\\anaconda3\\envs\\kittens\\lib\\site-packages\\pycvodes\\_config.py:44: UserWarning: Failed test compilation of '#include <sundials/sundials_config.h>\n",
      "                    #ifndef SUNDIALS_SINGLE_PRECISION\n",
      "                        #error \"INFO: SUNDIALS_SINGLE not defined in sundials/sundials_config.h\"\n",
      "                    #endif\n",
      "                 ':\n",
      " \n",
      "  warnings.warn(msg)\n",
      "c:\\users\\user1\\anaconda3\\envs\\kittens\\lib\\site-packages\\pycvodes\\_config.py:44: UserWarning: Failed test compilation of '#include <sundials/sundials_config.h>\n",
      "                    #ifndef SUNDIALS_DOUBLE_PRECISION\n",
      "                        #error \"INFO: SUNDIALS_DOUBLE not defined in sundials/sundials_config.h\"\n",
      "                    #endif\n",
      "                 ':\n",
      " \n",
      "  warnings.warn(msg)\n",
      "c:\\users\\user1\\anaconda3\\envs\\kittens\\lib\\site-packages\\pycvodes\\_config.py:44: UserWarning: Failed test compilation of '#include <sundials/sundials_config.h>\n",
      "                    #ifndef SUNDIALS_EXTENDED_PRECISION\n",
      "                        #error \"INFO: SUNDIALS_EXTENDED not defined in sundials/sundials_config.h\"\n",
      "                    #endif\n",
      "                 ':\n",
      " \n",
      "  warnings.warn(msg)\n",
      "c:\\users\\user1\\anaconda3\\envs\\kittens\\lib\\site-packages\\pycvodes\\_config.py:44: UserWarning: Couldn't determine sundials precision from sundials/sundials_config.h\n",
      "  warnings.warn(msg)\n",
      "c:\\users\\user1\\anaconda3\\envs\\kittens\\lib\\site-packages\\pycvodes\\_config.py:44: UserWarning: Failed test compilation of '#include <sundials/sundials_types.h>\n",
      "                    #ifndef SUNDIALS_INT32_T\n",
      "                        #error INFO: SUNDIALS_INT32_T is not defined\n",
      "                    #endif\n",
      "                 ':\n",
      " \n",
      "  warnings.warn(msg)\n",
      "c:\\users\\user1\\anaconda3\\envs\\kittens\\lib\\site-packages\\pycvodes\\_config.py:44: UserWarning: Failed test compilation of '#include <sundials/sundials_types.h>\n",
      "                    #ifndef SUNDIALS_INT64_T\n",
      "                        #error INFO: SUNDIALS_INT64_T is not defined\n",
      "                    #endif\n",
      "                 ':\n",
      " \n",
      "  warnings.warn(msg)\n"
     ]
    },
    {
     "data": {
      "text/plain": [
       "{'n_nonlin_solv_iters': 233,\n",
       " 'n_steps': 186,\n",
       " 'n_dls_jac_evals': 4,\n",
       " 'n_nonlin_solv_conv_fails': 0,\n",
       " 'n_root_evals': 0,\n",
       " 'n_rhs_evals': 234,\n",
       " 'n_lin_solv_setups': 48,\n",
       " 'n_err_test_fails': 8,\n",
       " 'n_dls_rhs_evals': 0,\n",
       " 'njvev': 0,\n",
       " 'nfev': 234,\n",
       " 'njev': 4,\n",
       " 'time_cpu': 0.02,\n",
       " 'time_jtimes': 0.0,\n",
       " 'time_jac': 0.000334932,\n",
       " 'time_wall': 0.019504615,\n",
       " 'time_rhs': 0.018164031000000014,\n",
       " 'time_prec': 0.0,\n",
       " 'time_quads': 0.0,\n",
       " 'time_roots': 0.0,\n",
       " 'steps': array([], dtype=float64),\n",
       " 'orders': array([], dtype=int32),\n",
       " 'fpes': array([], dtype=int32),\n",
       " 'success': True,\n",
       " 'atol': [1e-08],\n",
       " 'rtol': 1e-08,\n",
       " 'mode': 'adaptive'}"
      ]
     },
     "execution_count": 29,
     "metadata": {},
     "output_type": "execute_result"
    }
   ],
   "source": [
    "c0 = defaultdict(float, {'A': 1})\n",
    "result = odesys.integrate(1e10, c0, integrator='cvode', nsteps=2000)\n",
    "{k: v for k, v in result.info.items() if not k.startswith('internal')}"
   ]
  },
  {
   "cell_type": "code",
   "execution_count": 30,
   "metadata": {},
   "outputs": [
    {
     "data": {
      "text/plain": [
       "<pyodesys.symbolic.SymbolicSys at 0x1f9175b6390>"
      ]
     },
     "execution_count": 30,
     "metadata": {},
     "output_type": "execute_result"
    }
   ],
   "source": [
    "odesys"
   ]
  },
  {
   "cell_type": "code",
   "execution_count": 31,
   "metadata": {},
   "outputs": [
    {
     "data": {
      "text/plain": [
       "{'param_keys': [],\n",
       " 'unique': OrderedDict(),\n",
       " 'p_units': None,\n",
       " 'max_euler_step_cb': None,\n",
       " 'linear_dependencies': None,\n",
       " 'rate_exprs_cb': <pyodesys.util._Callback at 0x1f917568ba8>,\n",
       " 'cstr_fr_fc': False,\n",
       " 'unit_registry': None}"
      ]
     },
     "execution_count": 31,
     "metadata": {},
     "output_type": "execute_result"
    }
   ],
   "source": [
    "extra"
   ]
  },
  {
   "cell_type": "code",
   "execution_count": 32,
   "metadata": {
    "scrolled": false
   },
   "outputs": [
    {
     "data": {
      "text/plain": [
       "array([[ 4.00000000e-02,  3.00000000e-02],\n",
       "       [ 3.99999791e-02,  2.99999844e-02],\n",
       "       [ 3.99967271e-02,  2.99975453e-02],\n",
       "       [ 3.99865668e-02,  2.99899251e-02],\n",
       "       [ 3.99764087e-02,  2.99823065e-02],\n",
       "       [ 3.99662532e-02,  2.99746899e-02],\n",
       "       [ 3.99561001e-02,  2.99670751e-02],\n",
       "       [ 3.99346578e-02,  2.99509933e-02],\n",
       "       [ 3.98952558e-02,  2.99214418e-02],\n",
       "       [ 3.98203854e-02,  2.98652891e-02],\n",
       "       [ 3.96304666e-02,  2.97228500e-02],\n",
       "       [ 3.95263476e-02,  2.96447607e-02],\n",
       "       [ 3.94225021e-02,  2.95668765e-02],\n",
       "       [ 3.93189294e-02,  2.94891970e-02],\n",
       "       [ 3.91159337e-02,  2.93369503e-02],\n",
       "       [ 3.89139863e-02,  2.91854897e-02],\n",
       "       [ 3.87130818e-02,  2.90348113e-02],\n",
       "       [ 3.85132147e-02,  2.88849110e-02],\n",
       "       [ 3.83143795e-02,  2.87357846e-02],\n",
       "       [ 3.79337531e-02,  2.84503148e-02],\n",
       "       [ 3.73264129e-02,  2.79948096e-02],\n",
       "       [ 3.67287969e-02,  2.75465977e-02],\n",
       "       [ 3.61407485e-02,  2.71055614e-02],\n",
       "       [ 3.55621145e-02,  2.66715859e-02],\n",
       "       [ 3.49927444e-02,  2.62445583e-02],\n",
       "       [ 3.44324903e-02,  2.58243678e-02],\n",
       "       [ 3.38812063e-02,  2.54109048e-02],\n",
       "       [ 3.33387487e-02,  2.50040616e-02],\n",
       "       [ 3.24162116e-02,  2.43121587e-02],\n",
       "       [ 3.15192025e-02,  2.36394019e-02],\n",
       "       [ 3.06470150e-02,  2.29852613e-02],\n",
       "       [ 2.97989624e-02,  2.23492218e-02],\n",
       "       [ 2.89743767e-02,  2.17307825e-02],\n",
       "       [ 2.76893824e-02,  2.07670368e-02],\n",
       "       [ 2.64613765e-02,  1.98460324e-02],\n",
       "       [ 2.52878319e-02,  1.89658739e-02],\n",
       "       [ 2.41663336e-02,  1.81247502e-02],\n",
       "       [ 2.30945733e-02,  1.73209300e-02],\n",
       "       [ 2.20703449e-02,  1.65527586e-02],\n",
       "       [ 2.10915401e-02,  1.58186551e-02],\n",
       "       [ 2.01561447e-02,  1.51171085e-02],\n",
       "       [ 1.92622334e-02,  1.44466751e-02],\n",
       "       [ 1.74302608e-02,  1.30726956e-02],\n",
       "       [ 1.63209099e-02,  1.22406825e-02],\n",
       "       [ 1.52821632e-02,  1.14616224e-02],\n",
       "       [ 1.43095274e-02,  1.07321455e-02],\n",
       "       [ 1.33987953e-02,  1.00490965e-02],\n",
       "       [ 1.19767624e-02,  8.98257176e-03],\n",
       "       [ 1.11752112e-02,  8.38140841e-03],\n",
       "       [ 1.04273033e-02,  7.82047751e-03],\n",
       "       [ 9.72944951e-03,  7.29708713e-03],\n",
       "       [ 9.07830037e-03,  6.80872528e-03],\n",
       "       [ 8.34266157e-03,  6.25699618e-03],\n",
       "       [ 7.66663380e-03,  5.74997535e-03],\n",
       "       [ 7.04538610e-03,  5.28403958e-03],\n",
       "       [ 6.47447948e-03,  4.85585961e-03],\n",
       "       [ 5.94983492e-03,  4.46237619e-03],\n",
       "       [ 5.46770384e-03,  4.10077788e-03],\n",
       "       [ 5.02464118e-03,  3.76848089e-03],\n",
       "       [ 4.61748104e-03,  3.46311078e-03],\n",
       "       [ 4.24331413e-03,  3.18248559e-03],\n",
       "       [ 3.89946697e-03,  2.92460023e-03],\n",
       "       [ 3.58348269e-03,  2.68761202e-03],\n",
       "       [ 3.29310348e-03,  2.46982761e-03],\n",
       "       [ 3.02625447e-03,  2.26969085e-03],\n",
       "       [ 2.78102894e-03,  2.08577170e-03],\n",
       "       [ 2.55567469e-03,  1.91675602e-03],\n",
       "       [ 2.34858151e-03,  1.76143613e-03],\n",
       "       [ 2.15826965e-03,  1.61870224e-03],\n",
       "       [ 1.98337926e-03,  1.48753445e-03],\n",
       "       [ 1.82266072e-03,  1.36699554e-03],\n",
       "       [ 1.67496562e-03,  1.25622422e-03],\n",
       "       [ 1.53923866e-03,  1.15442900e-03],\n",
       "       [ 1.41451002e-03,  1.06088252e-03],\n",
       "       [ 1.29988848e-03,  9.74916357e-04],\n",
       "       [ 1.19455502e-03,  8.95916267e-04],\n",
       "       [ 1.09775702e-03,  8.23317766e-04],\n",
       "       [ 1.00880282e-03,  7.56602117e-04],\n",
       "       [ 9.27056822e-04,  6.95292616e-04],\n",
       "       [ 8.51934918e-04,  6.38951189e-04],\n",
       "       [ 7.82900344e-04,  5.87175258e-04],\n",
       "       [ 7.19459827e-04,  5.39594871e-04],\n",
       "       [ 6.61160066e-04,  4.95870049e-04],\n",
       "       [ 6.07584491e-04,  4.55688368e-04],\n",
       "       [ 5.58350288e-04,  4.18762716e-04],\n",
       "       [ 5.13105665e-04,  3.84829249e-04],\n",
       "       [ 4.71527335e-04,  3.53645501e-04],\n",
       "       [ 4.33318209e-04,  3.24988657e-04],\n",
       "       [ 3.98205271e-04,  2.98653954e-04],\n",
       "       [ 3.65937629e-04,  2.74453222e-04],\n",
       "       [ 3.36284720e-04,  2.52213540e-04],\n",
       "       [ 3.09034667e-04,  2.31776000e-04],\n",
       "       [ 2.72061796e-04,  2.04046347e-04],\n",
       "       [ 2.39512522e-04,  1.79634391e-04],\n",
       "       [ 2.10857507e-04,  1.58143130e-04],\n",
       "       [ 1.85630703e-04,  1.39223028e-04],\n",
       "       [ 1.63421939e-04,  1.22566454e-04],\n",
       "       [ 1.43870204e-04,  1.07902653e-04],\n",
       "       [ 1.26657658e-04,  9.49932435e-05],\n",
       "       [ 1.11504427e-04,  8.36283205e-05],\n",
       "       [ 9.81641102e-05,  7.36230827e-05],\n",
       "       [ 8.64198077e-05,  6.48148558e-05],\n",
       "       [ 7.60805864e-05,  5.70604398e-05],\n",
       "       [ 6.69783502e-05,  5.02337627e-05],\n",
       "       [ 5.89651031e-05,  4.42238273e-05],\n",
       "       [ 5.19105539e-05,  3.89329154e-05],\n",
       "       [ 4.57000044e-05,  3.42750033e-05],\n",
       "       [ 4.02324815e-05,  3.01743612e-05],\n",
       "       [ 3.54190913e-05,  2.65643185e-05],\n",
       "       [ 3.11815727e-05,  2.33861795e-05],\n",
       "       [ 2.74510278e-05,  2.05882708e-05],\n",
       "       [ 2.41668026e-05,  1.81251020e-05],\n",
       "       [ 2.12755003e-05,  1.59566253e-05],\n",
       "       [ 1.75056313e-05,  1.31292235e-05],\n",
       "       [ 1.44039148e-05,  1.08029361e-05],\n",
       "       [ 1.18518599e-05,  8.88889491e-06],\n",
       "       [ 9.75193522e-06,  7.31395142e-06],\n",
       "       [ 8.02401013e-06,  6.01800760e-06],\n",
       "       [ 6.60223839e-06,  4.95167880e-06],\n",
       "       [ 5.43241565e-06,  4.07431174e-06],\n",
       "       [ 4.46988461e-06,  3.35241346e-06],\n",
       "       [ 3.67788945e-06,  2.75841709e-06],\n",
       "       [ 3.02621177e-06,  2.26965883e-06],\n",
       "       [ 2.49000293e-06,  1.86750220e-06],\n",
       "       [ 2.04881003e-06,  1.53660752e-06],\n",
       "       [ 1.68579297e-06,  1.26434473e-06],\n",
       "       [ 1.38709477e-06,  1.04032108e-06],\n",
       "       [ 1.14131926e-06,  8.55989445e-07],\n",
       "       [ 8.38052171e-07,  6.28539129e-07],\n",
       "       [ 6.15511979e-07,  4.61633984e-07],\n",
       "       [ 4.52156444e-07,  3.39117333e-07],\n",
       "       [ 3.32130784e-07,  2.49098088e-07],\n",
       "       [ 2.43907039e-07,  1.82930280e-07],\n",
       "       [ 1.79104383e-07,  1.34328288e-07],\n",
       "       [ 1.31542625e-07,  9.86569685e-08],\n",
       "       [ 9.66260770e-08,  7.24695577e-08],\n",
       "       [ 7.09698669e-08,  5.32274002e-08],\n",
       "       [ 5.21143367e-08,  3.90857525e-08],\n",
       "       [ 3.14617924e-08,  2.35963443e-08],\n",
       "       [ 1.91091814e-08,  1.43318861e-08],\n",
       "       [ 1.16984682e-08,  8.77385118e-09],\n",
       "       [ 7.15785297e-09,  5.36838972e-09],\n",
       "       [ 4.33438087e-09,  3.25078565e-09],\n",
       "       [ 2.61121267e-09,  1.95840950e-09],\n",
       "       [ 1.21334427e-09,  9.10008201e-10],\n",
       "       [ 1.61967179e-09,  1.21475385e-09],\n",
       "       [ 1.06285474e-09,  7.97141055e-10],\n",
       "       [ 2.07729306e-10,  1.55796979e-10],\n",
       "       [-9.59293320e-11, -7.19469990e-11],\n",
       "       [ 8.96962950e-11,  6.72722212e-11],\n",
       "       [ 1.04470567e-09,  7.83529255e-10],\n",
       "       [ 7.78316673e-10,  5.83737505e-10],\n",
       "       [ 6.93022615e-11,  5.19766962e-11],\n",
       "       [-1.88991908e-10, -1.41743931e-10],\n",
       "       [ 2.67524332e-11,  2.00643249e-11],\n",
       "       [ 1.72278821e-10,  1.29209116e-10],\n",
       "       [ 5.26186486e-11,  3.94639864e-11],\n",
       "       [-8.17638928e-11, -6.13229196e-11],\n",
       "       [-2.90894793e-10, -2.18171095e-10],\n",
       "       [-3.18967988e-10, -2.39225991e-10],\n",
       "       [-1.63582207e-10, -1.22686655e-10],\n",
       "       [-1.81596404e-11, -1.36197303e-11],\n",
       "       [ 1.83549750e-11,  1.37662312e-11],\n",
       "       [ 1.32137566e-11,  9.91031742e-12],\n",
       "       [-2.76716376e-12, -2.07537282e-12],\n",
       "       [-3.04536327e-11, -2.28402245e-11],\n",
       "       [-1.62952245e-11, -1.22214184e-11],\n",
       "       [-4.61533631e-11, -3.46150223e-11],\n",
       "       [-5.60159158e-11, -4.20119368e-11],\n",
       "       [-1.28556083e-11, -9.64170621e-12],\n",
       "       [ 3.98511958e-12,  2.98883968e-12],\n",
       "       [-5.82143618e-13, -4.36607714e-13],\n",
       "       [-3.26420773e-12, -2.44815580e-12],\n",
       "       [-4.22232971e-12, -3.16674728e-12],\n",
       "       [-7.46289015e-13, -5.59716761e-13],\n",
       "       [ 8.12130098e-14,  6.09097574e-14],\n",
       "       [ 1.82886619e-13,  1.37164964e-13],\n",
       "       [ 7.96723760e-14,  5.97542820e-14],\n",
       "       [ 2.13431203e-14,  1.60073402e-14],\n",
       "       [ 1.34327057e-17,  1.00745293e-17],\n",
       "       [ 3.12507252e-21,  2.34380439e-21],\n",
       "       [ 7.27189653e-26,  5.45392240e-26],\n",
       "       [ 1.69212205e-31,  1.26909154e-31],\n",
       "       [ 3.93790608e-38,  2.95342956e-38],\n",
       "       [ 8.96831017e-46,  6.72623263e-46],\n",
       "       [ 5.34552942e-53,  4.00914707e-53],\n",
       "       [ 2.98704733e-61,  2.24028550e-61]])"
      ]
     },
     "execution_count": 32,
     "metadata": {},
     "output_type": "execute_result"
    }
   ],
   "source": [
    "extra['rate_exprs_cb'](result.xout, result.yout)"
   ]
  },
  {
   "cell_type": "code",
   "execution_count": 33,
   "metadata": {},
   "outputs": [
    {
     "data": {
      "text/plain": [
       "<matplotlib.axes._subplots.AxesSubplot at 0x1f91763d160>"
      ]
     },
     "execution_count": 33,
     "metadata": {},
     "output_type": "execute_result"
    },
    {
     "data": {
      "image/png": "[encoded data removed]",
      "text/plain": [
       "<Figure size 432x288 with 1 Axes>"
      ]
     },
     "metadata": {
      "needs_background": "light"
     },
     "output_type": "display_data"
    }
   ],
   "source": [
    "result.plot(xscale='log', yscale='log')"
   ]
  },
  {
   "cell_type": "code",
   "execution_count": 34,
   "metadata": {},
   "outputs": [
    {
     "name": "stderr",
     "output_type": "stream",
     "text": [
      "c:\\users\\user1\\anaconda3\\envs\\kittens\\lib\\site-packages\\chempy\\kinetics\\analysis.py:86: RuntimeWarning: divide by zero encountered in true_divide\n",
      "  factor = 1/xyp[1][:, rsys.as_substance_index(sk)] if relative else 1\n"
     ]
    },
    {
     "data": {
      "image/png": "[encoded data removed]",
      "text/plain": [
       "<Figure size 1008x432 with 4 Axes>"
      ]
     },
     "metadata": {
      "needs_background": "light"
     },
     "output_type": "display_data"
    }
   ],
   "source": [
    "# PLOTTING THE REACTION CONTRIBUTIONS DIRECTLY FROM CHEMPY ROBERTSON\n",
    "fig, axes = plt.subplots(2, 2, figsize=(14, 6))\n",
    "plot_reaction_contributions(result, rsys, extra['rate_exprs_cb'], 'AB', axes=axes[0, :])\n",
    "plot_reaction_contributions(result, rsys, extra['rate_exprs_cb'], 'AB', axes=axes[1, :],\n",
    "                            relative=True, yscale='linear')\n",
    "plt.tight_layout()\n",
    "\n"
   ]
  },
  {
   "cell_type": "code",
   "execution_count": 35,
   "metadata": {},
   "outputs": [],
   "source": [
    "str_massaction = \"\"\"\n",
    "A -> B + C; 'k1'\n",
    "A -> D + E; 'k2'\n",
    "\"\"\""
   ]
  },
  {
   "cell_type": "code",
   "execution_count": 36,
   "metadata": {},
   "outputs": [],
   "source": [
    "rsys3 = ReactionSystem.from_string(str_massaction, substance_factory=lambda formula: Substance(formula))"
   ]
  },
  {
   "cell_type": "code",
   "execution_count": 37,
   "metadata": {},
   "outputs": [
    {
     "data": {
      "text/plain": [
       "\"\\nA -> B + C; 'k1'\\nA -> D + E; 'k2'\\n\""
      ]
     },
     "execution_count": 37,
     "metadata": {},
     "output_type": "execute_result"
    }
   ],
   "source": [
    "str_massaction"
   ]
  },
  {
   "cell_type": "code",
   "execution_count": 38,
   "metadata": {},
   "outputs": [
    {
     "data": {
      "text/html": [
       "<table class=\"chempy_ReactionSystem chempy_2169345885968\"><tr><th style=\"text-align:center;\" colspan=\"5\"></th></tr><tr class=\"chempy_2169345885968_0\"><td style=\"text-align:right;\"><span class=\"chempy_A\" style=\"background-color:#ffb6c1; border: 1px solid #c71585; border-radius: 5pt; padding: 0pt 3pt 0pt 3pt;\">A</span></td><td style=\"text-align:center;\">&rarr;</td><td style=\"text-align:left;\"><span class=\"chempy_B\" style=\"background-color:#90ee90; border: 1px solid #008000; border-radius: 5pt; padding: 0pt 3pt 0pt 3pt;\">B</span> + <span class=\"chempy_C\" style=\"background-color:#90ee90; border: 1px solid #008000; border-radius: 5pt; padding: 0pt 3pt 0pt 3pt;\">C</span></td><td style=\"text-align:left;\">&nbsp;MassAction((), ('k1',))</td></tr>\n",
       "\n",
       "<tr class=\"chempy_2169345885968_1\"><td style=\"text-align:right;\"><span class=\"chempy_A\" style=\"background-color:#ffb6c1; border: 1px solid #c71585; border-radius: 5pt; padding: 0pt 3pt 0pt 3pt;\">A</span></td><td style=\"text-align:center;\">&rarr;</td><td style=\"text-align:left;\"><span class=\"chempy_D\" style=\"background-color:#90ee90; border: 1px solid #008000; border-radius: 5pt; padding: 0pt 3pt 0pt 3pt;\">D</span> + <span class=\"chempy_E\" style=\"background-color:#90ee90; border: 1px solid #008000; border-radius: 5pt; padding: 0pt 3pt 0pt 3pt;\">E</span></td><td style=\"text-align:left;\">&nbsp;MassAction((), ('k2',))</td></tr></table><script type=\"text/javascript\">\n",
       "var cls_names_substances = [\"chempy_A\", \"chempy_B\", \"chempy_C\", \"chempy_D\", \"chempy_E\"];\n",
       "var substance_row_cls_irrel = {\"chempy_A\": [], \"chempy_B\": [\"chempy_2169345885968_1\"], \"chempy_C\": [\"chempy_2169345885968_1\"], \"chempy_D\": [\"chempy_2169345885968_0\"], \"chempy_E\": [\"chempy_2169345885968_0\"]};\n",
       "var elms = {};\n",
       "var n = {}, nsubstances = cls_names_substances.length;\n",
       "var nirrel = {};\n",
       "function changeColor(classname, color) {\n",
       "    var curN = n[classname];\n",
       "    for(var i = 0; i < curN; i++) {\n",
       "        elms[classname][i].style.backgroundColor = color;\n",
       "    }\n",
       "}\n",
       "function toggleVisibility(classname_substance) {\n",
       "    var curN = nirrel[classname_substance];\n",
       "    for (var i=0; i<curN; i++) {\n",
       "        var objs = document.getElementsByClassName(substance_row_cls_irrel[classname_substance][i]);\n",
       "        for (var j=0; j<objs.length; ++j){\n",
       "            objs[j].style.display = objs[j].style.display == \"none\" ? \"table-row\" : \"none\";\n",
       "        }\n",
       "    }\n",
       "}\n",
       "function resetTab(tab){\n",
       "    tab.style.border = \"0px\";\n",
       "    var rows = tab.getElementsByTagName('tr');\n",
       "    [].forEach.call(rows, function(row){\n",
       "        row.style.display = \"table-row\";\n",
       "    });\n",
       "    tab.getElementsByTagName('th')[0].innerHTML = tab.ori_header +\n",
       "        \"<br>(click on species to show a subset of reactions)\";\n",
       "};\n",
       "\n",
       "for(var k = 0; k < nsubstances; k++) {\n",
       "    var curClass = cls_names_substances[k];\n",
       "    var curIrrel = substance_row_cls_irrel[k];\n",
       "    elms[curClass] = document.getElementsByClassName(curClass);\n",
       "    n[curClass] = elms[curClass].length;\n",
       "    nirrel[curClass] = substance_row_cls_irrel[curClass].length;\n",
       "    var curN = n[curClass];\n",
       "    for(var i = 0; i < curN; i++) {\n",
       "        elms[curClass][i].onmouseover = function() {\n",
       "            changeColor(this.className, \"LightBlue\");\n",
       "        };\n",
       "        elms[curClass][i].onmouseout = function() {\n",
       "            changeColor(this.className, \"inherit\");\n",
       "        };\n",
       "        elms[curClass][i].onclick = function() {\n",
       "            var tab = this.closest(\"table\");\n",
       "            resetTab(tab);\n",
       "            tab.style.border = \"1px dashed #000000\";\n",
       "            toggleVisibility(this.className);\n",
       "            tab.getElementsByTagName('th')[0].innerHTML = tab.ori_header +\n",
       "                 \"<br>Only showing reactions involving: \" + this.innerHTML +\n",
       "                 \" (double-click to reset)\";\n",
       "        };\n",
       "    }\n",
       "};\n",
       "var chempy_tabs = document.querySelectorAll('table.chempy_2169345885968');\n",
       "[].forEach.call(chempy_tabs, function(tab){\n",
       "    tab.ori_header = tab.getElementsByTagName('th')[0].innerHTML;\n",
       "    tab.ondblclick = function(){\n",
       "        resetTab(this);\n",
       "        this.scrollIntoView();\n",
       "    };\n",
       "});\n",
       "[].forEach.call(chempy_tabs, function(tab){\n",
       "    resetTab(tab);\n",
       "});\n",
       "</script>"
      ],
      "text/plain": [
       "<chempy.reactionsystem.ReactionSystem at 0x1f917174710>"
      ]
     },
     "execution_count": 38,
     "metadata": {},
     "output_type": "execute_result"
    }
   ],
   "source": [
    "rsys3"
   ]
  },
  {
   "cell_type": "code",
   "execution_count": 39,
   "metadata": {},
   "outputs": [
    {
     "data": {
      "text/plain": [
       "([], OrderedDict([('k1', None), ('k2', None)]))"
      ]
     },
     "execution_count": 39,
     "metadata": {},
     "output_type": "execute_result"
    }
   ],
   "source": [
    "odesys3, extra3 = get_odesys(rsys3, include_params=False, lower_bounds=[0, 0, 0,0,0])\n",
    "extra3['param_keys'], extra3['unique']"
   ]
  },
  {
   "cell_type": "code",
   "execution_count": 40,
   "metadata": {},
   "outputs": [
    {
     "data": {
      "text/plain": [
       "((-p_0*y_0 - p_1*y_0, p_0*y_0, p_0*y_0, p_1*y_0, p_1*y_0),\n",
       " (p_0, p_1),\n",
       " ('A', 'B', 'C', 'D', 'E'),\n",
       " ('k1', 'k2'))"
      ]
     },
     "execution_count": 40,
     "metadata": {},
     "output_type": "execute_result"
    }
   ],
   "source": [
    "odesys3.exprs, odesys3.params, odesys3.names, odesys3.param_names"
   ]
  },
  {
   "cell_type": "code",
   "execution_count": 41,
   "metadata": {},
   "outputs": [
    {
     "data": {
      "application/vnd.jupyter.widget-view+json": {
       "model_id": "d94cb4666c3d45ef915d3b7784fb3567",
       "version_major": 2,
       "version_minor": 0
      },
      "text/plain": [
       "interactive(children=(FloatSlider(value=1.0, description='A0', max=3.0, min=-1.0), FloatSlider(value=0.0, desc…"
      ]
     },
     "metadata": {},
     "output_type": "display_data"
    },
    {
     "data": {
      "text/plain": [
       "<function __main__.integrate_and_plot(A0=1.0, B0=0.0, C0=0.0, D0=0.0, E0=0.0, lg_k1=-2, lg_k2=4, lg_tend=9)>"
      ]
     },
     "execution_count": 41,
     "metadata": {},
     "output_type": "execute_result"
    }
   ],
   "source": [
    "def integrate_and_plot(A0=1.0, B0=0.0, C0=0.0, D0=0.0, E0=0.0, lg_k1=-2, lg_k2=4, lg_tend=9):\n",
    "    plt.figure(figsize=(14, 4))\n",
    "    tout, yout, info = odesys3.integrate(\n",
    "        10**lg_tend, {'A': A0, 'B': B0, 'C': C0,'D': D0, 'E': E0},\n",
    "        {'k1': 10**lg_k1, 'k2': 10**lg_k2},\n",
    "        integrator='cvode', nsteps=3000)\n",
    "    plt.subplot(1, 2, 1)\n",
    "    odesys3.plot_result(xscale='log', yscale='log')\n",
    "    plt.legend(loc='best')\n",
    "    plt.subplot(1, 2, 2)\n",
    "    plt.plot(tout[tout<.05], yout[tout<.05, odesys3.names.index('B')])\n",
    "    _ = plt.legend('best')\n",
    "interact(integrate_and_plot) #, **kw)"
   ]
  },
  {
   "cell_type": "code",
   "execution_count": 42,
   "metadata": {},
   "outputs": [
    {
     "name": "stdout",
     "output_type": "stream",
     "text": [
      "(-k1*y_0 - k2*y_0, k1*y_0, k1*y_0, k2*y_0, k2*y_0)\n",
      "(k1, k2)\n",
      "('A', 'B', 'C', 'D', 'E')\n",
      "()\n"
     ]
    }
   ],
   "source": [
    "# We could also have used SymPy to construct symbolic rates:\n",
    "import sympy\n",
    "rsys_sym = ReactionSystem.from_string(\"\"\"\n",
    "A -> B + C; sp.Symbol('k1')\n",
    "A -> D + E; sp.Symbol('k2')\n",
    "\"\"\", rxn_parse_kwargs=dict(globals_={'sp': sympy}), substance_factory=lambda formula: Substance(formula))\n",
    "odesys_sym, _ = get_odesys(rsys_sym, params=True)\n",
    "for attr in 'exprs params names param_names'.split():\n",
    "    print(getattr(odesys_sym, attr))"
   ]
  },
  {
   "cell_type": "markdown",
   "metadata": {},
   "source": [
    "For larger systems it is easy to loose track of what substances are actually playing a part, here the html tables can help (note the yellow background color):"
   ]
  },
  {
   "cell_type": "code",
   "execution_count": 43,
   "metadata": {},
   "outputs": [
    {
     "data": {
      "text/html": [
       "<table><tr><td><span class=\"chempy_A\" style=\"background-color:#ffb6c1; border: 1px solid #c71585; border-radius: 5pt; padding: 0pt 3pt 0pt 3pt;\">A</span></td><td ><a title=\"0: A → B + C; 0.04\">R1: A cons.</a>, <a title=\"1: A → D + E; 0.03\">R2: A cons.</a></td></tr>\n",
       "<tr><td><span class=\"chempy_B\" style=\"background-color:#90ee90; border: 1px solid #008000; border-radius: 5pt; padding: 0pt 3pt 0pt 3pt;\">B</span></td><td ></td></tr>\n",
       "<tr><td><span class=\"chempy_C\" style=\"background-color:#90ee90; border: 1px solid #008000; border-radius: 5pt; padding: 0pt 3pt 0pt 3pt;\">C</span></td><td ></td></tr>\n",
       "<tr><td><span class=\"chempy_D\" style=\"background-color:#90ee90; border: 1px solid #008000; border-radius: 5pt; padding: 0pt 3pt 0pt 3pt;\">D</span></td><td ></td></tr>\n",
       "<tr><td><span class=\"chempy_E\" style=\"background-color:#90ee90; border: 1px solid #008000; border-radius: 5pt; padding: 0pt 3pt 0pt 3pt;\">E</span></td><td ></td></tr>\n",
       "<tr><td><span class=\"chempy_F\" style=\"border-radius: 5pt; padding: 0pt 3pt 0pt 3pt;\">F</span></td><td style=\"background-color: #eee8aa;\"></td></tr></table>"
      ],
      "text/plain": [
       "<chempy.printing.tables.UnimolecularTable at 0x1f9172787f0>"
      ]
     },
     "execution_count": 43,
     "metadata": {},
     "output_type": "execute_result"
    }
   ],
   "source": [
    "rsys.substances['F'] = F\n",
    "uni, not_uni = UnimolecularTable.from_ReactionSystem(rsys)\n",
    "uni"
   ]
  },
  {
   "cell_type": "code",
   "execution_count": 44,
   "metadata": {},
   "outputs": [
    {
     "data": {
      "text/html": [
       "<table><th></th><th><span class=\"chempy_A\" style=\"background-color:#ffb6c1; border: 1px solid #c71585; border-radius: 5pt; padding: 0pt 3pt 0pt 3pt;\">A</span></th><th><span class=\"chempy_B\" style=\"background-color:#90ee90; border: 1px solid #008000; border-radius: 5pt; padding: 0pt 3pt 0pt 3pt;\">B</span></th><th><span class=\"chempy_C\" style=\"background-color:#90ee90; border: 1px solid #008000; border-radius: 5pt; padding: 0pt 3pt 0pt 3pt;\">C</span></th><th><span class=\"chempy_D\" style=\"background-color:#90ee90; border: 1px solid #008000; border-radius: 5pt; padding: 0pt 3pt 0pt 3pt;\">D</span></th><th><span class=\"chempy_E\" style=\"background-color:#90ee90; border: 1px solid #008000; border-radius: 5pt; padding: 0pt 3pt 0pt 3pt;\">E</span></th><th><span class=\"chempy_F\" style=\"border-radius: 5pt; padding: 0pt 3pt 0pt 3pt;\">F</span></th>\n",
       "<tr><td><span class=\"chempy_A\" style=\"background-color:#ffb6c1; border: 1px solid #c71585; border-radius: 5pt; padding: 0pt 3pt 0pt 3pt;\">A</span></td><td ></td><td ></td><td ></td><td ></td><td ></td><td style=\"background-color: #eee8aa;\"></td></tr>\n",
       "<tr><td><span class=\"chempy_B\" style=\"background-color:#90ee90; border: 1px solid #008000; border-radius: 5pt; padding: 0pt 3pt 0pt 3pt;\">B</span></td><td >-</td><td ></td><td ></td><td ></td><td ></td><td style=\"background-color: #eee8aa;\"></td></tr>\n",
       "<tr><td><span class=\"chempy_C\" style=\"background-color:#90ee90; border: 1px solid #008000; border-radius: 5pt; padding: 0pt 3pt 0pt 3pt;\">C</span></td><td >-</td><td >-</td><td ></td><td ></td><td ></td><td style=\"background-color: #eee8aa;\"></td></tr>\n",
       "<tr><td><span class=\"chempy_D\" style=\"background-color:#90ee90; border: 1px solid #008000; border-radius: 5pt; padding: 0pt 3pt 0pt 3pt;\">D</span></td><td >-</td><td >-</td><td >-</td><td ></td><td ></td><td style=\"background-color: #eee8aa;\"></td></tr>\n",
       "<tr><td><span class=\"chempy_E\" style=\"background-color:#90ee90; border: 1px solid #008000; border-radius: 5pt; padding: 0pt 3pt 0pt 3pt;\">E</span></td><td >-</td><td >-</td><td >-</td><td >-</td><td ></td><td style=\"background-color: #eee8aa;\"></td></tr>\n",
       "<tr><td><span class=\"chempy_F\" style=\"border-radius: 5pt; padding: 0pt 3pt 0pt 3pt;\">F</span></td><td >-</td><td >-</td><td >-</td><td >-</td><td >-</td><td style=\"background-color: #eee8aa;\"></td></tr></table>"
      ],
      "text/plain": [
       "<chempy.printing.tables.BimolecularTable at 0x1f917cc62b0>"
      ]
     },
     "execution_count": 44,
     "metadata": {},
     "output_type": "execute_result"
    }
   ],
   "source": [
    "bi, not_bi = BimolecularTable.from_ReactionSystem(rsys)\n",
    "bi"
   ]
  },
  {
   "cell_type": "code",
   "execution_count": 45,
   "metadata": {},
   "outputs": [],
   "source": [
    "# # Saving a Picture \n",
    "# rsys2graph(rsys, 'pciture.png', save='.')\n",
    "# from IPython.display import Image; Image('picture.png')"
   ]
  },
  {
   "cell_type": "code",
   "execution_count": null,
   "metadata": {},
   "outputs": [],
   "source": []
  },
  {
   "cell_type": "code",
   "execution_count": null,
   "metadata": {},
   "outputs": [],
   "source": []
  },
  {
   "cell_type": "code",
   "execution_count": null,
   "metadata": {},
   "outputs": [],
   "source": []
  },
  {
   "cell_type": "code",
   "execution_count": null,
   "metadata": {},
   "outputs": [],
   "source": []
  },
  {
   "cell_type": "code",
   "execution_count": null,
   "metadata": {},
   "outputs": [],
   "source": []
  },
  {
   "cell_type": "code",
   "execution_count": null,
   "metadata": {},
   "outputs": [],
   "source": []
  },
  {
   "cell_type": "code",
   "execution_count": null,
   "metadata": {},
   "outputs": [],
   "source": []
  },
  {
   "cell_type": "code",
   "execution_count": null,
   "metadata": {},
   "outputs": [],
   "source": []
  },
  {
   "cell_type": "code",
   "execution_count": null,
   "metadata": {},
   "outputs": [],
   "source": []
  },
  {
   "cell_type": "code",
   "execution_count": null,
   "metadata": {},
   "outputs": [],
   "source": []
  },
  {
   "cell_type": "code",
   "execution_count": null,
   "metadata": {},
   "outputs": [],
   "source": []
  },
  {
   "cell_type": "code",
   "execution_count": null,
   "metadata": {},
   "outputs": [],
   "source": []
  },
  {
   "cell_type": "code",
   "execution_count": 46,
   "metadata": {},
   "outputs": [],
   "source": [
    "## FROM CHEMPY ARRHENIUS"
   ]
  },
  {
   "cell_type": "markdown",
   "metadata": {},
   "source": [
    "This notebook shows how one can explore the impact of a certain parameter on a kinetic model. We will also use units explicitly for our parameters.\n"
   ]
  },
  {
   "cell_type": "code",
   "execution_count": 47,
   "metadata": {},
   "outputs": [],
   "source": [
    "from collections import defaultdict\n",
    "from itertools import chain\n",
    "import numpy as np\n",
    "import sympy as sp\n",
    "import matplotlib.pyplot as plt\n",
    "from ipywidgets import interact\n",
    "from chempy import Substance, Reaction, ReactionSystem\n",
    "from chempy.kinetics.rates import Arrhenius, MassAction\n",
    "from chempy.kinetics.ode import get_odesys\n",
    "from chempy.printing.numbers import number_to_scientific_latex\n",
    "from chempy.units import SI_base_registry, default_units as u\n",
    "sp.init_printing()\n",
    "%matplotlib inline"
   ]
  },
  {
   "cell_type": "code",
   "execution_count": 48,
   "metadata": {},
   "outputs": [
    {
     "data": {
      "text/html": [
       "<table class=\"chempy_ReactionSystem chempy_2169357769640\"><tr><th style=\"text-align:center;\" colspan=\"5\"></th></tr><tr class=\"chempy_2169357769640_0\"><td style=\"text-align:right;\"><span class=\"chempy_A\" style=\"background-color:#ffb6c1; border: 1px solid #c71585; border-radius: 5pt; padding: 0pt 3pt 0pt 3pt;\">A</span></td><td style=\"text-align:center;\">&rarr;</td><td style=\"text-align:left;\"><span class=\"chempy_B\" style=\"border-radius: 5pt; padding: 0pt 3pt 0pt 3pt;\">B</span></td><td style=\"text-align:left;\">&nbsp;MassAction((Arrhenius((), ('A1', 'Ea_R_1')),))</td></tr>\n",
       "\n",
       "<tr class=\"chempy_2169357769640_1\"><td style=\"text-align:right;\"><span class=\"chempy_B\" style=\"border-radius: 5pt; padding: 0pt 3pt 0pt 3pt;\">B</span></td><td style=\"text-align:center;\">&rarr;</td><td style=\"text-align:left;\"><span class=\"chempy_C\" style=\"background-color:#90ee90; border: 1px solid #008000; border-radius: 5pt; padding: 0pt 3pt 0pt 3pt;\">C</span></td><td style=\"text-align:left;\">&nbsp;MassAction((Arrhenius((), ('A2', 'Ea_R_2')),))</td></tr></table><script type=\"text/javascript\">\n",
       "var cls_names_substances = [\"chempy_A\", \"chempy_B\", \"chempy_C\"];\n",
       "var substance_row_cls_irrel = {\"chempy_A\": [\"chempy_2169357769640_1\"], \"chempy_B\": [], \"chempy_C\": [\"chempy_2169357769640_0\"]};\n",
       "var elms = {};\n",
       "var n = {}, nsubstances = cls_names_substances.length;\n",
       "var nirrel = {};\n",
       "function changeColor(classname, color) {\n",
       "    var curN = n[classname];\n",
       "    for(var i = 0; i < curN; i++) {\n",
       "        elms[classname][i].style.backgroundColor = color;\n",
       "    }\n",
       "}\n",
       "function toggleVisibility(classname_substance) {\n",
       "    var curN = nirrel[classname_substance];\n",
       "    for (var i=0; i<curN; i++) {\n",
       "        var objs = document.getElementsByClassName(substance_row_cls_irrel[classname_substance][i]);\n",
       "        for (var j=0; j<objs.length; ++j){\n",
       "            objs[j].style.display = objs[j].style.display == \"none\" ? \"table-row\" : \"none\";\n",
       "        }\n",
       "    }\n",
       "}\n",
       "function resetTab(tab){\n",
       "    tab.style.border = \"0px\";\n",
       "    var rows = tab.getElementsByTagName('tr');\n",
       "    [].forEach.call(rows, function(row){\n",
       "        row.style.display = \"table-row\";\n",
       "    });\n",
       "    tab.getElementsByTagName('th')[0].innerHTML = tab.ori_header +\n",
       "        \"<br>(click on species to show a subset of reactions)\";\n",
       "};\n",
       "\n",
       "for(var k = 0; k < nsubstances; k++) {\n",
       "    var curClass = cls_names_substances[k];\n",
       "    var curIrrel = substance_row_cls_irrel[k];\n",
       "    elms[curClass] = document.getElementsByClassName(curClass);\n",
       "    n[curClass] = elms[curClass].length;\n",
       "    nirrel[curClass] = substance_row_cls_irrel[curClass].length;\n",
       "    var curN = n[curClass];\n",
       "    for(var i = 0; i < curN; i++) {\n",
       "        elms[curClass][i].onmouseover = function() {\n",
       "            changeColor(this.className, \"LightBlue\");\n",
       "        };\n",
       "        elms[curClass][i].onmouseout = function() {\n",
       "            changeColor(this.className, \"inherit\");\n",
       "        };\n",
       "        elms[curClass][i].onclick = function() {\n",
       "            var tab = this.closest(\"table\");\n",
       "            resetTab(tab);\n",
       "            tab.style.border = \"1px dashed #000000\";\n",
       "            toggleVisibility(this.className);\n",
       "            tab.getElementsByTagName('th')[0].innerHTML = tab.ori_header +\n",
       "                 \"<br>Only showing reactions involving: \" + this.innerHTML +\n",
       "                 \" (double-click to reset)\";\n",
       "        };\n",
       "    }\n",
       "};\n",
       "var chempy_tabs = document.querySelectorAll('table.chempy_2169357769640');\n",
       "[].forEach.call(chempy_tabs, function(tab){\n",
       "    tab.ori_header = tab.getElementsByTagName('th')[0].innerHTML;\n",
       "    tab.ondblclick = function(){\n",
       "        resetTab(this);\n",
       "        this.scrollIntoView();\n",
       "    };\n",
       "});\n",
       "[].forEach.call(chempy_tabs, function(tab){\n",
       "    resetTab(tab);\n",
       "});\n",
       "</script>"
      ],
      "text/plain": [
       "<chempy.reactionsystem.ReactionSystem at 0x1f917cc9ba8>"
      ]
     },
     "execution_count": 48,
     "metadata": {},
     "output_type": "execute_result"
    }
   ],
   "source": [
    "A, B, C = map(Substance, 'ABC')\n",
    "r1 = Reaction({'A'}, {'B'}, MassAction(Arrhenius(unique_keys=('A1', 'Ea_R_1'))))\n",
    "r2 = Reaction({'B'}, {'C'}, MassAction(Arrhenius(unique_keys=('A2', 'Ea_R_2'))))\n",
    "rsys = ReactionSystem([r1, r2])\n",
    "rsys"
   ]
  },
  {
   "cell_type": "markdown",
   "metadata": {},
   "source": [
    "\"Arrhenius\" behaviour means that the rate of reaction depends exponentially on the inverse absolute temperature.\n",
    "\n",
    "We will use units on all our parameters in this notebook. This will prevent us from incorrect conversions or using parameters of the wrong dimensionality where they don't belong:\n"
   ]
  },
  {
   "cell_type": "code",
   "execution_count": 49,
   "metadata": {},
   "outputs": [
    {
     "data": {
      "text/plain": [
       "{'B': array(0.26230938) * M/s,\n",
       " 'A': array(-0.26230938) * M/s,\n",
       " 'C': array(0.) * M/s}"
      ]
     },
     "execution_count": 49,
     "metadata": {},
     "output_type": "execute_result"
    }
   ],
   "source": [
    "params = {'A1': 1e11/u.s, 'A2': 2e11/u.s, 'Ea_R_1': 8e3*u.K, 'Ea_R_2': 8.5e3*u.K, 'temperature': 300*u.K}\n",
    "c0 = defaultdict(lambda: 0*u.molar, {'A': 1*u.molar})\n",
    "variables = c0.copy()\n",
    "variables.update(params)\n",
    "rsys.rates(variables)"
   ]
  },
  {
   "cell_type": "code",
   "execution_count": 50,
   "metadata": {},
   "outputs": [
    {
     "name": "stdout",
     "output_type": "stream",
     "text": [
      "{y_0: 'A', y_1: 'B', y_2: 'C'}\n",
      "{p_0: 'temperature', p_1: 'A1', p_2: 'Ea_R_1', p_3: 'A2', p_4: 'Ea_R_2'}\n"
     ]
    },
    {
     "data": {
      "image/png": "[encoded data removed]",
      "text/latex": [
       "$\\displaystyle \\left( - p_{1} y_{0} e^{- \\frac{p_{2}}{p_{0}}}, \\  p_{1} y_{0} e^{- \\frac{p_{2}}{p_{0}}} - p_{3} y_{1} e^{- \\frac{p_{4}}{p_{0}}}, \\  p_{3} y_{1} e^{- \\frac{p_{4}}{p_{0}}}\\right)$"
      ],
      "text/plain": [
       "⎛        -p₂          -p₂           -p₄          -p₄ ⎞\n",
       "⎜        ────         ────          ────         ────⎟\n",
       "⎜         p₀           p₀            p₀           p₀ ⎟\n",
       "⎝-p₁⋅y₀⋅ℯ    , p₁⋅y₀⋅ℯ     - p₃⋅y₁⋅ℯ    , p₃⋅y₁⋅ℯ    ⎠"
      ]
     },
     "execution_count": 50,
     "metadata": {},
     "output_type": "execute_result"
    }
   ],
   "source": [
    "odesys, extra = get_odesys(rsys, include_params=False, lower_bounds=0)\n",
    "print(dict(zip(odesys.dep, odesys.names)))\n",
    "print(dict(zip(odesys.params, odesys.param_names)))\n",
    "odesys.exprs"
   ]
  },
  {
   "cell_type": "markdown",
   "metadata": {},
   "source": [
    "Let's look at the influence of Ea_R_2, we will choose three temperatures: 8100, 8200 and 8300 K (this is all fictive so never mind the very high temperatures):\n"
   ]
  },
  {
   "cell_type": "code",
   "execution_count": 51,
   "metadata": {},
   "outputs": [],
   "source": [
    "params2 = params.copy()\n",
    "pk = 'Ea_R_2'\n",
    "params2[pk] = [8.1e3, 8.2e3, 8.3e3]*u.K"
   ]
  },
  {
   "cell_type": "markdown",
   "metadata": {},
   "source": [
    "Running the integration and plotting the result"
   ]
  },
  {
   "cell_type": "code",
   "execution_count": 52,
   "metadata": {
    "scrolled": false
   },
   "outputs": [
    {
     "data": {
      "image/png": "[encoded data removed]",
      "text/plain": [
       "<Figure size 1008x288 with 3 Axes>"
      ]
     },
     "metadata": {
      "needs_background": "light"
     },
     "output_type": "display_data"
    }
   ],
   "source": [
    "res2 = odesys.integrate(7*u.s, c0, params2, integrator='cvode')\n",
    "fig, axes = plt.subplots(1, len(res2), figsize=(14, 4))\n",
    "for r, ax in zip(res2, axes):\n",
    "    r.plot(ax=ax)\n",
    "    ax.set_title('$%s = %s$' % (pk.replace('_', '\\\\_'), number_to_scientific_latex(r.named_param('Ea_R_2'))))\n"
   ]
  },
  {
   "cell_type": "markdown",
   "metadata": {},
   "source": [
    "We can also use ipywidgets to get interactive controls:\n"
   ]
  },
  {
   "cell_type": "code",
   "execution_count": 53,
   "metadata": {},
   "outputs": [
    {
     "data": {
      "application/vnd.jupyter.widget-view+json": {
       "model_id": "9b9d0e592bfc4fea98bafdc5f825a028",
       "version_major": 2,
       "version_minor": 0
      },
      "text/plain": [
       "interactive(children=(IntSlider(value=25, description='T_C', max=75, min=-25), Output()), _dom_classes=('widge…"
      ]
     },
     "metadata": {},
     "output_type": "display_data"
    },
    {
     "data": {
      "text/plain": [
       "<function __main__.integrate_and_plot(T_C=25)>"
      ]
     },
     "execution_count": 53,
     "metadata": {},
     "output_type": "execute_result"
    }
   ],
   "source": [
    "def integrate_and_plot(T_C=25):\n",
    "    res = odesys.integrate(7*u.s, c0, dict(params, temperature=(T_C+273.15)*u.K), integrator='cvode')\n",
    "    res.plot()\n",
    "interact(integrate_and_plot)"
   ]
  },
  {
   "cell_type": "code",
   "execution_count": null,
   "metadata": {},
   "outputs": [],
   "source": []
  },
  {
   "cell_type": "code",
   "execution_count": null,
   "metadata": {},
   "outputs": [],
   "source": []
  }
 ],
 "metadata": {
  "kernelspec": {
   "display_name": "Python 3",
   "language": "python",
   "name": "python3"
  },
  "language_info": {
   "codemirror_mode": {
    "name": "ipython",
    "version": 3
   },
   "file_extension": ".py",
   "mimetype": "text/x-python",
   "name": "python",
   "nbconvert_exporter": "python",
   "pygments_lexer": "ipython3",
   "version": "3.7.2"
  }
 },
 "nbformat": 4,
 "nbformat_minor": 2
}
